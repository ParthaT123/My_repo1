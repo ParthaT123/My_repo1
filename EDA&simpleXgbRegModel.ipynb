{
  "cells": [
    {
      "cell_type": "markdown",
      "metadata": {
        "id": "view-in-github",
        "colab_type": "text"
      },
      "source": [
        "<a href=\"https://colab.research.google.com/github/ParthaT123/My_repo1/blob/main/EDA%26simpleXgbRegModel.ipynb\" target=\"_parent\"><img src=\"https://colab.research.google.com/assets/colab-badge.svg\" alt=\"Open In Colab\"/></a>"
      ]
    },
    {
      "cell_type": "code",
      "execution_count": null,
      "metadata": {
        "id": "cTlfuQnYZL36"
      },
      "outputs": [],
      "source": [
        "## Import some libraries\n",
        "import numpy as np\n",
        "import pandas as pd\n",
        "import datetime\n",
        "import matplotlib.pyplot as plt\n",
        "from matplotlib.pyplot import figure\n",
        "import seaborn as sns"
      ]
    },
    {
      "cell_type": "code",
      "execution_count": null,
      "metadata": {
        "colab": {
          "base_uri": "https://localhost:8080/",
          "height": 34
        },
        "id": "xWhKio0dZRGj",
        "outputId": "6969fb1b-7938-4154-fafc-3929846579ec"
      },
      "outputs": [
        {
          "name": "stdout",
          "output_type": "stream",
          "text": [
            "C:\\Users\\parth\\Downloads\n"
          ]
        }
      ],
      "source": [
        "## Check the directory\n",
        "import os\n",
        "\n",
        "path = os.getcwd()\n",
        "\n",
        "print(path)"
      ]
    },
    {
      "cell_type": "code",
      "execution_count": null,
      "metadata": {
        "id": "ycMKL0ZUZUIH"
      },
      "outputs": [],
      "source": [
        "import warnings\n",
        "warnings.filterwarnings(\"ignore\")"
      ]
    },
    {
      "cell_type": "code",
      "execution_count": null,
      "metadata": {
        "id": "mKOXJn3gZVXp"
      },
      "outputs": [],
      "source": [
        "# ## For Gdrive and Colab\n",
        "\n",
        "# # Code to read csv file into Colaboratory:\n",
        "# # !pip install -U -q PyDrive\n",
        "# from pydrive.auth import GoogleAuth\n",
        "# from pydrive.drive import GoogleDrive\n",
        "# from google.colab import auth\n",
        "# from oauth2client.client import GoogleCredentials"
      ]
    },
    {
      "cell_type": "code",
      "execution_count": null,
      "metadata": {
        "id": "Yro5FdNmZVaQ"
      },
      "outputs": [],
      "source": [
        "# # Authenticate and create the PyDrive client.\n",
        "# auth.authenticate_user()\n",
        "# gauth = GoogleAuth()\n",
        "# gauth.credentials = GoogleCredentials.get_application_default()\n",
        "# drive = GoogleDrive(gauth)"
      ]
    },
    {
      "cell_type": "code",
      "execution_count": null,
      "metadata": {
        "id": "je-ol3AbZVdK"
      },
      "outputs": [],
      "source": [
        "# trn_link= 'https://drive.google.com/open?id=1Sn6JgwidSOQJwFcrk0gTV36nLXF3R52K'\n",
        "# # https://drive.google.com/file/d/1Sn6JgwidSOQJwFcrk0gTV36nLXF3R52K/view?usp=sharing\n",
        "# # tst_link = 'https://drive.google.com/open?id=11xTe8DtaWiDw6OMpWoWOWSmt0qOdfDWE'\n",
        "# # https://drive.google.com/file/d/1zFBEiCJ081wRtXBdPjOn90bVQ9sa-ysY/view?usp=sharing\n",
        "# # https://drive.google.com/file/d/11xTe8DtaWiDw6OMpWoWOWSmt0qOdfDWE/view?usp=sharing"
      ]
    },
    {
      "cell_type": "code",
      "execution_count": null,
      "metadata": {
        "colab": {
          "base_uri": "https://localhost:8080/",
          "height": 34
        },
        "id": "BGn0Khc9ZVfr",
        "outputId": "60cc0a0e-e863-40b1-c20d-f8a67c1529ea"
      },
      "outputs": [
        {
          "name": "stdout",
          "output_type": "stream",
          "text": [
            "1Sn6JgwidSOQJwFcrk0gTV36nLXF3R52K\n"
          ]
        }
      ],
      "source": [
        "# fluff, id = trn_link.split('=')\n",
        "# print (id) # Verify that you have everything after '='"
      ]
    },
    {
      "cell_type": "code",
      "execution_count": null,
      "metadata": {
        "colab": {
          "base_uri": "https://localhost:8080/",
          "height": 35
        },
        "id": "xqe_YUS9at2v",
        "outputId": "aef384d4-b678-4934-b79e-6f8cb28b54c8"
      },
      "outputs": [
        {
          "data": {
            "application/vnd.google.colaboratory.intrinsic+json": {
              "type": "string"
            },
            "text/plain": [
              "'/content'"
            ]
          },
          "execution_count": 37,
          "metadata": {
            "tags": []
          },
          "output_type": "execute_result"
        }
      ],
      "source": [
        "pwd"
      ]
    },
    {
      "cell_type": "code",
      "execution_count": null,
      "metadata": {
        "id": "P7VdHtKoZVjP"
      },
      "outputs": [],
      "source": [
        "train = pd.read_csv(\"C:/Users/parth/Downloads/Sample_Data (1).csv\")\n",
        "# train = pd.read_excel(r'C:\\Users\\pronay_sarkar\\Documents\\Pronay_PG Analytics\\Projects & Adhocs\\Commodity Pricing\\Model Details\\Sample_Data.xlsx', sheet_name = 'Sample Data', skiprows = 0)\n",
        "# Dataset is now stored in a Pandas Dataframe\n",
        "# downloaded_trn = drive.CreateFile({'id':id}) \n",
        "# downloaded_trn.GetContentFile('Sample_Data.csv')  \n",
        "# train = pd.read_csv('Sample_Data.csv')"
      ]
    },
    {
      "cell_type": "code",
      "execution_count": null,
      "metadata": {
        "id": "DPZxHr_jMR7k"
      },
      "outputs": [],
      "source": [
        "# # Dataset is now stored in a Pandas Dataframe\n",
        "# downloaded_trn = drive.CreateFile({'id':id}) \n",
        "# downloaded_trn.GetContentFile('Sample_Data.csv')  \n",
        "# train = pd.read_csv('Sample_Data.csv')"
      ]
    },
    {
      "cell_type": "code",
      "execution_count": null,
      "metadata": {
        "colab": {
          "base_uri": "https://localhost:8080/",
          "height": 34
        },
        "id": "ZlQxt88hbKbP",
        "outputId": "eab46ba2-ec5a-4232-cc8c-61626ef77fc2"
      },
      "outputs": [
        {
          "data": {
            "text/plain": [
              "(113, 13)"
            ]
          },
          "execution_count": 8,
          "metadata": {},
          "output_type": "execute_result"
        }
      ],
      "source": [
        "train.shape"
      ]
    },
    {
      "cell_type": "code",
      "execution_count": null,
      "metadata": {
        "colab": {
          "base_uri": "https://localhost:8080/",
          "height": 353
        },
        "id": "dEAxLLI9sFEO",
        "outputId": "529443df-8e27-49c6-82c1-64a129957a82"
      },
      "outputs": [
        {
          "name": "stdout",
          "output_type": "stream",
          "text": [
            "<class 'pandas.core.frame.DataFrame'>\n",
            "RangeIndex: 113 entries, 0 to 112\n",
            "Data columns (total 13 columns):\n",
            " #   Column                    Non-Null Count  Dtype  \n",
            "---  ------                    --------------  -----  \n",
            " 0   Unique_SKU_Model          113 non-null    object \n",
            " 1   Vendor                    92 non-null     object \n",
            " 2   Encryption                113 non-null    object \n",
            " 3   Use                       113 non-null    object \n",
            " 4   Capacity_GB               113 non-null    int64  \n",
            " 5   Type                      113 non-null    object \n",
            " 6   Bus                       113 non-null    object \n",
            " 7   Average of New Price      113 non-null    float64\n",
            " 8   Average of Selling Price  113 non-null    float64\n",
            " 9   Sum of Units              113 non-null    int64  \n",
            " 10  Average of Discount       113 non-null    float64\n",
            " 11  AVG HP Price              113 non-null    float64\n",
            " 12  Elasticity Coefficint     113 non-null    float64\n",
            "dtypes: float64(5), int64(2), object(6)\n",
            "memory usage: 11.6+ KB\n"
          ]
        }
      ],
      "source": [
        "train.info()"
      ]
    },
    {
      "cell_type": "code",
      "execution_count": null,
      "metadata": {
        "colab": {
          "base_uri": "https://localhost:8080/",
          "height": 34
        },
        "id": "J1tr8bp_sHtG",
        "outputId": "7f41ac63-3001-48bf-dbf1-a40d5e8cc115"
      },
      "outputs": [
        {
          "data": {
            "text/plain": [
              "113"
            ]
          },
          "execution_count": 10,
          "metadata": {},
          "output_type": "execute_result"
        }
      ],
      "source": [
        "train.Unique_SKU_Model.nunique()"
      ]
    },
    {
      "cell_type": "code",
      "execution_count": null,
      "metadata": {
        "id": "xWjdCHfbsMu6"
      },
      "outputs": [],
      "source": [
        "## Function for calculating missing percentages in a dataframe\n",
        "def missing_data(data):\n",
        "    total = data.isnull().sum().sort_values(ascending = False)\n",
        "    percent = (data.isnull().sum()/data.isnull().count()*100).sort_values(ascending = False)\n",
        "    return pd.concat([total, percent], axis=1, keys=['Total', 'Missing Percent'])\n",
        "\n",
        "\n",
        "\n",
        "## Boxplot and Histogtam \n",
        "def histPlot(var, bins = None):\n",
        "    plot = var.plot(kind='hist', title =var.name,use_index = True, alpha=0.5, bins=bins, figsize = (7,5))\n",
        "    \n",
        "def boxPlot(var):\n",
        "    color = {'boxes': 'DarkGreen', 'whiskers': 'DarkOrange',  'medians': 'DarkBlue', 'caps': 'Gray'}\n",
        "    plot = var.plot(kind='box', title =var.name,\n",
        "                                               figsize = (7,7), color=color, sym='r+')\n",
        "    \n",
        "    \n",
        "## Frequency Distribution Plot for Categorical Vars\n",
        "def freq_dist_cat(var, fig_size = (None,None)):\n",
        "    plot = var.value_counts(normalize=True).plot(kind='bar', title =var.name,\n",
        "                                              use_index = True, figsize = fig_size)\n",
        "    plot.set_ylabel(\"Freq Distn. of  \"+ var.name)\n",
        "    \n",
        "def freq_dist_cat_idx_sort(var, fig_size = (None,None)):\n",
        "    plot = var.value_counts(normalize=True).sort_index().plot(kind='bar', title =var.name,\n",
        "                                              use_index = True, figsize = fig_size)\n",
        "    plot.set_ylabel(\"Freq Distn. of  \"+ var.name)\n",
        "\n",
        "def var_distn(listVar):\n",
        "    for i in range(len(listVar)):\n",
        "        print(\"###############################\")\n",
        "        print(listVar[i])\n",
        "        print(\"-------------------------------\")\n",
        "        print(train[['Loan_Status',listVar[i]]].groupby(listVar[i]).describe() )\n",
        "        print(\"###############################\")\n",
        "\n",
        "def univar_dist(df,x, bins = None, kde = None):\n",
        "    \n",
        "    sns.set(style = 'ticks')\n",
        "    f, (ax_box, ax_hist) = plt.subplots(2, sharex =True, gridspec_kw = {\"height_ratios\":(30,70)})\n",
        "    ax_box.set_title(str(x), fontsize=16)\n",
        "\n",
        "    sns.distplot(df[x], kde = kde, bins = bins, ax= ax_hist)\n",
        "    sns.boxplot(df[x], ax = ax_box)\n",
        "\n",
        "    ax_box.set(yticks = [])\n",
        "    sns.despine(ax= ax_hist)\n",
        "    sns.despine(ax= ax_box, left = True)\n",
        "\n",
        "## Defining a function to look at Loan_Status across different bins of continuous variables\n",
        "def freq_cont1var(dataframe, groupbycol1, aggregate_col,bins=None):\n",
        "    \n",
        "        \n",
        "    df = pd.DataFrame(dataframe[[groupbycol1]])\n",
        "    df = df.apply(lambda x: pd.qcut(x,  bins, duplicates  = \"drop\"), axis=0)\n",
        "    df = pd.DataFrame(df)\n",
        "    df = pd.DataFrame(df.join(dataframe[aggregate_col]))\n",
        "    crs1 = df.groupby(groupbycol1).mean()*100\n",
        "    crs1 = crs1.reset_index(drop = False)\n",
        "\n",
        "    print(crs1)\n",
        "    return crs1\n",
        "\n",
        "def bivar_plt(df, var , bins = None):\n",
        "    print(\"Variable Name : \" + str(var) + \"(by Approval Pct of Loan)\")\n",
        "    print(\"#######################################################################\") \n",
        "    age = freq_cont1var(df, var, \"Loan_Status\", bins)\n",
        "    print(\"#######################################################################\")\n",
        "    print(\"\\n\")\n",
        "    print(\"#######################################################################\")\n",
        "    # age.plot.bar(x=var, y='Loan_Status', rot=0, figsize = (12,5),color = \"maroon\")"
      ]
    },
    {
      "cell_type": "code",
      "execution_count": null,
      "metadata": {
        "colab": {
          "base_uri": "https://localhost:8080/",
          "height": 432
        },
        "id": "e79npi2Kz_49",
        "outputId": "0c334296-9b5e-4254-a63e-e5853d74ea11"
      },
      "outputs": [
        {
          "data": {
            "text/html": [
              "<div>\n",
              "<style scoped>\n",
              "    .dataframe tbody tr th:only-of-type {\n",
              "        vertical-align: middle;\n",
              "    }\n",
              "\n",
              "    .dataframe tbody tr th {\n",
              "        vertical-align: top;\n",
              "    }\n",
              "\n",
              "    .dataframe thead th {\n",
              "        text-align: right;\n",
              "    }\n",
              "</style>\n",
              "<table border=\"1\" class=\"dataframe\">\n",
              "  <thead>\n",
              "    <tr style=\"text-align: right;\">\n",
              "      <th></th>\n",
              "      <th>Total</th>\n",
              "      <th>Missing Percent</th>\n",
              "    </tr>\n",
              "  </thead>\n",
              "  <tbody>\n",
              "    <tr>\n",
              "      <th>Vendor</th>\n",
              "      <td>21</td>\n",
              "      <td>18.584071</td>\n",
              "    </tr>\n",
              "    <tr>\n",
              "      <th>Elasticity Coefficint</th>\n",
              "      <td>0</td>\n",
              "      <td>0.000000</td>\n",
              "    </tr>\n",
              "    <tr>\n",
              "      <th>AVG HP Price</th>\n",
              "      <td>0</td>\n",
              "      <td>0.000000</td>\n",
              "    </tr>\n",
              "    <tr>\n",
              "      <th>Average of Discount</th>\n",
              "      <td>0</td>\n",
              "      <td>0.000000</td>\n",
              "    </tr>\n",
              "    <tr>\n",
              "      <th>Sum of Units</th>\n",
              "      <td>0</td>\n",
              "      <td>0.000000</td>\n",
              "    </tr>\n",
              "    <tr>\n",
              "      <th>Average of Selling Price</th>\n",
              "      <td>0</td>\n",
              "      <td>0.000000</td>\n",
              "    </tr>\n",
              "    <tr>\n",
              "      <th>Average of New Price</th>\n",
              "      <td>0</td>\n",
              "      <td>0.000000</td>\n",
              "    </tr>\n",
              "    <tr>\n",
              "      <th>Bus</th>\n",
              "      <td>0</td>\n",
              "      <td>0.000000</td>\n",
              "    </tr>\n",
              "    <tr>\n",
              "      <th>Type</th>\n",
              "      <td>0</td>\n",
              "      <td>0.000000</td>\n",
              "    </tr>\n",
              "    <tr>\n",
              "      <th>Capacity_GB</th>\n",
              "      <td>0</td>\n",
              "      <td>0.000000</td>\n",
              "    </tr>\n",
              "    <tr>\n",
              "      <th>Use</th>\n",
              "      <td>0</td>\n",
              "      <td>0.000000</td>\n",
              "    </tr>\n",
              "    <tr>\n",
              "      <th>Encryption</th>\n",
              "      <td>0</td>\n",
              "      <td>0.000000</td>\n",
              "    </tr>\n",
              "    <tr>\n",
              "      <th>Unique_SKU_Model</th>\n",
              "      <td>0</td>\n",
              "      <td>0.000000</td>\n",
              "    </tr>\n",
              "  </tbody>\n",
              "</table>\n",
              "</div>"
            ],
            "text/plain": [
              "                          Total  Missing Percent\n",
              "Vendor                       21        18.584071\n",
              "Elasticity Coefficint         0         0.000000\n",
              "AVG HP Price                  0         0.000000\n",
              "Average of Discount           0         0.000000\n",
              "Sum of Units                  0         0.000000\n",
              "Average of Selling Price      0         0.000000\n",
              "Average of New Price          0         0.000000\n",
              "Bus                           0         0.000000\n",
              "Type                          0         0.000000\n",
              "Capacity_GB                   0         0.000000\n",
              "Use                           0         0.000000\n",
              "Encryption                    0         0.000000\n",
              "Unique_SKU_Model              0         0.000000"
            ]
          },
          "execution_count": 12,
          "metadata": {},
          "output_type": "execute_result"
        }
      ],
      "source": [
        "missing_data(train)"
      ]
    },
    {
      "cell_type": "code",
      "execution_count": null,
      "metadata": {
        "id": "RFx9SJUDsZAp"
      },
      "outputs": [],
      "source": [
        "train[\"Vendor\"] = train[\"Vendor\"].fillna(\"Unknown_Vendor\")"
      ]
    },
    {
      "cell_type": "code",
      "execution_count": null,
      "metadata": {
        "colab": {
          "base_uri": "https://localhost:8080/",
          "height": 254
        },
        "id": "ooGj2Bcg0Lwm",
        "outputId": "d5d72900-f25e-430f-b0ec-0fac9e4fce32"
      },
      "outputs": [
        {
          "data": {
            "text/html": [
              "<div>\n",
              "<style scoped>\n",
              "    .dataframe tbody tr th:only-of-type {\n",
              "        vertical-align: middle;\n",
              "    }\n",
              "\n",
              "    .dataframe tbody tr th {\n",
              "        vertical-align: top;\n",
              "    }\n",
              "\n",
              "    .dataframe thead th {\n",
              "        text-align: right;\n",
              "    }\n",
              "</style>\n",
              "<table border=\"1\" class=\"dataframe\">\n",
              "  <thead>\n",
              "    <tr style=\"text-align: right;\">\n",
              "      <th></th>\n",
              "      <th>Capacity_GB</th>\n",
              "      <th>Average of New Price</th>\n",
              "      <th>Average of Selling Price</th>\n",
              "      <th>Sum of Units</th>\n",
              "      <th>Average of Discount</th>\n",
              "      <th>AVG HP Price</th>\n",
              "      <th>Elasticity Coefficint</th>\n",
              "    </tr>\n",
              "  </thead>\n",
              "  <tbody>\n",
              "    <tr>\n",
              "      <th>Capacity_GB</th>\n",
              "      <td>1.000000</td>\n",
              "      <td>0.349376</td>\n",
              "      <td>0.351095</td>\n",
              "      <td>0.025697</td>\n",
              "      <td>0.085219</td>\n",
              "      <td>0.348337</td>\n",
              "      <td>0.160055</td>\n",
              "    </tr>\n",
              "    <tr>\n",
              "      <th>Average of New Price</th>\n",
              "      <td>0.349376</td>\n",
              "      <td>1.000000</td>\n",
              "      <td>0.934301</td>\n",
              "      <td>-0.207468</td>\n",
              "      <td>0.428562</td>\n",
              "      <td>0.999967</td>\n",
              "      <td>-0.036342</td>\n",
              "    </tr>\n",
              "    <tr>\n",
              "      <th>Average of Selling Price</th>\n",
              "      <td>0.351095</td>\n",
              "      <td>0.934301</td>\n",
              "      <td>1.000000</td>\n",
              "      <td>-0.230975</td>\n",
              "      <td>0.156791</td>\n",
              "      <td>0.933736</td>\n",
              "      <td>-0.039217</td>\n",
              "    </tr>\n",
              "    <tr>\n",
              "      <th>Sum of Units</th>\n",
              "      <td>0.025697</td>\n",
              "      <td>-0.207468</td>\n",
              "      <td>-0.230975</td>\n",
              "      <td>1.000000</td>\n",
              "      <td>-0.012342</td>\n",
              "      <td>-0.206943</td>\n",
              "      <td>0.053558</td>\n",
              "    </tr>\n",
              "    <tr>\n",
              "      <th>Average of Discount</th>\n",
              "      <td>0.085219</td>\n",
              "      <td>0.428562</td>\n",
              "      <td>0.156791</td>\n",
              "      <td>-0.012342</td>\n",
              "      <td>1.000000</td>\n",
              "      <td>0.429493</td>\n",
              "      <td>-0.103736</td>\n",
              "    </tr>\n",
              "    <tr>\n",
              "      <th>AVG HP Price</th>\n",
              "      <td>0.348337</td>\n",
              "      <td>0.999967</td>\n",
              "      <td>0.933736</td>\n",
              "      <td>-0.206943</td>\n",
              "      <td>0.429493</td>\n",
              "      <td>1.000000</td>\n",
              "      <td>-0.036510</td>\n",
              "    </tr>\n",
              "    <tr>\n",
              "      <th>Elasticity Coefficint</th>\n",
              "      <td>0.160055</td>\n",
              "      <td>-0.036342</td>\n",
              "      <td>-0.039217</td>\n",
              "      <td>0.053558</td>\n",
              "      <td>-0.103736</td>\n",
              "      <td>-0.036510</td>\n",
              "      <td>1.000000</td>\n",
              "    </tr>\n",
              "  </tbody>\n",
              "</table>\n",
              "</div>"
            ],
            "text/plain": [
              "                          Capacity_GB  Average of New Price  \\\n",
              "Capacity_GB                  1.000000              0.349376   \n",
              "Average of New Price         0.349376              1.000000   \n",
              "Average of Selling Price     0.351095              0.934301   \n",
              "Sum of Units                 0.025697             -0.207468   \n",
              "Average of Discount          0.085219              0.428562   \n",
              "AVG HP Price                 0.348337              0.999967   \n",
              "Elasticity Coefficint        0.160055             -0.036342   \n",
              "\n",
              "                          Average of Selling Price  Sum of Units  \\\n",
              "Capacity_GB                               0.351095      0.025697   \n",
              "Average of New Price                      0.934301     -0.207468   \n",
              "Average of Selling Price                  1.000000     -0.230975   \n",
              "Sum of Units                             -0.230975      1.000000   \n",
              "Average of Discount                       0.156791     -0.012342   \n",
              "AVG HP Price                              0.933736     -0.206943   \n",
              "Elasticity Coefficint                    -0.039217      0.053558   \n",
              "\n",
              "                          Average of Discount  AVG HP Price  \\\n",
              "Capacity_GB                          0.085219      0.348337   \n",
              "Average of New Price                 0.428562      0.999967   \n",
              "Average of Selling Price             0.156791      0.933736   \n",
              "Sum of Units                        -0.012342     -0.206943   \n",
              "Average of Discount                  1.000000      0.429493   \n",
              "AVG HP Price                         0.429493      1.000000   \n",
              "Elasticity Coefficint               -0.103736     -0.036510   \n",
              "\n",
              "                          Elasticity Coefficint  \n",
              "Capacity_GB                            0.160055  \n",
              "Average of New Price                  -0.036342  \n",
              "Average of Selling Price              -0.039217  \n",
              "Sum of Units                           0.053558  \n",
              "Average of Discount                   -0.103736  \n",
              "AVG HP Price                          -0.036510  \n",
              "Elasticity Coefficint                  1.000000  "
            ]
          },
          "execution_count": 14,
          "metadata": {},
          "output_type": "execute_result"
        }
      ],
      "source": [
        "train.corr() ## only for numerical variables as of now"
      ]
    },
    {
      "cell_type": "code",
      "execution_count": null,
      "metadata": {
        "colab": {
          "base_uri": "https://localhost:8080/",
          "height": 254
        },
        "id": "a2xgWgLVS6Pn",
        "outputId": "3b371bf0-1d17-4228-ca88-820a780bb460"
      },
      "outputs": [
        {
          "data": {
            "text/html": [
              "<div>\n",
              "<style scoped>\n",
              "    .dataframe tbody tr th:only-of-type {\n",
              "        vertical-align: middle;\n",
              "    }\n",
              "\n",
              "    .dataframe tbody tr th {\n",
              "        vertical-align: top;\n",
              "    }\n",
              "\n",
              "    .dataframe thead th {\n",
              "        text-align: right;\n",
              "    }\n",
              "</style>\n",
              "<table border=\"1\" class=\"dataframe\">\n",
              "  <thead>\n",
              "    <tr style=\"text-align: right;\">\n",
              "      <th></th>\n",
              "      <th>Capacity_GB</th>\n",
              "      <th>Average of New Price</th>\n",
              "      <th>Average of Selling Price</th>\n",
              "      <th>Sum of Units</th>\n",
              "      <th>Average of Discount</th>\n",
              "      <th>AVG HP Price</th>\n",
              "      <th>Elasticity Coefficint</th>\n",
              "    </tr>\n",
              "  </thead>\n",
              "  <tbody>\n",
              "    <tr>\n",
              "      <th>Capacity_GB</th>\n",
              "      <td>1.000000</td>\n",
              "      <td>0.511699</td>\n",
              "      <td>0.507287</td>\n",
              "      <td>-0.197603</td>\n",
              "      <td>0.140672</td>\n",
              "      <td>0.510138</td>\n",
              "      <td>0.128618</td>\n",
              "    </tr>\n",
              "    <tr>\n",
              "      <th>Average of New Price</th>\n",
              "      <td>0.511699</td>\n",
              "      <td>1.000000</td>\n",
              "      <td>0.954344</td>\n",
              "      <td>-0.326063</td>\n",
              "      <td>0.507050</td>\n",
              "      <td>0.999763</td>\n",
              "      <td>-0.075314</td>\n",
              "    </tr>\n",
              "    <tr>\n",
              "      <th>Average of Selling Price</th>\n",
              "      <td>0.507287</td>\n",
              "      <td>0.954344</td>\n",
              "      <td>1.000000</td>\n",
              "      <td>-0.353703</td>\n",
              "      <td>0.301713</td>\n",
              "      <td>0.953458</td>\n",
              "      <td>-0.075713</td>\n",
              "    </tr>\n",
              "    <tr>\n",
              "      <th>Sum of Units</th>\n",
              "      <td>-0.197603</td>\n",
              "      <td>-0.326063</td>\n",
              "      <td>-0.353703</td>\n",
              "      <td>1.000000</td>\n",
              "      <td>0.023906</td>\n",
              "      <td>-0.326363</td>\n",
              "      <td>0.124849</td>\n",
              "    </tr>\n",
              "    <tr>\n",
              "      <th>Average of Discount</th>\n",
              "      <td>0.140672</td>\n",
              "      <td>0.507050</td>\n",
              "      <td>0.301713</td>\n",
              "      <td>0.023906</td>\n",
              "      <td>1.000000</td>\n",
              "      <td>0.508007</td>\n",
              "      <td>-0.118493</td>\n",
              "    </tr>\n",
              "    <tr>\n",
              "      <th>AVG HP Price</th>\n",
              "      <td>0.510138</td>\n",
              "      <td>0.999763</td>\n",
              "      <td>0.953458</td>\n",
              "      <td>-0.326363</td>\n",
              "      <td>0.508007</td>\n",
              "      <td>1.000000</td>\n",
              "      <td>-0.076733</td>\n",
              "    </tr>\n",
              "    <tr>\n",
              "      <th>Elasticity Coefficint</th>\n",
              "      <td>0.128618</td>\n",
              "      <td>-0.075314</td>\n",
              "      <td>-0.075713</td>\n",
              "      <td>0.124849</td>\n",
              "      <td>-0.118493</td>\n",
              "      <td>-0.076733</td>\n",
              "      <td>1.000000</td>\n",
              "    </tr>\n",
              "  </tbody>\n",
              "</table>\n",
              "</div>"
            ],
            "text/plain": [
              "                          Capacity_GB  Average of New Price  \\\n",
              "Capacity_GB                  1.000000              0.511699   \n",
              "Average of New Price         0.511699              1.000000   \n",
              "Average of Selling Price     0.507287              0.954344   \n",
              "Sum of Units                -0.197603             -0.326063   \n",
              "Average of Discount          0.140672              0.507050   \n",
              "AVG HP Price                 0.510138              0.999763   \n",
              "Elasticity Coefficint        0.128618             -0.075314   \n",
              "\n",
              "                          Average of Selling Price  Sum of Units  \\\n",
              "Capacity_GB                               0.507287     -0.197603   \n",
              "Average of New Price                      0.954344     -0.326063   \n",
              "Average of Selling Price                  1.000000     -0.353703   \n",
              "Sum of Units                             -0.353703      1.000000   \n",
              "Average of Discount                       0.301713      0.023906   \n",
              "AVG HP Price                              0.953458     -0.326363   \n",
              "Elasticity Coefficint                    -0.075713      0.124849   \n",
              "\n",
              "                          Average of Discount  AVG HP Price  \\\n",
              "Capacity_GB                          0.140672      0.510138   \n",
              "Average of New Price                 0.507050      0.999763   \n",
              "Average of Selling Price             0.301713      0.953458   \n",
              "Sum of Units                         0.023906     -0.326363   \n",
              "Average of Discount                  1.000000      0.508007   \n",
              "AVG HP Price                         0.508007      1.000000   \n",
              "Elasticity Coefficint               -0.118493     -0.076733   \n",
              "\n",
              "                          Elasticity Coefficint  \n",
              "Capacity_GB                            0.128618  \n",
              "Average of New Price                  -0.075314  \n",
              "Average of Selling Price              -0.075713  \n",
              "Sum of Units                           0.124849  \n",
              "Average of Discount                   -0.118493  \n",
              "AVG HP Price                          -0.076733  \n",
              "Elasticity Coefficint                  1.000000  "
            ]
          },
          "execution_count": 15,
          "metadata": {},
          "output_type": "execute_result"
        }
      ],
      "source": [
        "train.corr(method = \"spearman\")"
      ]
    },
    {
      "cell_type": "code",
      "execution_count": null,
      "metadata": {
        "id": "YSOKmXa1YtDm"
      },
      "outputs": [],
      "source": [
        "import seaborn as sns"
      ]
    },
    {
      "cell_type": "code",
      "execution_count": null,
      "metadata": {
        "colab": {
          "base_uri": "https://localhost:8080/",
          "height": 34
        },
        "id": "rkTqqeVyYnc6",
        "outputId": "eed947a3-592f-4d9f-a86c-4cc2dffb2d09"
      },
      "outputs": [
        {
          "data": {
            "text/plain": [
              "<seaborn.axisgrid.PairGrid at 0x1597fe2f408>"
            ]
          },
          "execution_count": 17,
          "metadata": {},
          "output_type": "execute_result"
        },
        {
          "data": {
            "image/png": "[encoded data removed]",
            "text/plain": [
              "<Figure size 1764x504 with 5 Axes>"
            ]
          },
          "metadata": {
            "needs_background": "light"
          },
          "output_type": "display_data"
        }
      ],
      "source": [
        "sns.pairplot(train, x_vars=['Capacity_GB', \n",
        "       'Sum of Units', 'Average of Discount', 'AVG HP Price',\n",
        "       'Elasticity Coefficint'], y_vars='Average of New Price', size=7, aspect=0.7)"
      ]
    },
    {
      "cell_type": "code",
      "execution_count": null,
      "metadata": {
        "colab": {
          "base_uri": "https://localhost:8080/",
          "height": 34
        },
        "id": "ubY3rMWolUaT",
        "outputId": "9e9f5e39-3492-4481-c507-379ee9321917"
      },
      "outputs": [
        {
          "data": {
            "text/plain": [
              "Index(['Unique_SKU_Model', 'Vendor', 'Encryption', 'Use', 'Type', 'Bus'], dtype='object')"
            ]
          },
          "execution_count": 18,
          "metadata": {},
          "output_type": "execute_result"
        }
      ],
      "source": [
        "num_cols = train.select_dtypes(include = ['int','float64','int32','float64','int64']).columns\n",
        "num_cols\n",
        "cat_cols = train.select_dtypes(include = ['object','category']).columns\n",
        "cat_cols"
      ]
    },
    {
      "cell_type": "code",
      "execution_count": null,
      "metadata": {
        "id": "6BCIYD_kkzRJ",
        "outputId": "0244170f-067c-42b1-8b65-6b615e432ddc"
      },
      "outputs": [
        {
          "data": {
            "image/png": "[encoded data removed]",
            "text/plain": [
              "<Figure size 432x288 with 2 Axes>"
            ]
          },
          "metadata": {},
          "output_type": "display_data"
        },
        {
          "data": {
            "image/png": "[encoded data removed]",
            "text/plain": [
              "<Figure size 432x288 with 2 Axes>"
            ]
          },
          "metadata": {},
          "output_type": "display_data"
        },
        {
          "data": {
            "image/png": "[encoded data removed]",
            "text/plain": [
              "<Figure size 432x288 with 2 Axes>"
            ]
          },
          "metadata": {},
          "output_type": "display_data"
        },
        {
          "data": {
            "image/png": "[encoded data removed]",
            "text/plain": [
              "<Figure size 432x288 with 2 Axes>"
            ]
          },
          "metadata": {},
          "output_type": "display_data"
        },
        {
          "data": {
            "image/png": "[encoded data removed]",
            "text/plain": [
              "<Figure size 432x288 with 2 Axes>"
            ]
          },
          "metadata": {},
          "output_type": "display_data"
        },
        {
          "data": {
            "image/png": "[encoded data removed]",
            "text/plain": [
              "<Figure size 432x288 with 2 Axes>"
            ]
          },
          "metadata": {},
          "output_type": "display_data"
        }
      ],
      "source": [
        "for var in num_cols:\n",
        "    if train[var].nunique() >= 10:\n",
        "       univar_dist(train[num_cols],var, bins = 20,kde =True)"
      ]
    },
    {
      "cell_type": "code",
      "execution_count": null,
      "metadata": {
        "id": "pxChg--n9eOj"
      },
      "outputs": [],
      "source": [
        "## Defining a function to look at Loan_Status across different bins of continuous variables\n",
        "def freq_cont1var(dataframe, groupbycol1, aggregate_col,bins=None):\n",
        "    \n",
        "        \n",
        "    df = pd.DataFrame(dataframe[[groupbycol1]])\n",
        "    df = df.apply(lambda x: pd.qcut(x,  bins, duplicates  = \"drop\"), axis=0)\n",
        "    df = pd.DataFrame(df)\n",
        "    df = pd.DataFrame(df.join(dataframe[aggregate_col]))\n",
        "    crs1 = df.groupby(groupbycol1).mean()\n",
        "    crs1 = crs1.reset_index(drop = False)\n",
        "\n",
        "    print(crs1)\n",
        "    return crs1\n",
        "\n",
        "def bivar_plt(df, var , bins = None):\n",
        "    print(\"Variable Name : \" + str(var) + \"(by Avg Average of New Price)\")\n",
        "    print(\"#######################################################################\") \n",
        "    age = freq_cont1var(df, var, 'Average of New Price', bins)\n",
        "    print(\"#######################################################################\")\n",
        "    print(\"\\n\")\n",
        "    print(\"#######################################################################\")\n",
        "    # age.plot.bar(x=var, y='Loan_Status', rot=0, figsize = (12,5),color = \"maroon\")\n",
        "\n",
        "def bivar_plt2(df, var ):\n",
        "    print(\"Variable Name : \" + str(var) + \"(by Avg Average of New Price)\")\n",
        "    print(\"#######################################################################\") \n",
        "    # age = freq_cont1var(df, var, 'Average of New Price', bins)\n",
        "    # df[var].value_counts()/df.shape[0])\n",
        "    print(df[['Average of New Price', var]].groupby(var).mean())\n",
        "    print(\"#######################################################################\")\n",
        "    print(\"\\n\")\n",
        "    print(\"#######################################################################\")\n",
        "    # age.plot.bar(x=var, y='Loan_Status', rot=0, figsize = (12,5),color = \"maroon\")"
      ]
    },
    {
      "cell_type": "code",
      "execution_count": null,
      "metadata": {
        "id": "PcXCQZ85S_IZ"
      },
      "outputs": [],
      "source": [
        "cat_cols_1 = [ 'Vendor', 'Encryption', 'Use', 'Type', 'Bus']\n",
        "            #  ['Unique_SKU_Model', 'Vendor', 'Encryption', 'Use', 'Type', 'Bus']"
      ]
    },
    {
      "cell_type": "code",
      "execution_count": null,
      "metadata": {
        "id": "O48oF35HVVFm"
      },
      "outputs": [],
      "source": [
        "num_cols_1 = ['Capacity_GB', \n",
        "       'Sum of Units', 'Average of Discount', 'AVG HP Price',\n",
        "       'Elasticity Coefficint']"
      ]
    },
    {
      "cell_type": "code",
      "execution_count": null,
      "metadata": {
        "colab": {
          "base_uri": "https://localhost:8080/",
          "height": 1000
        },
        "id": "LXsEyho6dygC",
        "outputId": "cb8cc63c-84dd-4a4b-bd12-6027d523e6ab"
      },
      "outputs": [
        {
          "name": "stdout",
          "output_type": "stream",
          "text": [
            "Variable Name : Capacity_GB(by Avg Average of New Price)\n",
            "#######################################################################\n",
            "         Capacity_GB  Average of New Price\n",
            "0   (239.999, 480.0]           1054.500000\n",
            "1     (480.0, 924.0]           1811.883333\n",
            "2     (924.0, 960.0]           1256.787500\n",
            "3    (960.0, 1600.0]           2591.150000\n",
            "4   (1600.0, 1920.0]           2505.910000\n",
            "5   (1920.0, 3200.0]           3456.088889\n",
            "6   (3200.0, 3840.0]           4696.846154\n",
            "7   (3840.0, 6320.0]           2617.966667\n",
            "8  (6320.0, 14000.0]           4127.800000\n",
            "#######################################################################\n",
            "\n",
            "\n",
            "#######################################################################\n",
            "Variable Name : Sum of Units(by Avg Average of New Price)\n",
            "#######################################################################\n",
            "        Sum of Units  Average of New Price\n",
            "0      (1.999, 22.4]           3701.908333\n",
            "1       (22.4, 66.8]           3593.609091\n",
            "2      (66.8, 122.6]           2791.645455\n",
            "3     (122.6, 227.0]           2916.281818\n",
            "4     (227.0, 339.0]           2424.191667\n",
            "5     (339.0, 690.4]           1994.881818\n",
            "6     (690.4, 983.8]           2820.954545\n",
            "7    (983.8, 1650.0]           1867.390909\n",
            "8   (1650.0, 3410.2]           1922.709091\n",
            "9  (3410.2, 17403.0]           1850.875000\n",
            "#######################################################################\n",
            "\n",
            "\n",
            "#######################################################################\n",
            "Variable Name : AVG HP Price(by Avg Average of New Price)\n",
            "#######################################################################\n",
            "                  AVG HP Price  Average of New Price\n",
            "0  (287.29900000000004, 633.0]            480.183333\n",
            "1               (633.0, 869.6]            763.763636\n",
            "2              (869.6, 1166.5]           1020.745455\n",
            "3             (1166.5, 1571.4]           1271.863636\n",
            "4             (1571.4, 2029.0]           1817.550000\n",
            "5             (2029.0, 2462.1]           2261.990909\n",
            "6             (2462.1, 3309.0]           2851.427273\n",
            "7             (3309.0, 3849.0]           3554.609091\n",
            "8            (3849.0, 5646.66]           4492.354545\n",
            "9           (5646.66, 13189.0]           7229.066667\n",
            "#######################################################################\n",
            "\n",
            "\n",
            "#######################################################################\n",
            "Variable Name : Elasticity Coefficint(by Avg Average of New Price)\n",
            "#######################################################################\n",
            "  Elasticity Coefficint  Average of New Price\n",
            "0         (0.099, 0.42]           2596.658333\n",
            "1           (0.42, 0.7]           2969.735000\n",
            "2          (0.7, 0.876]            586.500000\n",
            "3        (0.876, 0.974]           1195.018182\n",
            "4         (0.974, 1.12]           2628.433333\n",
            "5          (1.12, 1.28]           2958.646154\n",
            "6         (1.28, 1.394]           3389.900000\n",
            "7         (1.394, 1.61]           3208.369231\n",
            "8         (1.61, 1.826]           2449.844444\n",
            "9         (1.826, 2.32]           1963.583333\n",
            "#######################################################################\n",
            "\n",
            "\n",
            "#######################################################################\n"
          ]
        }
      ],
      "source": [
        "## Bi-variate distribution\n",
        "for var in num_cols_1:\n",
        "    if train[var].nunique() >= 10:\n",
        "       bivar_plt(train, var , bins = 10)\n",
        "      #  univar_dist(train[cols],var, bins = 20,kde =True)"
      ]
    },
    {
      "cell_type": "code",
      "execution_count": null,
      "metadata": {
        "id": "9MHemLbgS82C",
        "outputId": "2d05deec-8821-4d1f-a6ee-9ec9a25ec98b"
      },
      "outputs": [
        {
          "name": "stdout",
          "output_type": "stream",
          "text": [
            "Variable Name : Average of Discount(by Avg Average of New Price)\n",
            "#######################################################################\n",
            "  Average of Discount  Average of New Price\n",
            "0        (0.399, 0.5]           1257.108824\n",
            "1          (0.5, 0.6]           2820.657143\n",
            "2          (0.6, 0.9]           4000.321739\n",
            "#######################################################################\n",
            "\n",
            "\n",
            "#######################################################################\n"
          ]
        }
      ],
      "source": [
        "## Bi-variate distribution\n",
        "for var in num_cols_1:\n",
        "    if train[var].nunique() < 10:\n",
        "       bivar_plt(train, var , bins = 4 )"
      ]
    },
    {
      "cell_type": "code",
      "execution_count": null,
      "metadata": {
        "colab": {
          "base_uri": "https://localhost:8080/",
          "height": 1000
        },
        "id": "J9YmFTQ1R-gB",
        "outputId": "271c6c11-ae4e-4df8-a673-aaf4cc97fa71"
      },
      "outputs": [
        {
          "name": "stdout",
          "output_type": "stream",
          "text": [
            "Variable Name : Vendor(by Avg Average of New Price)\n",
            "#######################################################################\n",
            "                Average of New Price\n",
            "Vendor                              \n",
            "Agnostic                 2045.577778\n",
            "Intel                    2891.176000\n",
            "Micron                   4324.000000\n",
            "Samsung                  3298.515000\n",
            "Toshiba                  3113.692000\n",
            "Unknown_Vendor           1071.309524\n",
            "#######################################################################\n",
            "\n",
            "\n",
            "#######################################################################\n",
            "Variable Name : Encryption(by Avg Average of New Price)\n",
            "#######################################################################\n",
            "            Average of New Price\n",
            "Encryption                      \n",
            "Regular              2545.170755\n",
            "SED                  3273.971429\n",
            "#######################################################################\n",
            "\n",
            "\n",
            "#######################################################################\n",
            "Variable Name : Use(by Avg Average of New Price)\n",
            "#######################################################################\n",
            "         Average of New Price\n",
            "Use                          \n",
            "MU                3089.770588\n",
            "RI                2789.046000\n",
            "Regular           1071.309524\n",
            "WI                3212.987500\n",
            "#######################################################################\n",
            "\n",
            "\n",
            "#######################################################################\n",
            "Variable Name : Type(by Avg Average of New Price)\n",
            "#######################################################################\n",
            "      Average of New Price\n",
            "Type                      \n",
            "HDD            1071.309524\n",
            "SSD            2937.047826\n",
            "#######################################################################\n",
            "\n",
            "\n",
            "#######################################################################\n",
            "Variable Name : Bus(by Avg Average of New Price)\n",
            "#######################################################################\n",
            "         Average of New Price\n",
            "Bus                          \n",
            "NLSAS             1195.912500\n",
            "NVMe              4760.605556\n",
            "NVMe_DC           2428.000000\n",
            "SAS               2935.243902\n",
            "SATA              1447.485714\n",
            "vSAS              5726.150000\n",
            "#######################################################################\n",
            "\n",
            "\n",
            "#######################################################################\n"
          ]
        }
      ],
      "source": [
        "## Bi-variate distribution\n",
        "for var in cat_cols_1:\n",
        "       bivar_plt2(train, var )\n",
        "      #  univar_dist(train[cols],var, bins = 20,kde =True)"
      ]
    },
    {
      "cell_type": "code",
      "execution_count": null,
      "metadata": {
        "colab": {
          "base_uri": "https://localhost:8080/",
          "height": 101
        },
        "id": "4mlyDHJcZJa7",
        "outputId": "fc087cbc-5b87-45a2-c602-5d647c1847e6"
      },
      "outputs": [
        {
          "data": {
            "text/plain": [
              "Index(['Unique_SKU_Model', 'Vendor', 'Encryption', 'Use', 'Capacity_GB',\n",
              "       'Type', 'Bus', 'Average of New Price', 'Average of Selling Price',\n",
              "       'Sum of Units', 'Average of Discount', 'AVG HP Price',\n",
              "       'Elasticity Coefficint'],\n",
              "      dtype='object')"
            ]
          },
          "execution_count": 25,
          "metadata": {},
          "output_type": "execute_result"
        }
      ],
      "source": [
        "train.columns"
      ]
    },
    {
      "cell_type": "code",
      "execution_count": null,
      "metadata": {
        "id": "aB2dkl4PaPxB"
      },
      "outputs": [],
      "source": [
        "# Variable Name : Vendor(by Avg Average of New Price)\n",
        "# #######################################################################\n",
        "#                 Average of New Price\n",
        "# Vendor                              \n",
        "# Agnostic                 2045.577778\n",
        "# Intel                    2891.176000\n",
        "# Micron                   4324.000000\n",
        "# Samsung                  3298.515000\n",
        "# Toshiba                  3113.692000\n",
        "# Unknown_Vendor           1071.309524\n",
        "\n",
        "train[\"Vendor_Agnostic\"] = np.where(train[\"Vendor\"].isin([\"Agnostic\"]) , 1,0 )\n",
        "train[\"Vendor_Intel\"] = np.where(train[\"Vendor\"].isin([\"Intel\"]) , 1,0 )\n",
        "train[\"Vendor_Micron\"] = np.where(train[\"Vendor\"].isin([\"Micron\"]) , 1,0 )\n",
        "train[\"Vendor_Samsung\"] = np.where(train[\"Vendor\"].isin([\"Samsung\"]) , 1,0 )\n",
        "train[\"Vendor_Toshiba\"] = np.where(train[\"Vendor\"].isin([\"Toshiba\"]) , 1,0 )\n"
      ]
    },
    {
      "cell_type": "code",
      "execution_count": null,
      "metadata": {
        "id": "aWxvsbsKhyig"
      },
      "outputs": [],
      "source": [
        "# Variable Name : Encryption(by Avg Average of New Price)\n",
        "# #######################################################################\n",
        "#             Average of New Price\n",
        "# Encryption                      \n",
        "# Regular              2545.170755\n",
        "# SED                  3273.971429\n",
        "train[\"Encryption_Regular\"] = np.where(train[\"Encryption\"].isin([\"Regular\"]) , 1,0 )\n",
        "train[\"Encryption_SED\"] = np.where(train[\"Encryption\"].isin([\"SED\"]) , 1,0 )"
      ]
    },
    {
      "cell_type": "code",
      "execution_count": null,
      "metadata": {
        "id": "HH39TdgZhymg"
      },
      "outputs": [],
      "source": [
        "#          Average of New Price\n",
        "# Use                          \n",
        "# MU                3089.770588\n",
        "# RI                2789.046000\n",
        "# Regular           1071.309524\n",
        "# WI                3212.987500\n",
        "\n",
        "train[\"Use_MU\"] = np.where(train[\"Use\"].isin([\"MU\"]) , 1,0 )\n",
        "train[\"Use_RI\"] = np.where(train[\"Use\"].isin([\"RI\"]) , 1,0 )\n",
        "train[\"Use_Regular\"] = np.where(train[\"Use\"].isin([\"Regular\"]) , 1,0 )\n",
        "train[\"Use_WI\"] = np.where(train[\"Use\"].isin([\"WI\"]) , 1,0 )"
      ]
    },
    {
      "cell_type": "code",
      "execution_count": null,
      "metadata": {
        "id": "o2aFX7kbhypa"
      },
      "outputs": [],
      "source": [
        "#       Average of New Price\n",
        "# Type                      \n",
        "# HDD            1071.309524\n",
        "# SSD            2937.047826\n",
        "train[\"Type_HDD\"] = np.where(train[\"Type\"].isin([\"HDD\"]) , 1,0 )\n",
        "train[\"Type_SSD\"] = np.where(train[\"Type\"].isin([\"SSD\"]) , 1,0 )"
      ]
    },
    {
      "cell_type": "code",
      "execution_count": null,
      "metadata": {
        "id": "0qPN1ir_hys7"
      },
      "outputs": [],
      "source": [
        "#                  Average of New Price\n",
        "# Bus                          \n",
        "# NLSAS             1195.912500\n",
        "# NVMe              4760.605556\n",
        "# NVMe_DC           2428.000000\n",
        "# SAS               2935.243902\n",
        "# SATA              1447.485714\n",
        "# vSAS              5726.150000\n",
        "train[\"Bus_NLSAS\"] = np.where(train[\"Bus\"].isin([\"NLSAS\"]) , 1,0 )\n",
        "train[\"Bus_NVMe\"] = np.where(train[\"Bus\"].isin([\"NVMe\"]) , 1,0 )\n",
        "train[\"Bus_NVMe_DC\"] = np.where(train[\"Bus\"].isin([\"NVMe_DC\"]) , 1,0 )\n",
        "train[\"Bus_SAS\"] = np.where(train[\"Bus\"].isin([\"SAS\"]) , 1,0 )\n",
        "train[\"Bus_SATA\"] = np.where(train[\"Bus\"].isin([\"SATA\"]) , 1,0 )\n",
        "train[\"Bus_vSAS\"] = np.where(train[\"Bus\"].isin([\"vSAS\"]) , 1,0 )"
      ]
    },
    {
      "cell_type": "code",
      "execution_count": null,
      "metadata": {
        "id": "dAT0VfjkLGL_"
      },
      "outputs": [],
      "source": [
        "###########################################################################################################"
      ]
    },
    {
      "cell_type": "code",
      "execution_count": null,
      "metadata": {
        "id": "P7Lmq3q74u8g"
      },
      "outputs": [],
      "source": [
        "# ! pip install dtale"
      ]
    },
    {
      "cell_type": "markdown",
      "metadata": {
        "id": "VwBz1sNuF-0I"
      },
      "source": [
        "This works on Local Machine Python "
      ]
    },
    {
      "cell_type": "code",
      "execution_count": null,
      "metadata": {
        "id": "x64Q2pgo_kPh"
      },
      "outputs": [],
      "source": [
        "## \n",
        "# import dtale\n",
        "# import pandas as pd\n",
        "# d = dtale.show(train)\n",
        "# d.open_browser()"
      ]
    },
    {
      "cell_type": "code",
      "execution_count": null,
      "metadata": {
        "id": "VvVqp5FbFulr"
      },
      "outputs": [],
      "source": [
        "# import pandas_profiling"
      ]
    },
    {
      "cell_type": "code",
      "execution_count": null,
      "metadata": {
        "id": "hEr_riLQGDIO"
      },
      "outputs": [],
      "source": [
        "# profile = pandas_profiling.ProfileReport(train) \n",
        "# profile.to_file(\"output.html\")"
      ]
    },
    {
      "cell_type": "code",
      "execution_count": null,
      "metadata": {
        "id": "Z0BfEi3_HjMy"
      },
      "outputs": [],
      "source": [
        "##########################################################################################################\n",
        "# https://www.ritchieng.com/machine-learning-evaluate-linear-regression-model/"
      ]
    },
    {
      "cell_type": "code",
      "execution_count": null,
      "metadata": {
        "colab": {
          "base_uri": "https://localhost:8080/",
          "height": 266
        },
        "id": "k-71lSN6PTgY",
        "outputId": "446fd407-b46c-4f1c-bc8d-8fcedb0fddc5"
      },
      "outputs": [
        {
          "data": {
            "text/html": [
              "<div>\n",
              "<style scoped>\n",
              "    .dataframe tbody tr th:only-of-type {\n",
              "        vertical-align: middle;\n",
              "    }\n",
              "\n",
              "    .dataframe tbody tr th {\n",
              "        vertical-align: top;\n",
              "    }\n",
              "\n",
              "    .dataframe thead th {\n",
              "        text-align: right;\n",
              "    }\n",
              "</style>\n",
              "<table border=\"1\" class=\"dataframe\">\n",
              "  <thead>\n",
              "    <tr style=\"text-align: right;\">\n",
              "      <th></th>\n",
              "      <th>Unique_SKU_Model</th>\n",
              "      <th>Vendor</th>\n",
              "      <th>Encryption</th>\n",
              "      <th>Use</th>\n",
              "      <th>Capacity_GB</th>\n",
              "      <th>Type</th>\n",
              "      <th>Bus</th>\n",
              "      <th>Average of New Price</th>\n",
              "      <th>Average of Selling Price</th>\n",
              "      <th>Sum of Units</th>\n",
              "      <th>...</th>\n",
              "      <th>Use_Regular</th>\n",
              "      <th>Use_WI</th>\n",
              "      <th>Type_HDD</th>\n",
              "      <th>Type_SSD</th>\n",
              "      <th>Bus_NLSAS</th>\n",
              "      <th>Bus_NVMe</th>\n",
              "      <th>Bus_NVMe_DC</th>\n",
              "      <th>Bus_SAS</th>\n",
              "      <th>Bus_SATA</th>\n",
              "      <th>Bus_vSAS</th>\n",
              "    </tr>\n",
              "  </thead>\n",
              "  <tbody>\n",
              "    <tr>\n",
              "      <th>0</th>\n",
              "      <td>Agnostic_AG_MU_SAS_SSD_1600</td>\n",
              "      <td>Agnostic</td>\n",
              "      <td>Regular</td>\n",
              "      <td>MU</td>\n",
              "      <td>1600</td>\n",
              "      <td>SSD</td>\n",
              "      <td>SAS</td>\n",
              "      <td>2459.7</td>\n",
              "      <td>1071.3</td>\n",
              "      <td>1037</td>\n",
              "      <td>...</td>\n",
              "      <td>0</td>\n",
              "      <td>0</td>\n",
              "      <td>0</td>\n",
              "      <td>1</td>\n",
              "      <td>0</td>\n",
              "      <td>0</td>\n",
              "      <td>0</td>\n",
              "      <td>1</td>\n",
              "      <td>0</td>\n",
              "      <td>0</td>\n",
              "    </tr>\n",
              "    <tr>\n",
              "      <th>1</th>\n",
              "      <td>Agnostic_AG_MU_SAS_SSD_800</td>\n",
              "      <td>Agnostic</td>\n",
              "      <td>Regular</td>\n",
              "      <td>MU</td>\n",
              "      <td>800</td>\n",
              "      <td>SSD</td>\n",
              "      <td>SAS</td>\n",
              "      <td>1309.6</td>\n",
              "      <td>575.1</td>\n",
              "      <td>582</td>\n",
              "      <td>...</td>\n",
              "      <td>0</td>\n",
              "      <td>0</td>\n",
              "      <td>0</td>\n",
              "      <td>1</td>\n",
              "      <td>0</td>\n",
              "      <td>0</td>\n",
              "      <td>0</td>\n",
              "      <td>1</td>\n",
              "      <td>0</td>\n",
              "      <td>0</td>\n",
              "    </tr>\n",
              "    <tr>\n",
              "      <th>2</th>\n",
              "      <td>Agnostic_AG_MU_SATA_SSD_1920</td>\n",
              "      <td>Agnostic</td>\n",
              "      <td>Regular</td>\n",
              "      <td>MU</td>\n",
              "      <td>1920</td>\n",
              "      <td>SSD</td>\n",
              "      <td>SATA</td>\n",
              "      <td>1887.7</td>\n",
              "      <td>843.1</td>\n",
              "      <td>1473</td>\n",
              "      <td>...</td>\n",
              "      <td>0</td>\n",
              "      <td>0</td>\n",
              "      <td>0</td>\n",
              "      <td>1</td>\n",
              "      <td>0</td>\n",
              "      <td>0</td>\n",
              "      <td>0</td>\n",
              "      <td>0</td>\n",
              "      <td>1</td>\n",
              "      <td>0</td>\n",
              "    </tr>\n",
              "    <tr>\n",
              "      <th>3</th>\n",
              "      <td>Agnostic_AG_MU_SATA_SSD_480</td>\n",
              "      <td>Agnostic</td>\n",
              "      <td>Regular</td>\n",
              "      <td>MU</td>\n",
              "      <td>480</td>\n",
              "      <td>SSD</td>\n",
              "      <td>SATA</td>\n",
              "      <td>464.0</td>\n",
              "      <td>225.3</td>\n",
              "      <td>10573</td>\n",
              "      <td>...</td>\n",
              "      <td>0</td>\n",
              "      <td>0</td>\n",
              "      <td>0</td>\n",
              "      <td>1</td>\n",
              "      <td>0</td>\n",
              "      <td>0</td>\n",
              "      <td>0</td>\n",
              "      <td>0</td>\n",
              "      <td>1</td>\n",
              "      <td>0</td>\n",
              "    </tr>\n",
              "    <tr>\n",
              "      <th>4</th>\n",
              "      <td>Agnostic_AG_MU_SATA_SSD_960</td>\n",
              "      <td>Agnostic</td>\n",
              "      <td>Regular</td>\n",
              "      <td>MU</td>\n",
              "      <td>960</td>\n",
              "      <td>SSD</td>\n",
              "      <td>SATA</td>\n",
              "      <td>1028.8</td>\n",
              "      <td>484.0</td>\n",
              "      <td>15698</td>\n",
              "      <td>...</td>\n",
              "      <td>0</td>\n",
              "      <td>0</td>\n",
              "      <td>0</td>\n",
              "      <td>1</td>\n",
              "      <td>0</td>\n",
              "      <td>0</td>\n",
              "      <td>0</td>\n",
              "      <td>0</td>\n",
              "      <td>1</td>\n",
              "      <td>0</td>\n",
              "    </tr>\n",
              "  </tbody>\n",
              "</table>\n",
              "<p>5 rows × 32 columns</p>\n",
              "</div>"
            ],
            "text/plain": [
              "               Unique_SKU_Model    Vendor Encryption Use  Capacity_GB Type  \\\n",
              "0   Agnostic_AG_MU_SAS_SSD_1600  Agnostic    Regular  MU         1600  SSD   \n",
              "1    Agnostic_AG_MU_SAS_SSD_800  Agnostic    Regular  MU          800  SSD   \n",
              "2  Agnostic_AG_MU_SATA_SSD_1920  Agnostic    Regular  MU         1920  SSD   \n",
              "3   Agnostic_AG_MU_SATA_SSD_480  Agnostic    Regular  MU          480  SSD   \n",
              "4   Agnostic_AG_MU_SATA_SSD_960  Agnostic    Regular  MU          960  SSD   \n",
              "\n",
              "    Bus  Average of New Price  Average of Selling Price  Sum of Units  ...  \\\n",
              "0   SAS                2459.7                    1071.3          1037  ...   \n",
              "1   SAS                1309.6                     575.1           582  ...   \n",
              "2  SATA                1887.7                     843.1          1473  ...   \n",
              "3  SATA                 464.0                     225.3         10573  ...   \n",
              "4  SATA                1028.8                     484.0         15698  ...   \n",
              "\n",
              "   Use_Regular  Use_WI  Type_HDD  Type_SSD  Bus_NLSAS  Bus_NVMe  Bus_NVMe_DC  \\\n",
              "0            0       0         0         1          0         0            0   \n",
              "1            0       0         0         1          0         0            0   \n",
              "2            0       0         0         1          0         0            0   \n",
              "3            0       0         0         1          0         0            0   \n",
              "4            0       0         0         1          0         0            0   \n",
              "\n",
              "   Bus_SAS  Bus_SATA  Bus_vSAS  \n",
              "0        1         0         0  \n",
              "1        1         0         0  \n",
              "2        0         1         0  \n",
              "3        0         1         0  \n",
              "4        0         1         0  \n",
              "\n",
              "[5 rows x 32 columns]"
            ]
          },
          "execution_count": 39,
          "metadata": {},
          "output_type": "execute_result"
        }
      ],
      "source": [
        "train.head()"
      ]
    },
    {
      "cell_type": "code",
      "execution_count": null,
      "metadata": {
        "colab": {
          "base_uri": "https://localhost:8080/",
          "height": 168
        },
        "id": "m1giWpUyLjlH",
        "outputId": "f1b914dd-ba74-4f58-8da8-f2efb0e43853"
      },
      "outputs": [
        {
          "data": {
            "text/plain": [
              "Index(['Unique_SKU_Model', 'Vendor', 'Encryption', 'Use', 'Capacity_GB',\n",
              "       'Type', 'Bus', 'Average of New Price', 'Average of Selling Price',\n",
              "       'Sum of Units', 'Average of Discount', 'AVG HP Price',\n",
              "       'Elasticity Coefficint', 'Vendor_Agnostic', 'Vendor_Intel',\n",
              "       'Vendor_Micron', 'Vendor_Samsung', 'Vendor_Toshiba',\n",
              "       'Encryption_Regular', 'Encryption_SED', 'Use_MU', 'Use_RI',\n",
              "       'Use_Regular', 'Use_WI', 'Type_HDD', 'Type_SSD', 'Bus_NLSAS',\n",
              "       'Bus_NVMe', 'Bus_NVMe_DC', 'Bus_SAS', 'Bus_SATA', 'Bus_vSAS'],\n",
              "      dtype='object')"
            ]
          },
          "execution_count": 40,
          "metadata": {},
          "output_type": "execute_result"
        }
      ],
      "source": [
        "train.columns"
      ]
    },
    {
      "cell_type": "code",
      "execution_count": null,
      "metadata": {
        "colab": {
          "base_uri": "https://localhost:8080/",
          "height": 151
        },
        "id": "waRYnpwRNAIv",
        "outputId": "d23dbfe2-a185-4453-b95b-8450a08e186a"
      },
      "outputs": [
        {
          "data": {
            "text/plain": [
              "Index(['Capacity_GB', 'Average of New Price', 'Average of Selling Price',\n",
              "       'Sum of Units', 'Average of Discount', 'AVG HP Price',\n",
              "       'Elasticity Coefficint', 'Vendor_Agnostic', 'Vendor_Intel',\n",
              "       'Vendor_Micron', 'Vendor_Samsung', 'Vendor_Toshiba',\n",
              "       'Encryption_Regular', 'Encryption_SED', 'Use_MU', 'Use_RI',\n",
              "       'Use_Regular', 'Use_WI', 'Type_HDD', 'Type_SSD', 'Bus_NLSAS',\n",
              "       'Bus_NVMe', 'Bus_NVMe_DC', 'Bus_SAS', 'Bus_SATA', 'Bus_vSAS'],\n",
              "      dtype='object')"
            ]
          },
          "execution_count": 41,
          "metadata": {},
          "output_type": "execute_result"
        }
      ],
      "source": [
        "train.select_dtypes(include = ['int','float64','int32','float64','int64']).columns"
      ]
    },
    {
      "cell_type": "code",
      "execution_count": null,
      "metadata": {
        "id": "4GrrausjNGp4"
      },
      "outputs": [],
      "source": [
        "cols = ['Capacity_GB',  'Sum of Units', 'Average of Discount', # /'AVG HP Price',\n",
        "       'Elasticity Coefficint', 'Vendor_Agnostic', 'Vendor_Intel',\n",
        "       'Vendor_Micron', 'Vendor_Samsung', 'Vendor_Toshiba',\n",
        "       'Encryption_Regular', 'Encryption_SED', 'Use_MU', 'Use_RI',\n",
        "       'Use_Regular', 'Use_WI', 'Type_HDD', 'Type_SSD', 'Bus_NLSAS',\n",
        "       'Bus_NVMe', 'Bus_NVMe_DC', 'Bus_SAS', 'Bus_SATA', 'Bus_vSAS']\n",
        "## 'Average of New Price'"
      ]
    },
    {
      "cell_type": "code",
      "execution_count": null,
      "metadata": {
        "id": "tFVgCyeGQBsL"
      },
      "outputs": [],
      "source": [
        "## Split into train and test data\n",
        "from sklearn.model_selection import train_test_split\n",
        "## Here we are going with a one sample out validation of 20% random sampled from total training development data\n",
        "X_train, X_test, y_train, y_test = train_test_split(train[cols], train['Average of New Price'], test_size= 0.35, random_state=3) # 22"
      ]
    },
    {
      "cell_type": "code",
      "execution_count": null,
      "metadata": {
        "colab": {
          "base_uri": "https://localhost:8080/",
          "height": 34
        },
        "id": "x4KcleX2QYLq",
        "outputId": "b6042cf6-0ef5-454a-dd20-adb7a010bdee"
      },
      "outputs": [
        {
          "data": {
            "text/plain": [
              "(2531.615068493151, 2697.45)"
            ]
          },
          "execution_count": 115,
          "metadata": {},
          "output_type": "execute_result"
        }
      ],
      "source": [
        "y_train.mean(), y_test.mean()"
      ]
    },
    {
      "cell_type": "markdown",
      "metadata": {
        "id": "8p8AGopUS82K"
      },
      "source": [
        "## Base Model"
      ]
    },
    {
      "cell_type": "code",
      "execution_count": null,
      "metadata": {
        "id": "cTvMsCzwJ2y4"
      },
      "outputs": [],
      "source": [
        "from sklearn.model_selection import cross_val_score\n",
        "from sklearn.metrics import roc_auc_score ,roc_curve, auc\n",
        "from sklearn.model_selection import RandomizedSearchCV\n",
        "import xgboost as xgb\n",
        "from sklearn.ensemble import GradientBoostingClassifier"
      ]
    },
    {
      "cell_type": "code",
      "execution_count": null,
      "metadata": {
        "id": "VfHDekfPKGw3"
      },
      "outputs": [],
      "source": [
        "xgb_reg = xgb.XGBRegressor()\n",
        "\n",
        "xgb_fit = xgb_reg.fit(X_train[cols], y_train)"
      ]
    },
    {
      "cell_type": "code",
      "execution_count": null,
      "metadata": {
        "id": "toZ3eaPbQgUT",
        "outputId": "fa30a914-7807-4ff4-ab62-c523fba9e512"
      },
      "outputs": [
        {
          "data": {
            "image/png": "[encoded data removed]",
            "text/plain": [
              "<Figure size 576x720 with 1 Axes>"
            ]
          },
          "metadata": {},
          "output_type": "display_data"
        }
      ],
      "source": [
        "feature_importance = xgb_fit.feature_importances_\n",
        "# make importances relative to max importance\n",
        "feature_importance = 100.0 * (feature_importance / feature_importance.max())\n",
        "sorted_idx = np.argsort(feature_importance)\n",
        "pos = np.arange(sorted_idx.shape[0]) + .5\n",
        "# plt.subplot(1, 2, 2)\n",
        "plt.figure(figsize=(8, 10))\n",
        "plt.barh(pos, feature_importance[sorted_idx], align='center')\n",
        "plt.yticks(pos, X_train[cols].keys()[sorted_idx])\n",
        "plt.xlabel('Relative Importance')\n",
        "plt.title('Variable Importance')\n",
        "plt.show()"
      ]
    },
    {
      "cell_type": "code",
      "execution_count": null,
      "metadata": {
        "id": "4Gd8Xi6NQmN7"
      },
      "outputs": [],
      "source": [
        "pred_trn = xgb_fit.predict(X_train[cols])\n",
        "pred_tst = xgb_fit.predict(X_test[cols])\n",
        "\n",
        "pred_trn = pd.DataFrame(pred_trn)\n",
        "pred_tst = pd.DataFrame(pred_tst)"
      ]
    },
    {
      "cell_type": "code",
      "execution_count": null,
      "metadata": {
        "id": "lzT-THBicEI5"
      },
      "outputs": [],
      "source": [
        "from sklearn.metrics import mean_squared_error\n",
        "from sklearn.metrics import r2_score"
      ]
    },
    {
      "cell_type": "code",
      "execution_count": null,
      "metadata": {
        "colab": {
          "base_uri": "https://localhost:8080/",
          "height": 50
        },
        "id": "gpvfvyNORF4j",
        "outputId": "2092f13b-d4f6-46ac-81c8-b956e9de2325"
      },
      "outputs": [
        {
          "name": "stdout",
          "output_type": "stream",
          "text": [
            "0.005707262145310022\n",
            "895.6697191565988\n"
          ]
        }
      ],
      "source": [
        "rmse_trn = mean_squared_error(y_train, pred_trn, squared=False)\n",
        "print(rmse_trn)\n",
        "rmse_tst = mean_squared_error(y_test, pred_tst, squared=False)\n",
        "print(rmse_tst)"
      ]
    },
    {
      "cell_type": "code",
      "execution_count": null,
      "metadata": {
        "colab": {
          "base_uri": "https://localhost:8080/",
          "height": 34
        },
        "id": "oTxSNo4NBNO5",
        "outputId": "430df14e-5185-49a6-8421-aa31e50c8304"
      },
      "outputs": [
        {
          "data": {
            "text/plain": [
              "(73, 40, 23)"
            ]
          },
          "execution_count": 122,
          "metadata": {},
          "output_type": "execute_result"
        }
      ],
      "source": [
        "X_train.shape[0], X_test.shape[0], len(cols)"
      ]
    },
    {
      "cell_type": "code",
      "execution_count": null,
      "metadata": {
        "colab": {
          "base_uri": "https://localhost:8080/",
          "height": 134
        },
        "id": "qDZifn7gxT-B",
        "outputId": "362fbbc6-47da-414b-8718-9c1eaf2726cb"
      },
      "outputs": [
        {
          "data": {
            "text/plain": [
              "(   Capacity_GB  Sum of Units  Average of Discount  Elasticity Coefficint  \\\n",
              " 5         3840           122                  0.6                   1.06   \n",
              " 6         3840           106                  0.6                   1.17   \n",
              " \n",
              "    Vendor_Agnostic  Vendor_Intel  Vendor_Micron  Vendor_Samsung  \\\n",
              " 5                1             0              0               0   \n",
              " 6                1             0              0               0   \n",
              " \n",
              "    Vendor_Toshiba  Encryption_Regular  ...  Use_Regular  Use_WI  Type_HDD  \\\n",
              " 5               0                   1  ...            0       0         0   \n",
              " 6               0                   1  ...            0       0         0   \n",
              " \n",
              "    Type_SSD  Bus_NLSAS  Bus_NVMe  Bus_NVMe_DC  Bus_SAS  Bus_SATA  Bus_vSAS  \n",
              " 5         1          0         0            0        0         0         1  \n",
              " 6         1          0         0            1        0         0         0  \n",
              " \n",
              " [2 rows x 23 columns], 5    4653.3\n",
              " 6    3779.0\n",
              " Name: Average of New Price, dtype: float64)"
            ]
          },
          "execution_count": 123,
          "metadata": {},
          "output_type": "execute_result"
        }
      ],
      "source": [
        "train.loc[5:6][cols], train.loc[5:6][\"Average of New Price\"]"
      ]
    },
    {
      "cell_type": "markdown",
      "metadata": {
        "id": "-fnYodhw5w10"
      },
      "source": [
        "Adj R-sq Calculation"
      ]
    },
    {
      "cell_type": "code",
      "execution_count": null,
      "metadata": {
        "id": "vWeDnCqTli5c"
      },
      "outputs": [],
      "source": [
        "def calc_adj_rsq(ytr, yts, ptr,pts, ncol =None, nrowtr = None, nrowts =None):\n",
        "    trcalc = pd.DataFrame()\n",
        "    tscalc = pd.DataFrame()\n",
        "    trcalc['y'] = ytr.reset_index(drop =True)\n",
        "    trcalc['pr'] = ptr\n",
        "    trcalc['mean'] = np.mean(ytr)\n",
        "\n",
        "    tscalc['y'] = yts.reset_index(drop =True)\n",
        "    tscalc['pr'] = pts\n",
        "    tscalc['mean'] = np.mean(yts)\n",
        "    \n",
        "    ssr1 = np.sum(np.power((trcalc['y'] -  trcalc['pr']),2))\n",
        "    ssr2 = np.sum(np.power((tscalc['y'] -  tscalc['pr']),2))\n",
        "\n",
        "    sst1 = np.sum(np.power((trcalc['y'] -  trcalc['mean']),2))\n",
        "    sst2 = np.sum(np.power((tscalc['y'] -  tscalc['mean']),2))  \n",
        "\n",
        "    r2_tr = 1 - (ssr1/sst1)\n",
        "    r2_ts = 1 - (ssr2/sst2) \n",
        "\n",
        "    # r2_score(y_train, pred_trn)\n",
        "    r2_adj_tr = 1 - (1- r2_tr)*(nrowtr-1)/(nrowtr- ncol-1)\n",
        "    \n",
        "    # r2_ts =  r2_score(y_test, pred_tst)\n",
        "    r2_adj_ts = 1 - (1- r2_ts)*(nrowts-1)/(nrowts- ncol-1)\n",
        "    \n",
        "\n",
        "    return r2_tr,  r2_ts,r2_adj_tr,r2_adj_ts\n"
      ]
    },
    {
      "cell_type": "code",
      "execution_count": null,
      "metadata": {
        "colab": {
          "base_uri": "https://localhost:8080/",
          "height": 84
        },
        "id": "Gf0dCjgC9Yl-",
        "outputId": "79b5575a-6074-4c3c-e175-7d1a03dc5230"
      },
      "outputs": [
        {
          "data": {
            "text/plain": [
              "(0.9999999999931816,\n",
              " 0.7916103817554913,\n",
              " 0.9999999999899811,\n",
              " 0.49205030552900997)"
            ]
          },
          "execution_count": 125,
          "metadata": {},
          "output_type": "execute_result"
        }
      ],
      "source": [
        "calc_adj_rsq(y_train, y_test, pred_trn,pred_tst, ncol =len(cols), nrowtr = X_train.shape[0], nrowts =X_test.shape[0])"
      ]
    },
    {
      "cell_type": "code",
      "execution_count": null,
      "metadata": {
        "id": "cpOskAlG1rbi"
      },
      "outputs": [],
      "source": []
    },
    {
      "cell_type": "code",
      "execution_count": null,
      "metadata": {
        "colab": {
          "base_uri": "https://localhost:8080/",
          "height": 134
        },
        "id": "JlkWgxpz5YRX",
        "outputId": "13ecff53-bda0-4645-b59e-8ac6ad153492"
      },
      "outputs": [
        {
          "data": {
            "text/plain": [
              "XGBRegressor(base_score=None, booster=None, colsample_bylevel=None,\n",
              "             colsample_bynode=None, colsample_bytree=None, gamma=None,\n",
              "             gpu_id=None, importance_type='gain', interaction_constraints=None,\n",
              "             learning_rate=None, max_delta_step=None, max_depth=None,\n",
              "             min_child_weight=None, missing=-999, monotone_constraints=None,\n",
              "             n_estimators=100, n_jobs=None, num_parallel_tree=None,\n",
              "             random_state=None, reg_alpha=None, reg_lambda=None,\n",
              "             scale_pos_weight=None, subsample=None, tree_method=None,\n",
              "             validate_parameters=None, verbosity=None)"
            ]
          },
          "execution_count": 126,
          "metadata": {},
          "output_type": "execute_result"
        }
      ],
      "source": [
        "xgb_cl = xgb.XGBRegressor(missing = -999)\n",
        "xgb_cl"
      ]
    },
    {
      "cell_type": "markdown",
      "metadata": {
        "id": "stY-NCH9OLGD"
      },
      "source": [
        "## (0.9999648302658805, 0.9969429765754155, 0.999944733274955, 0.9934492355187475)"
      ]
    },
    {
      "cell_type": "code",
      "execution_count": null,
      "metadata": {
        "id": "-hg1jI0x8rcE"
      },
      "outputs": [],
      "source": []
    },
    {
      "cell_type": "markdown",
      "metadata": {
        "id": "T97Cgm4I8rsl"
      },
      "source": [
        "## Hyper-parameter Optimization - 1"
      ]
    },
    {
      "cell_type": "code",
      "execution_count": null,
      "metadata": {
        "id": "smY_64Hl1wn9"
      },
      "outputs": [],
      "source": [
        "import time\n",
        "\n",
        "import xgboost as xgb\n",
        "from sklearn.model_selection import RandomizedSearchCV\n",
        "# from xgboost import XGBClassifier\n",
        "\n",
        "xgb_cl = xgb.XGBRegressor(missing = -999)\n",
        "\n",
        "param_grid_xgb = {\n",
        "        'silent': [False],\n",
        "        'max_depth': [2,3,4,5,6],\n",
        "        'learning_rate': [0.001, 0.01, 0.03, 0.05,0.08, 0.1],\n",
        "        'subsample': [0.5, 0.6, 0.7, 0.8],\n",
        "        'colsample_bytree': [0.2,0.4, 0.5, 0.6, 0.7, 0.8],\n",
        "        'colsample_bylevel': [0.2,0.4, 0.5, 0.6, 0.7, 0.8],\n",
        "        'min_child_weight': [0.1,0.3,0.5, 1.0, 3.0, 5.0, 7.0, 10.0],\n",
        "        'gamma': [0, 0.25, 0.5, 1.0],\n",
        "        'reg_lambda': [0.01,0.05,0.1,0.5, 1.0, 5.0, 10.0, 50.0],\n",
        "        'reg_alpha':[0.01,0.05,0.1,0.5, 1.0, 5.0, 10.0, 50.0],\n",
        "        'n_estimators': [100,200,300,500,700,1000]}\n"
      ]
    },
    {
      "cell_type": "code",
      "execution_count": null,
      "metadata": {
        "colab": {
          "base_uri": "https://localhost:8080/",
          "height": 386
        },
        "id": "-TjM1YVx1wqm",
        "outputId": "61cf0523-1a3e-46bb-8bcb-3b80db516ab6"
      },
      "outputs": [
        {
          "name": "stdout",
          "output_type": "stream",
          "text": [
            "Randomized search..\n",
            "Fitting 5 folds for each of 600 candidates, totalling 3000 fits\n"
          ]
        },
        {
          "name": "stderr",
          "output_type": "stream",
          "text": [
            "[Parallel(n_jobs=-1)]: Using backend LokyBackend with 8 concurrent workers.\n",
            "[Parallel(n_jobs=-1)]: Done  25 tasks      | elapsed:    4.3s\n",
            "[Parallel(n_jobs=-1)]: Done 228 tasks      | elapsed:    7.4s\n",
            "[Parallel(n_jobs=-1)]: Done 634 tasks      | elapsed:   12.9s\n",
            "[Parallel(n_jobs=-1)]: Done 1328 tasks      | elapsed:   19.6s\n",
            "[Parallel(n_jobs=-1)]: Done 2788 tasks      | elapsed:   33.6s\n"
          ]
        },
        {
          "name": "stdout",
          "output_type": "stream",
          "text": [
            "Randomized search time: 35.63951897621155\n",
            "Best score: -918.0593765231922\n",
            "Best params: \n",
            "colsample_bylevel: 0.8\n",
            "colsample_bytree: 0.6\n",
            "gamma: 1.0\n",
            "learning_rate: 0.03\n",
            "max_depth: 3\n",
            "min_child_weight: 0.5\n",
            "n_estimators: 700\n",
            "reg_alpha: 10.0\n",
            "reg_lambda: 0.1\n",
            "silent: False\n",
            "subsample: 0.7\n"
          ]
        },
        {
          "name": "stderr",
          "output_type": "stream",
          "text": [
            "[Parallel(n_jobs=-1)]: Done 3000 out of 3000 | elapsed:   35.5s finished\n"
          ]
        }
      ],
      "source": [
        "from sklearn.model_selection import StratifiedKFold\n",
        "from sklearn.model_selection import KFold\n",
        "folds =5\n",
        "skf = KFold(n_splits=folds, shuffle = True, random_state = 42)\n",
        "# skf = StratifiedKFold(n_splits=folds, shuffle = True, random_state = 42)\n",
        "xgb_cv = RandomizedSearchCV(xgb_cl, param_grid_xgb, n_iter=600,\n",
        "                            n_jobs=-1, verbose=2, cv=skf.split(X_train[cols], y_train),\n",
        "                            scoring='neg_root_mean_squared_error', refit=False, random_state=42)  \n",
        "print(\"Randomized search..\")\n",
        "search_time_start = time.time() \n",
        "xgb_cv.fit(X_train[cols], y_train)\n",
        "print(\"Randomized search time:\", time.time() - search_time_start)\n",
        "\n",
        "best_score = xgb_cv.best_score_\n",
        "best_params = xgb_cv.best_params_\n",
        "print(\"Best score: {}\".format(best_score))\n",
        "print(\"Best params: \")\n",
        "for param_name in sorted(best_params.keys()):\n",
        "    print('%s: %r' % (param_name, best_params[param_name]))"
      ]
    },
    {
      "cell_type": "code",
      "execution_count": null,
      "metadata": {
        "colab": {
          "base_uri": "https://localhost:8080/",
          "height": 34
        },
        "id": "9O26QJO51wuB",
        "outputId": "af6fd48e-b833-4841-8d8a-d3aefc946777"
      },
      "outputs": [
        {
          "name": "stdout",
          "output_type": "stream",
          "text": [
            "[22:57:44] WARNING: C:/Users/Administrator/workspace/xgboost-win64_release_1.2.0/src/objective/regression_obj.cu:174: reg:linear is now deprecated in favor of reg:squarederror.\n",
            "[22:57:44] WARNING: C:/Users/Administrator/workspace/xgboost-win64_release_1.2.0/src/objective/regression_obj.cu:174: reg:linear is now deprecated in favor of reg:squarederror.\n"
          ]
        }
      ],
      "source": [
        "# fit model on training data using the best hyperparameters with tweaking a little bit\n",
        "model_xgb = xgb.XGBRegressor(max_depth=best_params['max_depth'] , learning_rate=best_params['learning_rate'], n_estimators=best_params['n_estimators'], verbosity=1, \n",
        "                      objective='reg:linear', booster='gbtree', tree_method='auto', n_jobs=-1,\n",
        "                      eval_metric = 'rmse',\n",
        "                      gamma=best_params['gamma'], min_child_weight=best_params['min_child_weight'], \n",
        "                      subsample=best_params['subsample'], \n",
        "                      colsample_bytree= best_params['colsample_bytree'], colsample_bylevel=best_params['colsample_bylevel'] ,\n",
        "                      reg_alpha=0, reg_lambda=best_params['reg_lambda'], scale_pos_weight=1,  \n",
        "                      alpha  = best_params['reg_alpha'],\n",
        "                     random_state=42, missing=-999, num_parallel_tree=2, importance_type='gain')\n",
        "\n",
        "# model_xgb.fit(X_train[low_vif_vars], y_train)\n",
        "xgb_fit = model_xgb.fit(X_train[cols], y_train)"
      ]
    },
    {
      "cell_type": "code",
      "execution_count": null,
      "metadata": {
        "id": "VHkmWtPq1wwN"
      },
      "outputs": [],
      "source": [
        "pred_trn = xgb_fit.predict(X_train[cols])\n",
        "pred_tst = xgb_fit.predict(X_test[cols])\n",
        "\n",
        "pred_trn = pd.DataFrame(pred_trn)\n",
        "pred_tst = pd.DataFrame(pred_tst)"
      ]
    },
    {
      "cell_type": "code",
      "execution_count": null,
      "metadata": {
        "colab": {
          "base_uri": "https://localhost:8080/",
          "height": 50
        },
        "id": "g8Wc0rKE1w1c",
        "outputId": "f94fbaa5-755f-4b82-b6ec-ab42954dd29b"
      },
      "outputs": [
        {
          "name": "stdout",
          "output_type": "stream",
          "text": [
            "41.956455726803654\n",
            "759.2156575573357\n"
          ]
        }
      ],
      "source": [
        "rmse_trn = mean_squared_error(y_train, pred_trn, squared=False)\n",
        "print(rmse_trn)\n",
        "rmse_tst = mean_squared_error(y_test, pred_tst, squared=False)\n",
        "print(rmse_tst)"
      ]
    },
    {
      "cell_type": "code",
      "execution_count": null,
      "metadata": {
        "colab": {
          "base_uri": "https://localhost:8080/",
          "height": 84
        },
        "id": "Bq28kIB-1w8u",
        "outputId": "4a03cc6a-4dc3-4d9c-a36e-a0359d3d8939"
      },
      "outputs": [
        {
          "data": {
            "text/plain": [
              "(0.9996315067047687, 0.8502693852561845, 0.99945854046415, 0.6350316265619496)"
            ]
          },
          "execution_count": 132,
          "metadata": {},
          "output_type": "execute_result"
        }
      ],
      "source": [
        "calc_adj_rsq(y_train, y_test, pred_trn,pred_tst, ncol =len(cols), nrowtr = X_train.shape[0], nrowts =X_test.shape[0])"
      ]
    },
    {
      "cell_type": "code",
      "execution_count": null,
      "metadata": {
        "id": "kjHJkK_x1xAK"
      },
      "outputs": [],
      "source": [
        " ############################################################################################"
      ]
    },
    {
      "cell_type": "markdown",
      "metadata": {
        "id": "uY6Yn-KcFA1r"
      },
      "source": [
        "## 2-stage Hyperparameter optimization"
      ]
    },
    {
      "cell_type": "code",
      "execution_count": null,
      "metadata": {
        "id": "nyFm0NXy1w6f"
      },
      "outputs": [],
      "source": [
        "##  Stage 1: Tune the complexity parameters\n",
        "import time\n",
        "\n",
        "import xgboost as xgb\n",
        "from sklearn.model_selection import RandomizedSearchCV\n",
        "# from xgboost import XGBClassifier\n",
        "\n",
        "xgb_cl = xgb.XGBRegressor(missing = -999)\n",
        "\n",
        "param_grid_xgb = {\n",
        "        'silent': [False],\n",
        "        'max_depth': [2,3,4,5,6],\n",
        "        # 'learning_rate': [0.001, 0.01, 0.03, 0.05,0.08, 0.1],\n",
        "        'subsample': [0.5, 0.6, 0.7, 0.8],\n",
        "        'colsample_bytree': [0.2,0.4, 0.5, 0.6, 0.7, 0.8],\n",
        "        'colsample_bylevel': [0.2,0.4, 0.5, 0.6, 0.7, 0.8],\n",
        "        'min_child_weight': [0.1,0.3,0.5, 1.0, 3.0, 5.0, 7.0, 10.0],\n",
        "        'gamma': [0, 0.25, 0.5, 1.0],\n",
        "        'reg_lambda': [0.01,0.05,0.1,0.5, 1.0, 5.0, 10.0, 50.0],\n",
        "        'reg_alpha':[0.01,0.05,0.1,0.5, 1.0, 5.0, 10.0, 50.0]\n",
        "        # 'n_estimators': [100,200,300,500,700,1000]\n",
        "}"
      ]
    },
    {
      "cell_type": "code",
      "execution_count": null,
      "metadata": {
        "colab": {
          "base_uri": "https://localhost:8080/",
          "height": 336
        },
        "id": "Es9gx3FP1w49",
        "outputId": "ea0fd405-0a05-4c05-d255-2809f0ad8b47"
      },
      "outputs": [
        {
          "name": "stdout",
          "output_type": "stream",
          "text": [
            "Randomized search..\n",
            "Fitting 5 folds for each of 600 candidates, totalling 3000 fits\n"
          ]
        },
        {
          "name": "stderr",
          "output_type": "stream",
          "text": [
            "[Parallel(n_jobs=-1)]: Using backend LokyBackend with 8 concurrent workers.\n",
            "[Parallel(n_jobs=-1)]: Done  34 tasks      | elapsed:    0.1s\n",
            "[Parallel(n_jobs=-1)]: Done 1552 tasks      | elapsed:    4.4s\n"
          ]
        },
        {
          "name": "stdout",
          "output_type": "stream",
          "text": [
            "Randomized search time: 8.453977346420288\n",
            "Best score: -964.2417836447145\n",
            "Best params: \n",
            "colsample_bylevel: 0.5\n",
            "colsample_bytree: 0.8\n",
            "gamma: 1.0\n",
            "max_depth: 3\n",
            "min_child_weight: 1.0\n",
            "reg_alpha: 0.05\n",
            "reg_lambda: 0.5\n",
            "silent: False\n",
            "subsample: 0.8\n"
          ]
        },
        {
          "name": "stderr",
          "output_type": "stream",
          "text": [
            "[Parallel(n_jobs=-1)]: Done 3000 out of 3000 | elapsed:    8.3s finished\n"
          ]
        }
      ],
      "source": [
        "from sklearn.model_selection import StratifiedKFold\n",
        "from sklearn.model_selection import KFold\n",
        "folds =5\n",
        "skf = KFold(n_splits=folds, shuffle = True, random_state = 42)\n",
        "# skf = StratifiedKFold(n_splits=folds, shuffle = True, random_state = 42)\n",
        "xgb_cv = RandomizedSearchCV(xgb_cl, param_grid_xgb, n_iter=600,\n",
        "                            n_jobs=-1, verbose=2, cv=skf.split(X_train[cols], y_train),\n",
        "                            scoring='neg_root_mean_squared_error', refit=False, random_state=42)  \n",
        "print(\"Randomized search..\")\n",
        "search_time_start = time.time() \n",
        "xgb_cv.fit(X_train[cols], y_train)\n",
        "print(\"Randomized search time:\", time.time() - search_time_start)\n",
        "\n",
        "best_score = xgb_cv.best_score_\n",
        "best_params = xgb_cv.best_params_\n",
        "print(\"Best score: {}\".format(best_score))\n",
        "print(\"Best params: \")\n",
        "for param_name in sorted(best_params.keys()):\n",
        "    print('%s: %r' % (param_name, best_params[param_name]))"
      ]
    },
    {
      "cell_type": "code",
      "execution_count": null,
      "metadata": {
        "id": "i-JT5v3w1wzG"
      },
      "outputs": [],
      "source": [
        "## Stage 2: learning rate and n_estimator optimization\n",
        "import time\n",
        "from sklearn.model_selection import RandomizedSearchCV\n",
        "\n",
        "xgb1_1 = xgb.XGBRegressor(missing = -999)\n",
        "\n",
        "param_grid_xgb_1 = {\n",
        "            'silent': [False],\n",
        "        'max_depth': [best_params['max_depth'], best_params['max_depth']],\n",
        "         'learning_rate': [0.001, 0.01, 0.03, 0.05,0.08, 0.1],\n",
        "        'subsample': [best_params['subsample'], best_params['subsample']],\n",
        "        'colsample_bytree': [best_params['colsample_bytree'], best_params['colsample_bytree']],\n",
        "        'colsample_bylevel': [best_params['colsample_bylevel'], best_params['colsample_bylevel']],\n",
        "        'min_child_weight': [best_params['min_child_weight'], best_params['min_child_weight']],\n",
        "        'gamma': [best_params['gamma'], best_params['gamma']],\n",
        "        'reg_lambda': [best_params['reg_lambda'], best_params['reg_lambda']],\n",
        "        'reg_alpha':[best_params['reg_alpha'], best_params['reg_alpha']],\n",
        "        'n_estimators': [100,200,300,500,700,1000]\n",
        " \n",
        "}"
      ]
    },
    {
      "cell_type": "code",
      "execution_count": null,
      "metadata": {
        "colab": {
          "base_uri": "https://localhost:8080/",
          "height": 386
        },
        "id": "oi8t8TtGMrty",
        "outputId": "b9917db2-09e1-4ab1-ccf4-dbb88361ccc4"
      },
      "outputs": [
        {
          "name": "stderr",
          "output_type": "stream",
          "text": [
            "[Parallel(n_jobs=-1)]: Using backend LokyBackend with 8 concurrent workers.\n"
          ]
        },
        {
          "name": "stdout",
          "output_type": "stream",
          "text": [
            "Randomized search..\n",
            "Fitting 5 folds for each of 600 candidates, totalling 3000 fits\n"
          ]
        },
        {
          "name": "stderr",
          "output_type": "stream",
          "text": [
            "[Parallel(n_jobs=-1)]: Done  34 tasks      | elapsed:    0.3s\n",
            "[Parallel(n_jobs=-1)]: Done 504 tasks      | elapsed:    5.1s\n",
            "[Parallel(n_jobs=-1)]: Done 1316 tasks      | elapsed:   14.1s\n",
            "[Parallel(n_jobs=-1)]: Done 2448 tasks      | elapsed:   25.2s\n"
          ]
        },
        {
          "name": "stdout",
          "output_type": "stream",
          "text": [
            "Randomized search time: 30.421827793121338\n",
            "Best score: -956.5216476915421\n",
            "Best params: \n",
            "colsample_bylevel: 0.5\n",
            "colsample_bytree: 0.8\n",
            "gamma: 1.0\n",
            "learning_rate: 0.1\n",
            "max_depth: 3\n",
            "min_child_weight: 1.0\n",
            "n_estimators: 700\n",
            "reg_alpha: 0.05\n",
            "reg_lambda: 0.5\n",
            "silent: False\n",
            "subsample: 0.8\n"
          ]
        },
        {
          "name": "stderr",
          "output_type": "stream",
          "text": [
            "[Parallel(n_jobs=-1)]: Done 2985 out of 3000 | elapsed:   30.2s remaining:    0.1s\n",
            "[Parallel(n_jobs=-1)]: Done 3000 out of 3000 | elapsed:   30.3s finished\n"
          ]
        }
      ],
      "source": [
        "from sklearn.model_selection import StratifiedKFold\n",
        "from sklearn.model_selection import KFold\n",
        "folds =5\n",
        "skf = KFold(n_splits=folds, shuffle = True, random_state = 42)\n",
        "# skf = StratifiedKFold(n_splits=folds, shuffle = True, random_state = 42)\n",
        "xgb_cv = RandomizedSearchCV(xgb1_1, param_grid_xgb_1, n_iter=600,\n",
        "                            n_jobs=-1, verbose=2, cv=skf.split(X_train[cols], y_train),\n",
        "                            scoring='neg_root_mean_squared_error', refit=False, random_state=42)  \n",
        "print(\"Randomized search..\")\n",
        "search_time_start = time.time() \n",
        "xgb_cv.fit(X_train[cols], y_train)\n",
        "print(\"Randomized search time:\", time.time() - search_time_start)\n",
        "\n",
        "best_score = xgb_cv.best_score_\n",
        "best_params = xgb_cv.best_params_\n",
        "print(\"Best score: {}\".format(best_score))\n",
        "print(\"Best params: \")\n",
        "for param_name in sorted(best_params.keys()):\n",
        "    print('%s: %r' % (param_name, best_params[param_name]))"
      ]
    },
    {
      "cell_type": "code",
      "execution_count": null,
      "metadata": {
        "colab": {
          "base_uri": "https://localhost:8080/",
          "height": 34
        },
        "id": "P4Bxv4k1M9h-",
        "outputId": "eaef779f-9465-46a6-ee12-e56bf39591b4"
      },
      "outputs": [
        {
          "name": "stdout",
          "output_type": "stream",
          "text": [
            "[22:58:34] WARNING: C:/Users/Administrator/workspace/xgboost-win64_release_1.2.0/src/objective/regression_obj.cu:174: reg:linear is now deprecated in favor of reg:squarederror.\n",
            "[22:58:34] WARNING: C:/Users/Administrator/workspace/xgboost-win64_release_1.2.0/src/objective/regression_obj.cu:174: reg:linear is now deprecated in favor of reg:squarederror.\n"
          ]
        }
      ],
      "source": [
        "# fit model on training data using the best hyperparameters with tweaking a little bit\n",
        "model_xgb = xgb.XGBRegressor(max_depth=best_params['max_depth'] ,learning_rate=best_params['learning_rate'], n_estimators=best_params['n_estimators'],\n",
        "                             verbosity=1, \n",
        "                      objective='reg:linear', booster='gbtree', tree_method='auto', n_jobs=-1,\n",
        "                      eval_metric = 'rmse',\n",
        "                      gamma=best_params['gamma'], min_child_weight=best_params['min_child_weight'], \n",
        "                      subsample=best_params['subsample'], \n",
        "                      colsample_bytree= best_params['colsample_bytree'], colsample_bylevel=best_params['colsample_bylevel'] ,\n",
        "                      reg_alpha=0, reg_lambda=best_params['reg_lambda'], scale_pos_weight=1,  \n",
        "                      alpha  = best_params['reg_alpha'],\n",
        "                     random_state=42, missing=-999, num_parallel_tree=2, importance_type='gain')\n",
        "\n",
        "# model_xgb.fit(X_train[low_vif_vars], y_train)\n",
        "xgb_fit = model_xgb.fit(X_train[cols], y_train)"
      ]
    },
    {
      "cell_type": "code",
      "execution_count": null,
      "metadata": {
        "id": "vKQgB_NnS82Q",
        "outputId": "51af23e5-dd7a-4447-cab4-9e2671abe02c"
      },
      "outputs": [
        {
          "data": {
            "image/png": "[encoded data removed]",
            "text/plain": [
              "<Figure size 576x720 with 1 Axes>"
            ]
          },
          "metadata": {},
          "output_type": "display_data"
        }
      ],
      "source": [
        "feature_importance = xgb_fit.feature_importances_\n",
        "# make importances relative to max importance\n",
        "feature_importance = 100.0 * (feature_importance / feature_importance.max())\n",
        "sorted_idx = np.argsort(feature_importance)\n",
        "pos = np.arange(sorted_idx.shape[0]) + .5\n",
        "# plt.subplot(1, 2, 2)\n",
        "plt.figure(figsize=(8, 10))\n",
        "plt.barh(pos, feature_importance[sorted_idx], align='center')\n",
        "plt.yticks(pos, X_train[cols].keys()[sorted_idx])\n",
        "plt.xlabel('Relative Importance')\n",
        "plt.title('Variable Importance')\n",
        "plt.show()"
      ]
    },
    {
      "cell_type": "code",
      "execution_count": null,
      "metadata": {
        "id": "c6B88IA2M9k-"
      },
      "outputs": [],
      "source": [
        "pred_trn = xgb_fit.predict(X_train[cols])\n",
        "pred_tst = xgb_fit.predict(X_test[cols])\n",
        "\n",
        "pred_trn = pd.DataFrame(pred_trn)\n",
        "pred_tst = pd.DataFrame(pred_tst)"
      ]
    },
    {
      "cell_type": "code",
      "execution_count": null,
      "metadata": {
        "colab": {
          "base_uri": "https://localhost:8080/",
          "height": 50
        },
        "id": "7Fx1dIC4M9o7",
        "outputId": "0a4114e9-db15-4843-915e-dcf1f76f2263"
      },
      "outputs": [
        {
          "name": "stdout",
          "output_type": "stream",
          "text": [
            "0.8987556383060584\n",
            "750.3335261853777\n"
          ]
        }
      ],
      "source": [
        "rmse_trn = mean_squared_error(y_train, pred_trn, squared=False)\n",
        "print(rmse_trn)\n",
        "rmse_tst = mean_squared_error(y_test, pred_tst, squared=False)\n",
        "print(rmse_tst)"
      ]
    },
    {
      "cell_type": "code",
      "execution_count": null,
      "metadata": {
        "colab": {
          "base_uri": "https://localhost:8080/",
          "height": 84
        },
        "id": "XUhG4FOrNHwY",
        "outputId": "6285b23a-81d8-473f-a047-7e09115109d4"
      },
      "outputs": [
        {
          "data": {
            "text/plain": [
              "(0.9999998309110381, 0.8537523153312927, 0.9999997515427498, 0.643521268620026)"
            ]
          },
          "execution_count": 141,
          "metadata": {},
          "output_type": "execute_result"
        }
      ],
      "source": [
        "calc_adj_rsq(y_train, y_test, pred_trn,pred_tst, ncol =len(cols), nrowtr = X_train.shape[0], nrowts =X_test.shape[0])"
      ]
    },
    {
      "cell_type": "code",
      "execution_count": null,
      "metadata": {
        "id": "bXO_W1jsNHzr"
      },
      "outputs": [],
      "source": [
        "## It seems that the basic xgb model with default hyper-parameters is the best one as of now  "
      ]
    },
    {
      "cell_type": "code",
      "execution_count": null,
      "metadata": {
        "id": "6EC5I8w41uW-"
      },
      "outputs": [],
      "source": [
        "####################################################################################################################\n",
        "####################################################################################################################"
      ]
    },
    {
      "cell_type": "code",
      "execution_count": null,
      "metadata": {
        "id": "uyQL2Hj6S82R"
      },
      "outputs": [],
      "source": [
        "# Sensitivity Analysis by Variables"
      ]
    },
    {
      "cell_type": "code",
      "execution_count": null,
      "metadata": {
        "colab": {
          "base_uri": "https://localhost:8080/",
          "height": 160
        },
        "id": "GvbT3ikN1flG",
        "outputId": "2072dc10-ff05-4979-a376-aedd0da3cda3"
      },
      "outputs": [
        {
          "data": {
            "text/html": [
              "<div>\n",
              "<style scoped>\n",
              "    .dataframe tbody tr th:only-of-type {\n",
              "        vertical-align: middle;\n",
              "    }\n",
              "\n",
              "    .dataframe tbody tr th {\n",
              "        vertical-align: top;\n",
              "    }\n",
              "\n",
              "    .dataframe thead th {\n",
              "        text-align: right;\n",
              "    }\n",
              "</style>\n",
              "<table border=\"1\" class=\"dataframe\">\n",
              "  <thead>\n",
              "    <tr style=\"text-align: right;\">\n",
              "      <th></th>\n",
              "      <th>Capacity_GB</th>\n",
              "      <th>Sum of Units</th>\n",
              "      <th>Average of Discount</th>\n",
              "      <th>Elasticity Coefficint</th>\n",
              "      <th>Vendor_Agnostic</th>\n",
              "      <th>Vendor_Intel</th>\n",
              "      <th>Vendor_Micron</th>\n",
              "      <th>Vendor_Samsung</th>\n",
              "      <th>Vendor_Toshiba</th>\n",
              "      <th>Encryption_Regular</th>\n",
              "      <th>Encryption_SED</th>\n",
              "      <th>Use_MU</th>\n",
              "      <th>Use_RI</th>\n",
              "      <th>Use_Regular</th>\n",
              "      <th>Use_WI</th>\n",
              "      <th>Type_HDD</th>\n",
              "      <th>Type_SSD</th>\n",
              "      <th>Bus_NLSAS</th>\n",
              "      <th>Bus_NVMe</th>\n",
              "      <th>Bus_NVMe_DC</th>\n",
              "      <th>Bus_SAS</th>\n",
              "      <th>Bus_SATA</th>\n",
              "      <th>Bus_vSAS</th>\n",
              "    </tr>\n",
              "  </thead>\n",
              "  <tbody>\n",
              "    <tr>\n",
              "      <th>5</th>\n",
              "      <td>3840</td>\n",
              "      <td>122</td>\n",
              "      <td>0.6</td>\n",
              "      <td>1.06</td>\n",
              "      <td>1</td>\n",
              "      <td>0</td>\n",
              "      <td>0</td>\n",
              "      <td>0</td>\n",
              "      <td>0</td>\n",
              "      <td>1</td>\n",
              "      <td>0</td>\n",
              "      <td>1</td>\n",
              "      <td>0</td>\n",
              "      <td>0</td>\n",
              "      <td>0</td>\n",
              "      <td>0</td>\n",
              "      <td>1</td>\n",
              "      <td>0</td>\n",
              "      <td>0</td>\n",
              "      <td>0</td>\n",
              "      <td>0</td>\n",
              "      <td>0</td>\n",
              "      <td>1</td>\n",
              "    </tr>\n",
              "    <tr>\n",
              "      <th>6</th>\n",
              "      <td>3840</td>\n",
              "      <td>106</td>\n",
              "      <td>0.6</td>\n",
              "      <td>1.17</td>\n",
              "      <td>1</td>\n",
              "      <td>0</td>\n",
              "      <td>0</td>\n",
              "      <td>0</td>\n",
              "      <td>0</td>\n",
              "      <td>1</td>\n",
              "      <td>0</td>\n",
              "      <td>0</td>\n",
              "      <td>1</td>\n",
              "      <td>0</td>\n",
              "      <td>0</td>\n",
              "      <td>0</td>\n",
              "      <td>1</td>\n",
              "      <td>0</td>\n",
              "      <td>0</td>\n",
              "      <td>1</td>\n",
              "      <td>0</td>\n",
              "      <td>0</td>\n",
              "      <td>0</td>\n",
              "    </tr>\n",
              "  </tbody>\n",
              "</table>\n",
              "</div>"
            ],
            "text/plain": [
              "   Capacity_GB  Sum of Units  Average of Discount  Elasticity Coefficint  \\\n",
              "5         3840           122                  0.6                   1.06   \n",
              "6         3840           106                  0.6                   1.17   \n",
              "\n",
              "   Vendor_Agnostic  Vendor_Intel  Vendor_Micron  Vendor_Samsung  \\\n",
              "5                1             0              0               0   \n",
              "6                1             0              0               0   \n",
              "\n",
              "   Vendor_Toshiba  Encryption_Regular  Encryption_SED  Use_MU  Use_RI  \\\n",
              "5               0                   1               0       1       0   \n",
              "6               0                   1               0       0       1   \n",
              "\n",
              "   Use_Regular  Use_WI  Type_HDD  Type_SSD  Bus_NLSAS  Bus_NVMe  Bus_NVMe_DC  \\\n",
              "5            0       0         0         1          0         0            0   \n",
              "6            0       0         0         1          0         0            1   \n",
              "\n",
              "   Bus_SAS  Bus_SATA  Bus_vSAS  \n",
              "5        0         0         1  \n",
              "6        0         0         0  "
            ]
          },
          "execution_count": 180,
          "metadata": {},
          "output_type": "execute_result"
        }
      ],
      "source": [
        "df_sens = (pd.DataFrame(train.loc[5:6][cols]))\n",
        "df_sens"
      ]
    },
    {
      "cell_type": "code",
      "execution_count": null,
      "metadata": {
        "id": "q6MECoAaS82R"
      },
      "outputs": [],
      "source": [
        "pd.options.display.max_columns = 1000"
      ]
    },
    {
      "cell_type": "code",
      "execution_count": null,
      "metadata": {
        "colab": {
          "base_uri": "https://localhost:8080/",
          "height": 160
        },
        "id": "fyn0z5781klF",
        "outputId": "d8cf941c-b823-4cfc-8523-24d3f25f4809"
      },
      "outputs": [
        {
          "data": {
            "text/html": [
              "<div>\n",
              "<style scoped>\n",
              "    .dataframe tbody tr th:only-of-type {\n",
              "        vertical-align: middle;\n",
              "    }\n",
              "\n",
              "    .dataframe tbody tr th {\n",
              "        vertical-align: top;\n",
              "    }\n",
              "\n",
              "    .dataframe thead th {\n",
              "        text-align: right;\n",
              "    }\n",
              "</style>\n",
              "<table border=\"1\" class=\"dataframe\">\n",
              "  <thead>\n",
              "    <tr style=\"text-align: right;\">\n",
              "      <th></th>\n",
              "      <th>Capacity_GB</th>\n",
              "      <th>Sum of Units</th>\n",
              "      <th>Average of Discount</th>\n",
              "      <th>Elasticity Coefficint</th>\n",
              "      <th>Vendor_Agnostic</th>\n",
              "      <th>Vendor_Intel</th>\n",
              "      <th>Vendor_Micron</th>\n",
              "      <th>Vendor_Samsung</th>\n",
              "      <th>Vendor_Toshiba</th>\n",
              "      <th>Encryption_Regular</th>\n",
              "      <th>Encryption_SED</th>\n",
              "      <th>Use_MU</th>\n",
              "      <th>Use_RI</th>\n",
              "      <th>Use_Regular</th>\n",
              "      <th>Use_WI</th>\n",
              "      <th>Type_HDD</th>\n",
              "      <th>Type_SSD</th>\n",
              "      <th>Bus_NLSAS</th>\n",
              "      <th>Bus_NVMe</th>\n",
              "      <th>Bus_NVMe_DC</th>\n",
              "      <th>Bus_SAS</th>\n",
              "      <th>Bus_SATA</th>\n",
              "      <th>Bus_vSAS</th>\n",
              "    </tr>\n",
              "  </thead>\n",
              "  <tbody>\n",
              "    <tr>\n",
              "      <th>5</th>\n",
              "      <td>2000</td>\n",
              "      <td>122</td>\n",
              "      <td>0.6</td>\n",
              "      <td>1.06</td>\n",
              "      <td>1</td>\n",
              "      <td>0</td>\n",
              "      <td>0</td>\n",
              "      <td>0</td>\n",
              "      <td>0</td>\n",
              "      <td>1</td>\n",
              "      <td>0</td>\n",
              "      <td>1</td>\n",
              "      <td>0</td>\n",
              "      <td>0</td>\n",
              "      <td>0</td>\n",
              "      <td>0</td>\n",
              "      <td>1</td>\n",
              "      <td>0</td>\n",
              "      <td>0</td>\n",
              "      <td>0</td>\n",
              "      <td>0</td>\n",
              "      <td>0</td>\n",
              "      <td>1</td>\n",
              "    </tr>\n",
              "    <tr>\n",
              "      <th>6</th>\n",
              "      <td>5000</td>\n",
              "      <td>106</td>\n",
              "      <td>0.6</td>\n",
              "      <td>1.17</td>\n",
              "      <td>1</td>\n",
              "      <td>0</td>\n",
              "      <td>0</td>\n",
              "      <td>0</td>\n",
              "      <td>0</td>\n",
              "      <td>1</td>\n",
              "      <td>0</td>\n",
              "      <td>0</td>\n",
              "      <td>1</td>\n",
              "      <td>0</td>\n",
              "      <td>0</td>\n",
              "      <td>0</td>\n",
              "      <td>1</td>\n",
              "      <td>0</td>\n",
              "      <td>0</td>\n",
              "      <td>1</td>\n",
              "      <td>0</td>\n",
              "      <td>0</td>\n",
              "      <td>0</td>\n",
              "    </tr>\n",
              "  </tbody>\n",
              "</table>\n",
              "</div>"
            ],
            "text/plain": [
              "   Capacity_GB  Sum of Units  Average of Discount  Elasticity Coefficint  \\\n",
              "5         2000           122                  0.6                   1.06   \n",
              "6         5000           106                  0.6                   1.17   \n",
              "\n",
              "   Vendor_Agnostic  Vendor_Intel  Vendor_Micron  Vendor_Samsung  \\\n",
              "5                1             0              0               0   \n",
              "6                1             0              0               0   \n",
              "\n",
              "   Vendor_Toshiba  Encryption_Regular  Encryption_SED  Use_MU  Use_RI  \\\n",
              "5               0                   1               0       1       0   \n",
              "6               0                   1               0       0       1   \n",
              "\n",
              "   Use_Regular  Use_WI  Type_HDD  Type_SSD  Bus_NLSAS  Bus_NVMe  Bus_NVMe_DC  \\\n",
              "5            0       0         0         1          0         0            0   \n",
              "6            0       0         0         1          0         0            1   \n",
              "\n",
              "   Bus_SAS  Bus_SATA  Bus_vSAS  \n",
              "5        0         0         1  \n",
              "6        0         0         0  "
            ]
          },
          "execution_count": 152,
          "metadata": {},
          "output_type": "execute_result"
        }
      ],
      "source": [
        "# Variable Name : Capacity_GB(by Avg Average of New Price)\n",
        "# #######################################################################\n",
        "#          Capacity_GB  Average of New Price\n",
        "# 0   (239.999, 480.0]           1054.500000\n",
        "# 1     (480.0, 924.0]           1811.883333\n",
        "# 2     (924.0, 960.0]           1256.787500\n",
        "# 3    (960.0, 1600.0]           2591.150000\n",
        "# 4   (1600.0, 1920.0]           2505.910000\n",
        "# 5   (1920.0, 3200.0]           3456.088889\n",
        "# 6   (3200.0, 3840.0]           4696.846154\n",
        "# 7   (3840.0, 6320.0]           2617.966667\n",
        "# 8  (6320.0, 14000.0]           4127.800000\n",
        "df_sens.loc[6,\"Capacity_GB\"] =  5000\n",
        "df_sens.loc[5,\"Capacity_GB\"] =  2000\n",
        "# [2525.8706, 4005.8962]  ; price increases when capacity is decreased\n",
        "\n",
        "\n",
        "df_sens"
      ]
    },
    {
      "cell_type": "code",
      "execution_count": null,
      "metadata": {
        "id": "w2MjDIGyS82R"
      },
      "outputs": [],
      "source": [
        "#       Average of New Price\n",
        "# Type                      \n",
        "# HDD            1071.309524\n",
        "# SSD            2937.047826\n",
        "\n",
        "# 4254.4575, 2654.0886 ; with HDD decreases the price\n",
        "df_sens.loc[6,\"Type_HDD\"] =  1\n",
        "df_sens.loc[5,\"Type_HDD\"] =  0\n",
        "df_sens"
      ]
    },
    {
      "cell_type": "code",
      "execution_count": null,
      "metadata": {
        "id": "vQ8_uOzPS82S",
        "outputId": "616bc4a9-789c-4426-d4b5-8841f0a4ceae"
      },
      "outputs": [
        {
          "data": {
            "text/html": [
              "<div>\n",
              "<style scoped>\n",
              "    .dataframe tbody tr th:only-of-type {\n",
              "        vertical-align: middle;\n",
              "    }\n",
              "\n",
              "    .dataframe tbody tr th {\n",
              "        vertical-align: top;\n",
              "    }\n",
              "\n",
              "    .dataframe thead th {\n",
              "        text-align: right;\n",
              "    }\n",
              "</style>\n",
              "<table border=\"1\" class=\"dataframe\">\n",
              "  <thead>\n",
              "    <tr style=\"text-align: right;\">\n",
              "      <th></th>\n",
              "      <th>Capacity_GB</th>\n",
              "      <th>Sum of Units</th>\n",
              "      <th>Average of Discount</th>\n",
              "      <th>Elasticity Coefficint</th>\n",
              "      <th>Vendor_Agnostic</th>\n",
              "      <th>Vendor_Intel</th>\n",
              "      <th>Vendor_Micron</th>\n",
              "      <th>Vendor_Samsung</th>\n",
              "      <th>Vendor_Toshiba</th>\n",
              "      <th>Encryption_Regular</th>\n",
              "      <th>Encryption_SED</th>\n",
              "      <th>Use_MU</th>\n",
              "      <th>Use_RI</th>\n",
              "      <th>Use_Regular</th>\n",
              "      <th>Use_WI</th>\n",
              "      <th>Type_HDD</th>\n",
              "      <th>Type_SSD</th>\n",
              "      <th>Bus_NLSAS</th>\n",
              "      <th>Bus_NVMe</th>\n",
              "      <th>Bus_NVMe_DC</th>\n",
              "      <th>Bus_SAS</th>\n",
              "      <th>Bus_SATA</th>\n",
              "      <th>Bus_vSAS</th>\n",
              "    </tr>\n",
              "  </thead>\n",
              "  <tbody>\n",
              "    <tr>\n",
              "      <th>5</th>\n",
              "      <td>3840</td>\n",
              "      <td>122</td>\n",
              "      <td>0.6</td>\n",
              "      <td>1.06</td>\n",
              "      <td>1</td>\n",
              "      <td>0</td>\n",
              "      <td>0</td>\n",
              "      <td>0</td>\n",
              "      <td>0</td>\n",
              "      <td>1</td>\n",
              "      <td>0</td>\n",
              "      <td>1</td>\n",
              "      <td>0</td>\n",
              "      <td>0</td>\n",
              "      <td>0</td>\n",
              "      <td>0</td>\n",
              "      <td>1</td>\n",
              "      <td>0</td>\n",
              "      <td>0</td>\n",
              "      <td>0</td>\n",
              "      <td>0</td>\n",
              "      <td>0</td>\n",
              "      <td>1</td>\n",
              "    </tr>\n",
              "    <tr>\n",
              "      <th>6</th>\n",
              "      <td>3840</td>\n",
              "      <td>106</td>\n",
              "      <td>0.6</td>\n",
              "      <td>1.17</td>\n",
              "      <td>1</td>\n",
              "      <td>0</td>\n",
              "      <td>0</td>\n",
              "      <td>0</td>\n",
              "      <td>0</td>\n",
              "      <td>1</td>\n",
              "      <td>0</td>\n",
              "      <td>0</td>\n",
              "      <td>1</td>\n",
              "      <td>1</td>\n",
              "      <td>0</td>\n",
              "      <td>0</td>\n",
              "      <td>1</td>\n",
              "      <td>0</td>\n",
              "      <td>0</td>\n",
              "      <td>1</td>\n",
              "      <td>0</td>\n",
              "      <td>0</td>\n",
              "      <td>0</td>\n",
              "    </tr>\n",
              "  </tbody>\n",
              "</table>\n",
              "</div>"
            ],
            "text/plain": [
              "   Capacity_GB  Sum of Units  Average of Discount  Elasticity Coefficint  \\\n",
              "5         3840           122                  0.6                   1.06   \n",
              "6         3840           106                  0.6                   1.17   \n",
              "\n",
              "   Vendor_Agnostic  Vendor_Intel  Vendor_Micron  Vendor_Samsung  \\\n",
              "5                1             0              0               0   \n",
              "6                1             0              0               0   \n",
              "\n",
              "   Vendor_Toshiba  Encryption_Regular  Encryption_SED  Use_MU  Use_RI  \\\n",
              "5               0                   1               0       1       0   \n",
              "6               0                   1               0       0       1   \n",
              "\n",
              "   Use_Regular  Use_WI  Type_HDD  Type_SSD  Bus_NLSAS  Bus_NVMe  Bus_NVMe_DC  \\\n",
              "5            0       0         0         1          0         0            0   \n",
              "6            1       0         0         1          0         0            1   \n",
              "\n",
              "   Bus_SAS  Bus_SATA  Bus_vSAS  \n",
              "5        0         0         1  \n",
              "6        0         0         0  "
            ]
          },
          "execution_count": 160,
          "metadata": {},
          "output_type": "execute_result"
        }
      ],
      "source": [
        "#          Average of New Price\n",
        "# Use                          \n",
        "# MU                3089.770588\n",
        "# RI                2789.046000\n",
        "# Regular           1071.309524\n",
        "# WI                3212.987500\n",
        "\n",
        "# 4254.4575, 2085.3364 ; with  Regular, decreases the price\n",
        "df_sens.loc[6,\"Use_Regular\"] =  1\n",
        "df_sens.loc[5,\"Use_Regular\"] =  0\n",
        "df_sens"
      ]
    },
    {
      "cell_type": "code",
      "execution_count": null,
      "metadata": {
        "id": "d2V-zbyIS82S",
        "outputId": "49e481ac-e24b-4ac6-d897-01d4a40ee287"
      },
      "outputs": [
        {
          "data": {
            "text/html": [
              "<div>\n",
              "<style scoped>\n",
              "    .dataframe tbody tr th:only-of-type {\n",
              "        vertical-align: middle;\n",
              "    }\n",
              "\n",
              "    .dataframe tbody tr th {\n",
              "        vertical-align: top;\n",
              "    }\n",
              "\n",
              "    .dataframe thead th {\n",
              "        text-align: right;\n",
              "    }\n",
              "</style>\n",
              "<table border=\"1\" class=\"dataframe\">\n",
              "  <thead>\n",
              "    <tr style=\"text-align: right;\">\n",
              "      <th></th>\n",
              "      <th>Capacity_GB</th>\n",
              "      <th>Sum of Units</th>\n",
              "      <th>Average of Discount</th>\n",
              "      <th>Elasticity Coefficint</th>\n",
              "      <th>Vendor_Agnostic</th>\n",
              "      <th>Vendor_Intel</th>\n",
              "      <th>Vendor_Micron</th>\n",
              "      <th>Vendor_Samsung</th>\n",
              "      <th>Vendor_Toshiba</th>\n",
              "      <th>Encryption_Regular</th>\n",
              "      <th>Encryption_SED</th>\n",
              "      <th>Use_MU</th>\n",
              "      <th>Use_RI</th>\n",
              "      <th>Use_Regular</th>\n",
              "      <th>Use_WI</th>\n",
              "      <th>Type_HDD</th>\n",
              "      <th>Type_SSD</th>\n",
              "      <th>Bus_NLSAS</th>\n",
              "      <th>Bus_NVMe</th>\n",
              "      <th>Bus_NVMe_DC</th>\n",
              "      <th>Bus_SAS</th>\n",
              "      <th>Bus_SATA</th>\n",
              "      <th>Bus_vSAS</th>\n",
              "    </tr>\n",
              "  </thead>\n",
              "  <tbody>\n",
              "    <tr>\n",
              "      <th>5</th>\n",
              "      <td>3840</td>\n",
              "      <td>122</td>\n",
              "      <td>0.1</td>\n",
              "      <td>1.06</td>\n",
              "      <td>1</td>\n",
              "      <td>0</td>\n",
              "      <td>0</td>\n",
              "      <td>0</td>\n",
              "      <td>0</td>\n",
              "      <td>1</td>\n",
              "      <td>0</td>\n",
              "      <td>1</td>\n",
              "      <td>0</td>\n",
              "      <td>0</td>\n",
              "      <td>0</td>\n",
              "      <td>0</td>\n",
              "      <td>1</td>\n",
              "      <td>0</td>\n",
              "      <td>0</td>\n",
              "      <td>0</td>\n",
              "      <td>0</td>\n",
              "      <td>0</td>\n",
              "      <td>1</td>\n",
              "    </tr>\n",
              "    <tr>\n",
              "      <th>6</th>\n",
              "      <td>3840</td>\n",
              "      <td>106</td>\n",
              "      <td>0.9</td>\n",
              "      <td>1.17</td>\n",
              "      <td>1</td>\n",
              "      <td>0</td>\n",
              "      <td>0</td>\n",
              "      <td>0</td>\n",
              "      <td>0</td>\n",
              "      <td>1</td>\n",
              "      <td>0</td>\n",
              "      <td>0</td>\n",
              "      <td>1</td>\n",
              "      <td>0</td>\n",
              "      <td>0</td>\n",
              "      <td>0</td>\n",
              "      <td>1</td>\n",
              "      <td>0</td>\n",
              "      <td>0</td>\n",
              "      <td>1</td>\n",
              "      <td>0</td>\n",
              "      <td>0</td>\n",
              "      <td>0</td>\n",
              "    </tr>\n",
              "  </tbody>\n",
              "</table>\n",
              "</div>"
            ],
            "text/plain": [
              "   Capacity_GB  Sum of Units  Average of Discount  Elasticity Coefficint  \\\n",
              "5         3840           122                  0.1                   1.06   \n",
              "6         3840           106                  0.9                   1.17   \n",
              "\n",
              "   Vendor_Agnostic  Vendor_Intel  Vendor_Micron  Vendor_Samsung  \\\n",
              "5                1             0              0               0   \n",
              "6                1             0              0               0   \n",
              "\n",
              "   Vendor_Toshiba  Encryption_Regular  Encryption_SED  Use_MU  Use_RI  \\\n",
              "5               0                   1               0       1       0   \n",
              "6               0                   1               0       0       1   \n",
              "\n",
              "   Use_Regular  Use_WI  Type_HDD  Type_SSD  Bus_NLSAS  Bus_NVMe  Bus_NVMe_DC  \\\n",
              "5            0       0         0         1          0         0            0   \n",
              "6            0       0         0         1          0         0            1   \n",
              "\n",
              "   Bus_SAS  Bus_SATA  Bus_vSAS  \n",
              "5        0         0         1  \n",
              "6        0         0         0  "
            ]
          },
          "execution_count": 182,
          "metadata": {},
          "output_type": "execute_result"
        }
      ],
      "source": [
        "# Variable Name : Average of Discount(by Avg Average of New Price)\n",
        "# #######################################################################\n",
        "#   Average of Discount  Average of New Price\n",
        "# 0        (0.399, 0.5]           1257.108824\n",
        "# 1          (0.5, 0.6]           2820.657143\n",
        "# 2          (0.6, 0.9]           4000.321739\n",
        "\n",
        "# 3596.4705, 3945.4705]; with increase in avg discount price increases\n",
        "\n",
        "df_sens.loc[5,\"Average of Discount\"] =  0.1\n",
        "df_sens.loc[6,\"Average of Discount\"] =  0.9\n",
        "df_sens"
      ]
    },
    {
      "cell_type": "code",
      "execution_count": null,
      "metadata": {
        "colab": {
          "base_uri": "https://localhost:8080/",
          "height": 34
        },
        "id": "NCIadHn81oQA",
        "outputId": "22d64ea5-a9d2-4313-ca6f-1ecf35ea369b"
      },
      "outputs": [
        {
          "data": {
            "text/plain": [
              "array([3596.4705, 3945.4705], dtype=float32)"
            ]
          },
          "execution_count": 183,
          "metadata": {},
          "output_type": "execute_result"
        }
      ],
      "source": [
        "xgb_fit.predict(df_sens) # [4254.4575, 3763.9792]"
      ]
    },
    {
      "cell_type": "code",
      "execution_count": null,
      "metadata": {
        "id": "xfrLlZ-x1pEd"
      },
      "outputs": [],
      "source": [
        "##########################################################################################"
      ]
    },
    {
      "cell_type": "code",
      "execution_count": null,
      "metadata": {
        "id": "4zc6G4yOD2J7"
      },
      "outputs": [],
      "source": [
        "trcalc = pd.DataFrame()\n",
        "tscalc = pd.DataFrame()\n",
        "trcalc['y'] = y_train.reset_index(drop =True)\n",
        "trcalc['pr'] = pred_trn\n",
        "trcalc['mean'] = np.mean(y_train)\n",
        "\n",
        "tscalc['y'] = y_test.reset_index(drop =True)\n",
        "tscalc['pr'] = pred_tst\n",
        "tscalc['mean'] = np.mean(y_test)"
      ]
    },
    {
      "cell_type": "code",
      "execution_count": null,
      "metadata": {
        "id": "DUxrr7gCiOcj"
      },
      "outputs": [],
      "source": [
        "ssr1 = np.sum(np.power((trcalc['y'] -  trcalc['pr']),2))\n",
        "ssr2 = np.sum(np.power((tscalc['y'] -  tscalc['pr']),2))"
      ]
    },
    {
      "cell_type": "code",
      "execution_count": null,
      "metadata": {
        "colab": {
          "base_uri": "https://localhost:8080/"
        },
        "id": "T6podGHNn3JO",
        "outputId": "fa823f92-890e-4b1c-a4f7-1213239d30f9"
      },
      "outputs": [
        {
          "data": {
            "text/plain": [
              "(11809.709043941664, 485212.9857472368)"
            ]
          },
          "execution_count": 105,
          "metadata": {
            "tags": []
          },
          "output_type": "execute_result"
        }
      ],
      "source": [
        "ssr1 , ssr2"
      ]
    },
    {
      "cell_type": "code",
      "execution_count": null,
      "metadata": {
        "id": "SnZ-5TBZlLqt"
      },
      "outputs": [],
      "source": [
        "sst1 = np.sum(np.power((trcalc['y'] -  trcalc['mean']),2))\n",
        "sst2 = np.sum(np.power((tscalc['y'] -  tscalc['mean']),2))"
      ]
    },
    {
      "cell_type": "code",
      "execution_count": null,
      "metadata": {
        "colab": {
          "base_uri": "https://localhost:8080/"
        },
        "id": "3uOk2KbBoEJE",
        "outputId": "1f18ccd3-f578-493a-dcdd-a292a1ffbe5d"
      },
      "outputs": [
        {
          "data": {
            "text/plain": [
              "(335791820.4274627, 158720728.74717388)"
            ]
          },
          "execution_count": 107,
          "metadata": {
            "tags": []
          },
          "output_type": "execute_result"
        }
      ],
      "source": [
        "sst1 , sst2"
      ]
    },
    {
      "cell_type": "code",
      "execution_count": null,
      "metadata": {
        "colab": {
          "base_uri": "https://localhost:8080/"
        },
        "id": "lE-t9RaklS1d",
        "outputId": "85eb9a51-6dd0-4868-cba0-4ded2ce7be88"
      },
      "outputs": [
        {
          "data": {
            "text/plain": [
              "(2823.050746268657, 67, 46, 24)"
            ]
          },
          "execution_count": 108,
          "metadata": {
            "tags": []
          },
          "output_type": "execute_result"
        }
      ],
      "source": [
        "np.mean(y_train), X_train.shape[0], X_test.shape[0], len(cols)"
      ]
    },
    {
      "cell_type": "code",
      "execution_count": null,
      "metadata": {
        "colab": {
          "base_uri": "https://localhost:8080/"
        },
        "id": "qvFk1HkNaa3J",
        "outputId": "5ff33aee-a29e-451c-d3a6-30e1e98575cf"
      },
      "outputs": [
        {
          "name": "stdout",
          "output_type": "stream",
          "text": [
            "0.9999648302658805\n",
            "0.9969429765754155\n",
            "0.999944733274955\n",
            "0.9934492355187475\n"
          ]
        }
      ],
      "source": [
        "r2_tr = 1 - (ssr1/sst1)\n",
        "r2_ts = 1 - (ssr2/sst2)\n",
        "print(r2_tr)\n",
        "print(r2_ts)\n",
        "# r2_score(y_train, pred_trn)\n",
        "r2_adj_tr = 1 - (1- r2_tr)*(X_train.shape[0]-1)/(X_train.shape[0]- len(cols)-1)\n",
        "print(r2_adj_tr)\n",
        "# r2_ts =  r2_score(y_test, pred_tst)\n",
        "r2_adj_ts = 1 - (1- r2_ts)*(X_test.shape[0]-1)/(X_test.shape[0]- len(cols)-1)\n",
        "print(r2_adj_ts)"
      ]
    },
    {
      "cell_type": "code",
      "execution_count": null,
      "metadata": {
        "id": "dnzA3YuPcCt6"
      },
      "outputs": [],
      "source": [
        "## Since there is little data we see overfitting here\n",
        "## the last model with 2-stage hyperparameter "
      ]
    },
    {
      "cell_type": "code",
      "execution_count": null,
      "metadata": {
        "id": "Os08fi__cDYm"
      },
      "outputs": [],
      "source": []
    }
  ],
  "metadata": {
    "colab": {
      "provenance": [],
      "include_colab_link": true
    },
    "kernelspec": {
      "display_name": "Python 3",
      "language": "python",
      "name": "python3"
    },
    "language_info": {
      "codemirror_mode": {
        "name": "ipython",
        "version": 3
      },
      "file_extension": ".py",
      "mimetype": "text/x-python",
      "name": "python",
      "nbconvert_exporter": "python",
      "pygments_lexer": "ipython3",
      "version": "3.7.5"
    }
  },
  "nbformat": 4,
  "nbformat_minor": 0
}