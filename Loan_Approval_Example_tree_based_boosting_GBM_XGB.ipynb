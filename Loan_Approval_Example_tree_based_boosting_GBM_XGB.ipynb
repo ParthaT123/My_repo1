{
  "nbformat": 4,
  "nbformat_minor": 0,
  "metadata": {
    "colab": {
      "provenance": [],
      "authorship_tag": "ABX9TyOH5X/m0llM041IWAw6BTjv",
      "include_colab_link": true
    },
    "kernelspec": {
      "name": "python3",
      "display_name": "Python 3"
    }
  },
  "cells": [
    {
      "cell_type": "markdown",
      "metadata": {
        "id": "view-in-github",
        "colab_type": "text"
      },
      "source": [
        "<a href=\"https://colab.research.google.com/github/ParthaT123/My_repo1/blob/main/Loan_Approval_Example_tree_based_boosting_GBM_XGB.ipynb\" target=\"_parent\"><img src=\"https://colab.research.google.com/assets/colab-badge.svg\" alt=\"Open In Colab\"/></a>"
      ]
    },
    {
      "cell_type": "code",
      "metadata": {
        "id": "EUBaJNhoMZZW"
      },
      "source": [
        " ## Import some libraries\n",
        "import numpy as np\n",
        "import pandas as pd\n",
        "import datetime\n",
        "import matplotlib.pyplot as plt\n",
        "from matplotlib.pyplot import figure\n",
        "import seaborn as sns"
      ],
      "execution_count": null,
      "outputs": []
    },
    {
      "cell_type": "code",
      "metadata": {
        "id": "5eyMKkoxN5qV",
        "colab": {
          "base_uri": "https://localhost:8080/"
        },
        "outputId": "67f830e5-cb24-49ed-a0f5-4174710ab8c1"
      },
      "source": [
        "## Check the directory\n",
        "import os\n",
        "\n",
        "path = os.getcwd()\n",
        "\n",
        "print(path)"
      ],
      "execution_count": null,
      "outputs": [
        {
          "output_type": "stream",
          "text": [
            "/content\n"
          ],
          "name": "stdout"
        }
      ]
    },
    {
      "cell_type": "markdown",
      "metadata": {
        "id": "kdh0GWcljAOE"
      },
      "source": [
        "## Reading/Importing the data from Gdrive"
      ]
    },
    {
      "cell_type": "code",
      "metadata": {
        "id": "M9Zks_heN5tP"
      },
      "source": [
        "import warnings\n",
        "warnings.filterwarnings(\"ignore\")"
      ],
      "execution_count": null,
      "outputs": []
    },
    {
      "cell_type": "code",
      "metadata": {
        "id": "5GLKx3PSN5vc"
      },
      "source": [
        "## For Gdrive and Colab\n",
        "\n",
        "# Code to read csv file into Colaboratory:\n",
        "# !pip install -U -q PyDrive\n",
        "from pydrive.auth import GoogleAuth\n",
        "from pydrive.drive import GoogleDrive\n",
        "from google.colab import auth\n",
        "from oauth2client.client import GoogleCredentials"
      ],
      "execution_count": null,
      "outputs": []
    },
    {
      "cell_type": "code",
      "metadata": {
        "id": "VVr-wQDVN5yP"
      },
      "source": [
        "# Authenticate and create the PyDrive client.\n",
        "auth.authenticate_user()\n",
        "gauth = GoogleAuth()\n",
        "gauth.credentials = GoogleCredentials.get_application_default()\n",
        "drive = GoogleDrive(gauth)"
      ],
      "execution_count": null,
      "outputs": []
    },
    {
      "cell_type": "code",
      "metadata": {
        "id": "rWjkxxduONg4"
      },
      "source": [
        "trn_link= 'https://drive.google.com/open?id=1zFBEiCJ081wRtXBdPjOn90bVQ9sa-ysY'\n",
        "tst_link = 'https://drive.google.com/open?id=11xTe8DtaWiDw6OMpWoWOWSmt0qOdfDWE'\n",
        "# https://drive.google.com/file/d/1zFBEiCJ081wRtXBdPjOn90bVQ9sa-ysY/view?usp=sharing\n",
        "# https://drive.google.com/file/d/11xTe8DtaWiDw6OMpWoWOWSmt0qOdfDWE/view?usp=sharing"
      ],
      "execution_count": null,
      "outputs": []
    },
    {
      "cell_type": "code",
      "metadata": {
        "id": "ycleJXUyQzt-",
        "colab": {
          "base_uri": "https://localhost:8080/"
        },
        "outputId": "24a66bbf-6c64-4cc5-9181-0897e19014d7"
      },
      "source": [
        "fluff, id = trn_link.split('=')\n",
        "print (id) # Verify that you have everything after '='"
      ],
      "execution_count": null,
      "outputs": [
        {
          "output_type": "stream",
          "text": [
            "1zFBEiCJ081wRtXBdPjOn90bVQ9sa-ysY\n"
          ],
          "name": "stdout"
        }
      ]
    },
    {
      "cell_type": "code",
      "metadata": {
        "id": "egjPW49TROjO",
        "colab": {
          "base_uri": "https://localhost:8080/",
          "height": 35
        },
        "outputId": "e30281f1-e866-4654-9b64-46b4eb7fb072"
      },
      "source": [
        "pwd"
      ],
      "execution_count": null,
      "outputs": [
        {
          "output_type": "execute_result",
          "data": {
            "application/vnd.google.colaboratory.intrinsic+json": {
              "type": "string"
            },
            "text/plain": [
              "'/content'"
            ]
          },
          "metadata": {
            "tags": []
          },
          "execution_count": 11
        }
      ]
    },
    {
      "cell_type": "code",
      "metadata": {
        "id": "U-uNSqIiQ3L1"
      },
      "source": [
        "downloaded_trn = drive.CreateFile({'id':id}) \n",
        "downloaded_trn.GetContentFile('train_ctrUa4K.csv')  \n",
        "train = pd.read_csv('train_ctrUa4K.csv')\n",
        "# Dataset is now stored in a Pandas Dataframe"
      ],
      "execution_count": null,
      "outputs": []
    },
    {
      "cell_type": "code",
      "metadata": {
        "id": "M_tKFXgzQ8v4",
        "colab": {
          "base_uri": "https://localhost:8080/"
        },
        "outputId": "442fe0fd-a7fb-4f84-f0a3-64c248541647"
      },
      "source": [
        "fluff, id = tst_link.split('=')\n",
        "print (id) # Verify that you have everything after '='"
      ],
      "execution_count": null,
      "outputs": [
        {
          "output_type": "stream",
          "text": [
            "11xTe8DtaWiDw6OMpWoWOWSmt0qOdfDWE\n"
          ],
          "name": "stdout"
        }
      ]
    },
    {
      "cell_type": "code",
      "metadata": {
        "id": "waDEQ6qVQ8yf"
      },
      "source": [
        "downloaded_tst = drive.CreateFile({'id':id}) \n",
        "downloaded_tst.GetContentFile('test_lAUu6dG.csv')  \n",
        "test = pd.read_csv('test_lAUu6dG.csv')\n",
        "# Dataset is now stored in a Pandas Dataframe"
      ],
      "execution_count": null,
      "outputs": []
    },
    {
      "cell_type": "markdown",
      "metadata": {
        "id": "UKLud5Da9JFD"
      },
      "source": [
        "## Data Dimension and Variable Types"
      ]
    },
    {
      "cell_type": "markdown",
      "metadata": {
        "id": "4nFAWdLh2sx2"
      },
      "source": [
        "**Data Description**\n",
        "\n",
        "---\n",
        "\n",
        "\n",
        "\n",
        "---\n",
        "\n",
        "Loan_ID:\tUnique Loan ID\n",
        "\n",
        "Gender:\tMale/ Female\n",
        "\n",
        "Married:\tApplicant married (Y/N)\n",
        "\n",
        "Dependents:\tNumber of dependents\n",
        "\n",
        "Education:\tApplicant Education (Graduate/ Under Graduate)\n",
        "\n",
        "Self_Employed:\tSelf employed (Y/N)\n",
        "\n",
        "ApplicantIncome:\tApplicant income\n",
        "\n",
        "CoapplicantIncome:\tCoapplicant income\n",
        "\n",
        "LoanAmount:\tLoan amount in thousands\n",
        "\n",
        "Loan_Amount_Term:\tTerm of loan in months\n",
        "\n",
        "Credit_History:\tcredit history meets guidelines\n",
        "\n",
        "Property_Area:\tUrban/ Semi Urban/ Rural\n",
        "\n",
        "Loan_Status\t(Target): Loan approved (Y/N)\n",
        "\n",
        "\n"
      ]
    },
    {
      "cell_type": "code",
      "metadata": {
        "id": "i096KrOfQ801",
        "colab": {
          "base_uri": "https://localhost:8080/"
        },
        "outputId": "f588ad82-faba-4a99-8220-52d895a40199"
      },
      "source": [
        "train.shape, test.shape"
      ],
      "execution_count": null,
      "outputs": [
        {
          "output_type": "execute_result",
          "data": {
            "text/plain": [
              "((614, 13), (367, 12))"
            ]
          },
          "metadata": {
            "tags": []
          },
          "execution_count": 16
        }
      ]
    },
    {
      "cell_type": "code",
      "metadata": {
        "id": "2LdRSVC1Q84P",
        "colab": {
          "base_uri": "https://localhost:8080/"
        },
        "outputId": "0952b0b0-db78-4ede-e3aa-372394fb8ef6"
      },
      "source": [
        "train.info()"
      ],
      "execution_count": null,
      "outputs": [
        {
          "output_type": "stream",
          "text": [
            "<class 'pandas.core.frame.DataFrame'>\n",
            "RangeIndex: 614 entries, 0 to 613\n",
            "Data columns (total 13 columns):\n",
            " #   Column             Non-Null Count  Dtype  \n",
            "---  ------             --------------  -----  \n",
            " 0   Loan_ID            614 non-null    object \n",
            " 1   Gender             601 non-null    object \n",
            " 2   Married            611 non-null    object \n",
            " 3   Dependents         599 non-null    object \n",
            " 4   Education          614 non-null    object \n",
            " 5   Self_Employed      582 non-null    object \n",
            " 6   ApplicantIncome    614 non-null    int64  \n",
            " 7   CoapplicantIncome  614 non-null    float64\n",
            " 8   LoanAmount         592 non-null    float64\n",
            " 9   Loan_Amount_Term   600 non-null    float64\n",
            " 10  Credit_History     564 non-null    float64\n",
            " 11  Property_Area      614 non-null    object \n",
            " 12  Loan_Status        614 non-null    object \n",
            "dtypes: float64(4), int64(1), object(8)\n",
            "memory usage: 62.5+ KB\n"
          ],
          "name": "stdout"
        }
      ]
    },
    {
      "cell_type": "code",
      "metadata": {
        "id": "jNZsTY1eXLSA"
      },
      "source": [
        "## Function for calculating missing percentages in a dataframe\n",
        "def missing_data(data):\n",
        "    total = data.isnull().sum().sort_values(ascending = False)\n",
        "    percent = (data.isnull().sum()/data.isnull().count()*100).sort_values(ascending = False)\n",
        "    return pd.concat([total, percent], axis=1, keys=['Total', 'Missing Percent'])\n",
        "\n",
        "\n",
        "\n",
        "## Boxplot and Histogtam \n",
        "def histPlot(var, bins = None):\n",
        "    plot = var.plot(kind='hist', title =var.name,use_index = True, alpha=0.5, bins=bins, figsize = (7,5))\n",
        "    \n",
        "def boxPlot(var):\n",
        "    color = {'boxes': 'DarkGreen', 'whiskers': 'DarkOrange',  'medians': 'DarkBlue', 'caps': 'Gray'}\n",
        "    plot = var.plot(kind='box', title =var.name,\n",
        "                                               figsize = (7,7), color=color, sym='r+')\n",
        "    \n",
        "    \n",
        "## Frequency Distribution Plot for Categorical Vars\n",
        "def freq_dist_cat(var, fig_size = (None,None)):\n",
        "    plot = var.value_counts(normalize=True).plot(kind='bar', title =var.name,\n",
        "                                              use_index = True, figsize = fig_size)\n",
        "    plot.set_ylabel(\"Freq Distn. of  \"+ var.name)\n",
        "    \n",
        "def freq_dist_cat_idx_sort(var, fig_size = (None,None)):\n",
        "    plot = var.value_counts(normalize=True).sort_index().plot(kind='bar', title =var.name,\n",
        "                                              use_index = True, figsize = fig_size)\n",
        "    plot.set_ylabel(\"Freq Distn. of  \"+ var.name)\n",
        "\n",
        "def var_distn(listVar):\n",
        "    for i in range(len(listVar)):\n",
        "        print(\"###############################\")\n",
        "        print(listVar[i])\n",
        "        print(\"-------------------------------\")\n",
        "        print(train[['Loan_Status',listVar[i]]].groupby(listVar[i]).describe() )\n",
        "        print(\"###############################\")\n",
        "\n",
        "def univar_dist(df,x, bins = None, kde = None):\n",
        "    \n",
        "    sns.set(style = 'ticks')\n",
        "    f, (ax_box, ax_hist) = plt.subplots(2, sharex =True, gridspec_kw = {\"height_ratios\":(30,70)})\n",
        "    ax_box.set_title(str(x), fontsize=16)\n",
        "\n",
        "    sns.distplot(df[x], kde = kde, bins = bins, ax= ax_hist)\n",
        "    sns.boxplot(df[x], ax = ax_box)\n",
        "\n",
        "    ax_box.set(yticks = [])\n",
        "    sns.despine(ax= ax_hist)\n",
        "    sns.despine(ax= ax_box, left = True)\n",
        "\n",
        "## Defining a function to look at Loan_Status across different bins of continuous variables\n",
        "def freq_cont1var(dataframe, groupbycol1, aggregate_col,bins=None):\n",
        "    \n",
        "        \n",
        "    df = pd.DataFrame(dataframe[[groupbycol1]])\n",
        "    df = df.apply(lambda x: pd.qcut(x,  bins, duplicates  = \"drop\"), axis=0)\n",
        "    df = pd.DataFrame(df)\n",
        "    df = pd.DataFrame(df.join(dataframe[aggregate_col]))\n",
        "    crs1 = df.groupby(groupbycol1).mean()*100\n",
        "    crs1 = crs1.reset_index(drop = False)\n",
        "\n",
        "    print(crs1)\n",
        "    return crs1\n",
        "\n",
        "def bivar_plt(df, var , bins = None):\n",
        "    print(\"Variable Name : \" + str(var) + \"(by Approval Pct of Loan)\")\n",
        "    print(\"#######################################################################\") \n",
        "    age = freq_cont1var(df, var, \"Loan_Status\", bins)\n",
        "    print(\"#######################################################################\")\n",
        "    print(\"\\n\")\n",
        "    print(\"#######################################################################\")\n",
        "    # age.plot.bar(x=var, y='Loan_Status', rot=0, figsize = (12,5),color = \"maroon\")"
      ],
      "execution_count": null,
      "outputs": []
    },
    {
      "cell_type": "markdown",
      "metadata": {
        "id": "hAfWjeSu9Pql"
      },
      "source": [
        "## Simple EDA and Dummy Variable Creation"
      ]
    },
    {
      "cell_type": "code",
      "metadata": {
        "id": "rp8S6pYNj5UI"
      },
      "source": [
        "## The dependent variable \"Loan_status\""
      ],
      "execution_count": null,
      "outputs": []
    },
    {
      "cell_type": "code",
      "metadata": {
        "id": "n3f8v8bLXgxb",
        "colab": {
          "base_uri": "https://localhost:8080/"
        },
        "outputId": "939c4576-c44a-4113-bea4-ae94cb948025"
      },
      "source": [
        "train['Loan_Status'].value_counts()"
      ],
      "execution_count": null,
      "outputs": [
        {
          "output_type": "execute_result",
          "data": {
            "text/plain": [
              "Y    422\n",
              "N    192\n",
              "Name: Loan_Status, dtype: int64"
            ]
          },
          "metadata": {
            "tags": []
          },
          "execution_count": 20
        }
      ]
    },
    {
      "cell_type": "code",
      "metadata": {
        "id": "weMwrLS6Xywn"
      },
      "source": [
        "# Transforming to make it binary (1/0) type\n",
        "train['Loan_Status'] = np.where(train['Loan_Status'] == 'Y',1, 0) # the sklearn gbm or xgboost does not work with categorical predictor, in practice most of the ML algos does not"
      ],
      "execution_count": null,
      "outputs": []
    },
    {
      "cell_type": "code",
      "metadata": {
        "id": "bMHwxix4X9c9",
        "colab": {
          "base_uri": "https://localhost:8080/"
        },
        "outputId": "954b56ec-a9d8-46e1-f694-59e7c9d9a17c"
      },
      "source": [
        "train['Loan_Status'].value_counts(), train['Loan_Status'].mean()"
      ],
      "execution_count": null,
      "outputs": [
        {
          "output_type": "execute_result",
          "data": {
            "text/plain": [
              "(1    422\n",
              " 0    192\n",
              " Name: Loan_Status, dtype: int64, 0.6872964169381107)"
            ]
          },
          "metadata": {
            "tags": []
          },
          "execution_count": 22
        }
      ]
    },
    {
      "cell_type": "code",
      "metadata": {
        "id": "m1bSToMzXH7q",
        "colab": {
          "base_uri": "https://localhost:8080/"
        },
        "outputId": "4b15b073-1f37-44b9-b731-1a0b5cf6417a"
      },
      "source": [
        "#  Finding out the numerical and categorical variables before doing any further analysis\n",
        "target_name = 'Loan_Status'\n",
        "id_name = 'Loan_ID'\n",
        "num_columns = train.select_dtypes(include = ['int','float64','int32','float64','int64']).columns\n",
        "num_columns = np.setdiff1d(num_columns,target_name)\n",
        "print(\"The continuous/numerical columns are:  \", num_columns)\n",
        "\n",
        "print(\"------------------------------------------------------------------------------------------------------------------\")\n",
        "cat_columns = train.select_dtypes(include = ['object','category']).columns\n",
        "cat_columns = np.setdiff1d(cat_columns,id_name)\n",
        "print(\"The nominal/categorical columns are:  \", cat_columns)"
      ],
      "execution_count": null,
      "outputs": [
        {
          "output_type": "stream",
          "text": [
            "The continuous/numerical columns are:   ['ApplicantIncome' 'CoapplicantIncome' 'Credit_History' 'LoanAmount'\n",
            " 'Loan_Amount_Term']\n",
            "------------------------------------------------------------------------------------------------------------------\n",
            "The nominal/categorical columns are:   ['Dependents' 'Education' 'Gender' 'Married' 'Property_Area'\n",
            " 'Self_Employed']\n"
          ],
          "name": "stdout"
        }
      ]
    },
    {
      "cell_type": "code",
      "metadata": {
        "id": "ih1k0dIhRj5V",
        "colab": {
          "base_uri": "https://localhost:8080/",
          "height": 284
        },
        "outputId": "880caf2b-c717-407c-919d-0e958e54af75"
      },
      "source": [
        "train.describe() # just for numerical vars"
      ],
      "execution_count": null,
      "outputs": [
        {
          "output_type": "execute_result",
          "data": {
            "text/html": [
              "<div>\n",
              "<style scoped>\n",
              "    .dataframe tbody tr th:only-of-type {\n",
              "        vertical-align: middle;\n",
              "    }\n",
              "\n",
              "    .dataframe tbody tr th {\n",
              "        vertical-align: top;\n",
              "    }\n",
              "\n",
              "    .dataframe thead th {\n",
              "        text-align: right;\n",
              "    }\n",
              "</style>\n",
              "<table border=\"1\" class=\"dataframe\">\n",
              "  <thead>\n",
              "    <tr style=\"text-align: right;\">\n",
              "      <th></th>\n",
              "      <th>ApplicantIncome</th>\n",
              "      <th>CoapplicantIncome</th>\n",
              "      <th>LoanAmount</th>\n",
              "      <th>Loan_Amount_Term</th>\n",
              "      <th>Credit_History</th>\n",
              "      <th>Loan_Status</th>\n",
              "    </tr>\n",
              "  </thead>\n",
              "  <tbody>\n",
              "    <tr>\n",
              "      <th>count</th>\n",
              "      <td>614.000000</td>\n",
              "      <td>614.000000</td>\n",
              "      <td>592.000000</td>\n",
              "      <td>600.00000</td>\n",
              "      <td>564.000000</td>\n",
              "      <td>614.000000</td>\n",
              "    </tr>\n",
              "    <tr>\n",
              "      <th>mean</th>\n",
              "      <td>5403.459283</td>\n",
              "      <td>1621.245798</td>\n",
              "      <td>146.412162</td>\n",
              "      <td>342.00000</td>\n",
              "      <td>0.842199</td>\n",
              "      <td>0.687296</td>\n",
              "    </tr>\n",
              "    <tr>\n",
              "      <th>std</th>\n",
              "      <td>6109.041673</td>\n",
              "      <td>2926.248369</td>\n",
              "      <td>85.587325</td>\n",
              "      <td>65.12041</td>\n",
              "      <td>0.364878</td>\n",
              "      <td>0.463973</td>\n",
              "    </tr>\n",
              "    <tr>\n",
              "      <th>min</th>\n",
              "      <td>150.000000</td>\n",
              "      <td>0.000000</td>\n",
              "      <td>9.000000</td>\n",
              "      <td>12.00000</td>\n",
              "      <td>0.000000</td>\n",
              "      <td>0.000000</td>\n",
              "    </tr>\n",
              "    <tr>\n",
              "      <th>25%</th>\n",
              "      <td>2877.500000</td>\n",
              "      <td>0.000000</td>\n",
              "      <td>100.000000</td>\n",
              "      <td>360.00000</td>\n",
              "      <td>1.000000</td>\n",
              "      <td>0.000000</td>\n",
              "    </tr>\n",
              "    <tr>\n",
              "      <th>50%</th>\n",
              "      <td>3812.500000</td>\n",
              "      <td>1188.500000</td>\n",
              "      <td>128.000000</td>\n",
              "      <td>360.00000</td>\n",
              "      <td>1.000000</td>\n",
              "      <td>1.000000</td>\n",
              "    </tr>\n",
              "    <tr>\n",
              "      <th>75%</th>\n",
              "      <td>5795.000000</td>\n",
              "      <td>2297.250000</td>\n",
              "      <td>168.000000</td>\n",
              "      <td>360.00000</td>\n",
              "      <td>1.000000</td>\n",
              "      <td>1.000000</td>\n",
              "    </tr>\n",
              "    <tr>\n",
              "      <th>max</th>\n",
              "      <td>81000.000000</td>\n",
              "      <td>41667.000000</td>\n",
              "      <td>700.000000</td>\n",
              "      <td>480.00000</td>\n",
              "      <td>1.000000</td>\n",
              "      <td>1.000000</td>\n",
              "    </tr>\n",
              "  </tbody>\n",
              "</table>\n",
              "</div>"
            ],
            "text/plain": [
              "       ApplicantIncome  CoapplicantIncome  ...  Credit_History  Loan_Status\n",
              "count       614.000000         614.000000  ...      564.000000   614.000000\n",
              "mean       5403.459283        1621.245798  ...        0.842199     0.687296\n",
              "std        6109.041673        2926.248369  ...        0.364878     0.463973\n",
              "min         150.000000           0.000000  ...        0.000000     0.000000\n",
              "25%        2877.500000           0.000000  ...        1.000000     0.000000\n",
              "50%        3812.500000        1188.500000  ...        1.000000     1.000000\n",
              "75%        5795.000000        2297.250000  ...        1.000000     1.000000\n",
              "max       81000.000000       41667.000000  ...        1.000000     1.000000\n",
              "\n",
              "[8 rows x 6 columns]"
            ]
          },
          "metadata": {
            "tags": []
          },
          "execution_count": 24
        }
      ]
    },
    {
      "cell_type": "code",
      "metadata": {
        "id": "Kf6s_Wr9S7C5",
        "colab": {
          "base_uri": "https://localhost:8080/",
          "height": 166
        },
        "outputId": "0a0ed82d-c685-4e4a-c583-f8a7a316f176"
      },
      "source": [
        "train[cat_columns].describe() # for categorical vars"
      ],
      "execution_count": null,
      "outputs": [
        {
          "output_type": "execute_result",
          "data": {
            "text/html": [
              "<div>\n",
              "<style scoped>\n",
              "    .dataframe tbody tr th:only-of-type {\n",
              "        vertical-align: middle;\n",
              "    }\n",
              "\n",
              "    .dataframe tbody tr th {\n",
              "        vertical-align: top;\n",
              "    }\n",
              "\n",
              "    .dataframe thead th {\n",
              "        text-align: right;\n",
              "    }\n",
              "</style>\n",
              "<table border=\"1\" class=\"dataframe\">\n",
              "  <thead>\n",
              "    <tr style=\"text-align: right;\">\n",
              "      <th></th>\n",
              "      <th>Dependents</th>\n",
              "      <th>Education</th>\n",
              "      <th>Gender</th>\n",
              "      <th>Married</th>\n",
              "      <th>Property_Area</th>\n",
              "      <th>Self_Employed</th>\n",
              "    </tr>\n",
              "  </thead>\n",
              "  <tbody>\n",
              "    <tr>\n",
              "      <th>count</th>\n",
              "      <td>599</td>\n",
              "      <td>614</td>\n",
              "      <td>601</td>\n",
              "      <td>611</td>\n",
              "      <td>614</td>\n",
              "      <td>582</td>\n",
              "    </tr>\n",
              "    <tr>\n",
              "      <th>unique</th>\n",
              "      <td>4</td>\n",
              "      <td>2</td>\n",
              "      <td>2</td>\n",
              "      <td>2</td>\n",
              "      <td>3</td>\n",
              "      <td>2</td>\n",
              "    </tr>\n",
              "    <tr>\n",
              "      <th>top</th>\n",
              "      <td>0</td>\n",
              "      <td>Graduate</td>\n",
              "      <td>Male</td>\n",
              "      <td>Yes</td>\n",
              "      <td>Semiurban</td>\n",
              "      <td>No</td>\n",
              "    </tr>\n",
              "    <tr>\n",
              "      <th>freq</th>\n",
              "      <td>345</td>\n",
              "      <td>480</td>\n",
              "      <td>489</td>\n",
              "      <td>398</td>\n",
              "      <td>233</td>\n",
              "      <td>500</td>\n",
              "    </tr>\n",
              "  </tbody>\n",
              "</table>\n",
              "</div>"
            ],
            "text/plain": [
              "       Dependents Education Gender Married Property_Area Self_Employed\n",
              "count         599       614    601     611           614           582\n",
              "unique          4         2      2       2             3             2\n",
              "top             0  Graduate   Male     Yes     Semiurban            No\n",
              "freq          345       480    489     398           233           500"
            ]
          },
          "metadata": {
            "tags": []
          },
          "execution_count": 25
        }
      ]
    },
    {
      "cell_type": "code",
      "metadata": {
        "id": "eJRIwBaxTIIU",
        "colab": {
          "base_uri": "https://localhost:8080/",
          "height": 432
        },
        "outputId": "449308d9-6610-41ba-b86b-e3e9fef781c9"
      },
      "source": [
        "missing_data(train)"
      ],
      "execution_count": null,
      "outputs": [
        {
          "output_type": "execute_result",
          "data": {
            "text/html": [
              "<div>\n",
              "<style scoped>\n",
              "    .dataframe tbody tr th:only-of-type {\n",
              "        vertical-align: middle;\n",
              "    }\n",
              "\n",
              "    .dataframe tbody tr th {\n",
              "        vertical-align: top;\n",
              "    }\n",
              "\n",
              "    .dataframe thead th {\n",
              "        text-align: right;\n",
              "    }\n",
              "</style>\n",
              "<table border=\"1\" class=\"dataframe\">\n",
              "  <thead>\n",
              "    <tr style=\"text-align: right;\">\n",
              "      <th></th>\n",
              "      <th>Total</th>\n",
              "      <th>Missing Percent</th>\n",
              "    </tr>\n",
              "  </thead>\n",
              "  <tbody>\n",
              "    <tr>\n",
              "      <th>Credit_History</th>\n",
              "      <td>50</td>\n",
              "      <td>8.143322</td>\n",
              "    </tr>\n",
              "    <tr>\n",
              "      <th>Self_Employed</th>\n",
              "      <td>32</td>\n",
              "      <td>5.211726</td>\n",
              "    </tr>\n",
              "    <tr>\n",
              "      <th>LoanAmount</th>\n",
              "      <td>22</td>\n",
              "      <td>3.583062</td>\n",
              "    </tr>\n",
              "    <tr>\n",
              "      <th>Dependents</th>\n",
              "      <td>15</td>\n",
              "      <td>2.442997</td>\n",
              "    </tr>\n",
              "    <tr>\n",
              "      <th>Loan_Amount_Term</th>\n",
              "      <td>14</td>\n",
              "      <td>2.280130</td>\n",
              "    </tr>\n",
              "    <tr>\n",
              "      <th>Gender</th>\n",
              "      <td>13</td>\n",
              "      <td>2.117264</td>\n",
              "    </tr>\n",
              "    <tr>\n",
              "      <th>Married</th>\n",
              "      <td>3</td>\n",
              "      <td>0.488599</td>\n",
              "    </tr>\n",
              "    <tr>\n",
              "      <th>Loan_Status</th>\n",
              "      <td>0</td>\n",
              "      <td>0.000000</td>\n",
              "    </tr>\n",
              "    <tr>\n",
              "      <th>Property_Area</th>\n",
              "      <td>0</td>\n",
              "      <td>0.000000</td>\n",
              "    </tr>\n",
              "    <tr>\n",
              "      <th>CoapplicantIncome</th>\n",
              "      <td>0</td>\n",
              "      <td>0.000000</td>\n",
              "    </tr>\n",
              "    <tr>\n",
              "      <th>ApplicantIncome</th>\n",
              "      <td>0</td>\n",
              "      <td>0.000000</td>\n",
              "    </tr>\n",
              "    <tr>\n",
              "      <th>Education</th>\n",
              "      <td>0</td>\n",
              "      <td>0.000000</td>\n",
              "    </tr>\n",
              "    <tr>\n",
              "      <th>Loan_ID</th>\n",
              "      <td>0</td>\n",
              "      <td>0.000000</td>\n",
              "    </tr>\n",
              "  </tbody>\n",
              "</table>\n",
              "</div>"
            ],
            "text/plain": [
              "                   Total  Missing Percent\n",
              "Credit_History        50         8.143322\n",
              "Self_Employed         32         5.211726\n",
              "LoanAmount            22         3.583062\n",
              "Dependents            15         2.442997\n",
              "Loan_Amount_Term      14         2.280130\n",
              "Gender                13         2.117264\n",
              "Married                3         0.488599\n",
              "Loan_Status            0         0.000000\n",
              "Property_Area          0         0.000000\n",
              "CoapplicantIncome      0         0.000000\n",
              "ApplicantIncome        0         0.000000\n",
              "Education              0         0.000000\n",
              "Loan_ID                0         0.000000"
            ]
          },
          "metadata": {
            "tags": []
          },
          "execution_count": 26
        }
      ]
    },
    {
      "cell_type": "markdown",
      "metadata": {
        "id": "pJ0CrN_F72Uk"
      },
      "source": [
        "Seems Credit History has the highest number/percentage of missing values. Since this is a binary variable (1 as meeting guidelines and 0 as not meeting guidelines of credit history), we can replace the missing values with zero. There can be other school of thoughts like this is not the most efficient way  to replace missing values one should use other imputation techniques. \n",
        "\n",
        "I agree a single problem should be viewed in different ways and the best logical solution should be chosen. I am choosing the easiest one :-), assuming that the people with missing history does not have one. Although in some ML algorithm one can specify that it is a missing value or replace with a distant negative value (sometimes works for tree algorithms, which we would use later, again notb the best approach but helpfun in some situations)"
      ]
    },
    {
      "cell_type": "code",
      "metadata": {
        "id": "XHUvG7qbsvcS",
        "colab": {
          "base_uri": "https://localhost:8080/"
        },
        "outputId": "6b0d2cd5-8ba2-454b-d554-6a4e9121b502"
      },
      "source": [
        "train['Credit_History'].value_counts()"
      ],
      "execution_count": null,
      "outputs": [
        {
          "output_type": "execute_result",
          "data": {
            "text/plain": [
              "1.0    475\n",
              "0.0     89\n",
              "Name: Credit_History, dtype: int64"
            ]
          },
          "metadata": {
            "tags": []
          },
          "execution_count": 27
        }
      ]
    },
    {
      "cell_type": "code",
      "metadata": {
        "id": "Fi1Mm9Uks4i5"
      },
      "source": [
        "## Replace  missing with zero\n",
        "train['Credit_History'] = train['Credit_History'].fillna(0)"
      ],
      "execution_count": null,
      "outputs": []
    },
    {
      "cell_type": "code",
      "metadata": {
        "id": "kiSW0uKrTL2b",
        "colab": {
          "base_uri": "https://localhost:8080/",
          "height": 225
        },
        "outputId": "77e16daf-d4f7-4c03-9901-4f7f11912283"
      },
      "source": [
        "train.corr() ## only for numerical variables as of now"
      ],
      "execution_count": null,
      "outputs": [
        {
          "output_type": "execute_result",
          "data": {
            "text/html": [
              "<div>\n",
              "<style scoped>\n",
              "    .dataframe tbody tr th:only-of-type {\n",
              "        vertical-align: middle;\n",
              "    }\n",
              "\n",
              "    .dataframe tbody tr th {\n",
              "        vertical-align: top;\n",
              "    }\n",
              "\n",
              "    .dataframe thead th {\n",
              "        text-align: right;\n",
              "    }\n",
              "</style>\n",
              "<table border=\"1\" class=\"dataframe\">\n",
              "  <thead>\n",
              "    <tr style=\"text-align: right;\">\n",
              "      <th></th>\n",
              "      <th>ApplicantIncome</th>\n",
              "      <th>CoapplicantIncome</th>\n",
              "      <th>LoanAmount</th>\n",
              "      <th>Loan_Amount_Term</th>\n",
              "      <th>Credit_History</th>\n",
              "      <th>Loan_Status</th>\n",
              "    </tr>\n",
              "  </thead>\n",
              "  <tbody>\n",
              "    <tr>\n",
              "      <th>ApplicantIncome</th>\n",
              "      <td>1.000000</td>\n",
              "      <td>-0.116605</td>\n",
              "      <td>0.570909</td>\n",
              "      <td>-0.045306</td>\n",
              "      <td>0.006986</td>\n",
              "      <td>-0.004710</td>\n",
              "    </tr>\n",
              "    <tr>\n",
              "      <th>CoapplicantIncome</th>\n",
              "      <td>-0.116605</td>\n",
              "      <td>1.000000</td>\n",
              "      <td>0.188619</td>\n",
              "      <td>-0.059878</td>\n",
              "      <td>-0.058795</td>\n",
              "      <td>-0.059187</td>\n",
              "    </tr>\n",
              "    <tr>\n",
              "      <th>LoanAmount</th>\n",
              "      <td>0.570909</td>\n",
              "      <td>0.188619</td>\n",
              "      <td>1.000000</td>\n",
              "      <td>0.039447</td>\n",
              "      <td>-0.035156</td>\n",
              "      <td>-0.037318</td>\n",
              "    </tr>\n",
              "    <tr>\n",
              "      <th>Loan_Amount_Term</th>\n",
              "      <td>-0.045306</td>\n",
              "      <td>-0.059878</td>\n",
              "      <td>0.039447</td>\n",
              "      <td>1.000000</td>\n",
              "      <td>0.005550</td>\n",
              "      <td>-0.021268</td>\n",
              "    </tr>\n",
              "    <tr>\n",
              "      <th>Credit_History</th>\n",
              "      <td>0.006986</td>\n",
              "      <td>-0.058795</td>\n",
              "      <td>-0.035156</td>\n",
              "      <td>0.005550</td>\n",
              "      <td>1.000000</td>\n",
              "      <td>0.432616</td>\n",
              "    </tr>\n",
              "    <tr>\n",
              "      <th>Loan_Status</th>\n",
              "      <td>-0.004710</td>\n",
              "      <td>-0.059187</td>\n",
              "      <td>-0.037318</td>\n",
              "      <td>-0.021268</td>\n",
              "      <td>0.432616</td>\n",
              "      <td>1.000000</td>\n",
              "    </tr>\n",
              "  </tbody>\n",
              "</table>\n",
              "</div>"
            ],
            "text/plain": [
              "                   ApplicantIncome  ...  Loan_Status\n",
              "ApplicantIncome           1.000000  ...    -0.004710\n",
              "CoapplicantIncome        -0.116605  ...    -0.059187\n",
              "LoanAmount                0.570909  ...    -0.037318\n",
              "Loan_Amount_Term         -0.045306  ...    -0.021268\n",
              "Credit_History            0.006986  ...     0.432616\n",
              "Loan_Status              -0.004710  ...     1.000000\n",
              "\n",
              "[6 rows x 6 columns]"
            ]
          },
          "metadata": {
            "tags": []
          },
          "execution_count": 29
        }
      ]
    },
    {
      "cell_type": "code",
      "metadata": {
        "id": "tSLZzCLopjy7",
        "colab": {
          "base_uri": "https://localhost:8080/",
          "height": 225
        },
        "outputId": "184ec334-adae-4935-8c09-1025be513ef0"
      },
      "source": [
        "train.corr(method ='spearman')"
      ],
      "execution_count": null,
      "outputs": [
        {
          "output_type": "execute_result",
          "data": {
            "text/html": [
              "<div>\n",
              "<style scoped>\n",
              "    .dataframe tbody tr th:only-of-type {\n",
              "        vertical-align: middle;\n",
              "    }\n",
              "\n",
              "    .dataframe tbody tr th {\n",
              "        vertical-align: top;\n",
              "    }\n",
              "\n",
              "    .dataframe thead th {\n",
              "        text-align: right;\n",
              "    }\n",
              "</style>\n",
              "<table border=\"1\" class=\"dataframe\">\n",
              "  <thead>\n",
              "    <tr style=\"text-align: right;\">\n",
              "      <th></th>\n",
              "      <th>ApplicantIncome</th>\n",
              "      <th>CoapplicantIncome</th>\n",
              "      <th>LoanAmount</th>\n",
              "      <th>Loan_Amount_Term</th>\n",
              "      <th>Credit_History</th>\n",
              "      <th>Loan_Status</th>\n",
              "    </tr>\n",
              "  </thead>\n",
              "  <tbody>\n",
              "    <tr>\n",
              "      <th>ApplicantIncome</th>\n",
              "      <td>1.000000</td>\n",
              "      <td>-0.320056</td>\n",
              "      <td>0.515397</td>\n",
              "      <td>-0.040111</td>\n",
              "      <td>0.050962</td>\n",
              "      <td>-0.004162</td>\n",
              "    </tr>\n",
              "    <tr>\n",
              "      <th>CoapplicantIncome</th>\n",
              "      <td>-0.320056</td>\n",
              "      <td>1.000000</td>\n",
              "      <td>0.240719</td>\n",
              "      <td>-0.013747</td>\n",
              "      <td>-0.043314</td>\n",
              "      <td>0.034960</td>\n",
              "    </tr>\n",
              "    <tr>\n",
              "      <th>LoanAmount</th>\n",
              "      <td>0.515397</td>\n",
              "      <td>0.240719</td>\n",
              "      <td>1.000000</td>\n",
              "      <td>0.041486</td>\n",
              "      <td>-0.017398</td>\n",
              "      <td>-0.034984</td>\n",
              "    </tr>\n",
              "    <tr>\n",
              "      <th>Loan_Amount_Term</th>\n",
              "      <td>-0.040111</td>\n",
              "      <td>-0.013747</td>\n",
              "      <td>0.041486</td>\n",
              "      <td>1.000000</td>\n",
              "      <td>0.021359</td>\n",
              "      <td>-0.026422</td>\n",
              "    </tr>\n",
              "    <tr>\n",
              "      <th>Credit_History</th>\n",
              "      <td>0.050962</td>\n",
              "      <td>-0.043314</td>\n",
              "      <td>-0.017398</td>\n",
              "      <td>0.021359</td>\n",
              "      <td>1.000000</td>\n",
              "      <td>0.432616</td>\n",
              "    </tr>\n",
              "    <tr>\n",
              "      <th>Loan_Status</th>\n",
              "      <td>-0.004162</td>\n",
              "      <td>0.034960</td>\n",
              "      <td>-0.034984</td>\n",
              "      <td>-0.026422</td>\n",
              "      <td>0.432616</td>\n",
              "      <td>1.000000</td>\n",
              "    </tr>\n",
              "  </tbody>\n",
              "</table>\n",
              "</div>"
            ],
            "text/plain": [
              "                   ApplicantIncome  ...  Loan_Status\n",
              "ApplicantIncome           1.000000  ...    -0.004162\n",
              "CoapplicantIncome        -0.320056  ...     0.034960\n",
              "LoanAmount                0.515397  ...    -0.034984\n",
              "Loan_Amount_Term         -0.040111  ...    -0.026422\n",
              "Credit_History            0.050962  ...     0.432616\n",
              "Loan_Status              -0.004162  ...     1.000000\n",
              "\n",
              "[6 rows x 6 columns]"
            ]
          },
          "metadata": {
            "tags": []
          },
          "execution_count": 30
        }
      ]
    },
    {
      "cell_type": "markdown",
      "metadata": {
        "id": "6Nw2a5H3lV8E"
      },
      "source": [
        "We see that the loan amount is positive correlated with income related variables. Also, having a Credit History should help in bagging the Loan, which is brought out by the positive correlation with Loan Status. \n",
        "\n",
        "Now, its little tricky when we are assessing the relationship of two binary variables with Pearson's Correlation , so I calculated Spearman's Correlation too."
      ]
    },
    {
      "cell_type": "code",
      "metadata": {
        "id": "hHXukGGCMTjk",
        "colab": {
          "base_uri": "https://localhost:8080/"
        },
        "outputId": "ac280ae3-8c40-4c83-e532-4e63120c7538"
      },
      "source": [
        "cat_columns"
      ],
      "execution_count": null,
      "outputs": [
        {
          "output_type": "execute_result",
          "data": {
            "text/plain": [
              "array(['Dependents', 'Education', 'Gender', 'Married', 'Property_Area',\n",
              "       'Self_Employed'], dtype=object)"
            ]
          },
          "metadata": {
            "tags": []
          },
          "execution_count": 31
        }
      ]
    },
    {
      "cell_type": "code",
      "metadata": {
        "id": "gs563tNjUz6o",
        "colab": {
          "base_uri": "https://localhost:8080/"
        },
        "outputId": "cdf05cd2-8587-4115-dcd4-999e4f5814ff"
      },
      "source": [
        "train.Loan_Status.mean()"
      ],
      "execution_count": null,
      "outputs": [
        {
          "output_type": "execute_result",
          "data": {
            "text/plain": [
              "0.6872964169381107"
            ]
          },
          "metadata": {
            "tags": []
          },
          "execution_count": 32
        }
      ]
    },
    {
      "cell_type": "markdown",
      "metadata": {
        "id": "cjsOZ0VnqTFm"
      },
      "source": [
        "### Trying to create few dummy variables with respect the categorical variables"
      ]
    },
    {
      "cell_type": "code",
      "metadata": {
        "id": "XiP1iqvjMXAb",
        "colab": {
          "base_uri": "https://localhost:8080/"
        },
        "outputId": "70835034-f816-4c85-c776-c4c21aaf7be6"
      },
      "source": [
        "var_distn(cat_columns)\n",
        "# We would see the 5-point summary of the Loan Status across all the categorical variables, this will help us in creating "
      ],
      "execution_count": null,
      "outputs": [
        {
          "output_type": "stream",
          "text": [
            "###############################\n",
            "Dependents\n",
            "-------------------------------\n",
            "           Loan_Status                                             \n",
            "                 count      mean       std  min  25%  50%  75%  max\n",
            "Dependents                                                         \n",
            "0                345.0  0.689855  0.463225  0.0  0.0  1.0  1.0  1.0\n",
            "1                102.0  0.647059  0.480245  0.0  0.0  1.0  1.0  1.0\n",
            "2                101.0  0.752475  0.433727  0.0  1.0  1.0  1.0  1.0\n",
            "3+                51.0  0.647059  0.482640  0.0  0.0  1.0  1.0  1.0\n",
            "###############################\n",
            "###############################\n",
            "Education\n",
            "-------------------------------\n",
            "             Loan_Status                                             \n",
            "                   count      mean       std  min  25%  50%  75%  max\n",
            "Education                                                            \n",
            "Graduate           480.0  0.708333  0.455004  0.0  0.0  1.0  1.0  1.0\n",
            "Not Graduate       134.0  0.611940  0.489137  0.0  0.0  1.0  1.0  1.0\n",
            "###############################\n",
            "###############################\n",
            "Gender\n",
            "-------------------------------\n",
            "       Loan_Status                                             \n",
            "             count      mean       std  min  25%  50%  75%  max\n",
            "Gender                                                         \n",
            "Female       112.0  0.669643  0.472456  0.0  0.0  1.0  1.0  1.0\n",
            "Male         489.0  0.693252  0.461616  0.0  0.0  1.0  1.0  1.0\n",
            "###############################\n",
            "###############################\n",
            "Married\n",
            "-------------------------------\n",
            "        Loan_Status                                             \n",
            "              count      mean       std  min  25%  50%  75%  max\n",
            "Married                                                         \n",
            "No            213.0  0.629108  0.484182  0.0  0.0  1.0  1.0  1.0\n",
            "Yes           398.0  0.716080  0.451466  0.0  0.0  1.0  1.0  1.0\n",
            "###############################\n",
            "###############################\n",
            "Property_Area\n",
            "-------------------------------\n",
            "              Loan_Status                                             \n",
            "                    count      mean       std  min  25%  50%  75%  max\n",
            "Property_Area                                                         \n",
            "Rural               179.0  0.614525  0.488073  0.0  0.0  1.0  1.0  1.0\n",
            "Semiurban           233.0  0.768240  0.422865  0.0  1.0  1.0  1.0  1.0\n",
            "Urban               202.0  0.658416  0.475419  0.0  0.0  1.0  1.0  1.0\n",
            "###############################\n",
            "###############################\n",
            "Self_Employed\n",
            "-------------------------------\n",
            "              Loan_Status                                             \n",
            "                    count      mean       std  min  25%  50%  75%  max\n",
            "Self_Employed                                                         \n",
            "No                  500.0  0.686000  0.464581  0.0  0.0  1.0  1.0  1.0\n",
            "Yes                  82.0  0.682927  0.468200  0.0  0.0  1.0  1.0  1.0\n",
            "###############################\n"
          ],
          "name": "stdout"
        }
      ]
    },
    {
      "cell_type": "code",
      "metadata": {
        "id": "zOvf1HCXXEWF",
        "colab": {
          "base_uri": "https://localhost:8080/"
        },
        "outputId": "add3487d-c371-4df4-d206-9e99c7b94424"
      },
      "source": [
        "train['Dependents'].value_counts(), train['Dependents'].unique()"
      ],
      "execution_count": null,
      "outputs": [
        {
          "output_type": "execute_result",
          "data": {
            "text/plain": [
              "(0     345\n",
              " 1     102\n",
              " 2     101\n",
              " 3+     51\n",
              " Name: Dependents, dtype: int64,\n",
              " array(['0', '1', '2', '3+', nan], dtype=object))"
            ]
          },
          "metadata": {
            "tags": []
          },
          "execution_count": 34
        }
      ]
    },
    {
      "cell_type": "code",
      "metadata": {
        "id": "3Dw-Fj8GMXD0"
      },
      "source": [
        "train[\"Dependents_0\"] = np.where(train['Dependents'].isin(['0']),1,0)\n",
        "# train[\"Dependents_1\"] = np.where(train['Dependents'].isin(['1']),1,0)\n",
        "# train[\"Dependents_2+\"] = np.where(train['Dependents'].isin(['2','3+']),1,0)"
      ],
      "execution_count": null,
      "outputs": []
    },
    {
      "cell_type": "code",
      "metadata": {
        "id": "d24wr74GMW-4",
        "colab": {
          "base_uri": "https://localhost:8080/"
        },
        "outputId": "be44f5a8-bfa8-4a1b-e638-24bfb92f1e31"
      },
      "source": [
        "train['Education'].value_counts()"
      ],
      "execution_count": null,
      "outputs": [
        {
          "output_type": "execute_result",
          "data": {
            "text/plain": [
              "Graduate        480\n",
              "Not Graduate    134\n",
              "Name: Education, dtype: int64"
            ]
          },
          "metadata": {
            "tags": []
          },
          "execution_count": 36
        }
      ]
    },
    {
      "cell_type": "code",
      "metadata": {
        "id": "h62uYcMedy_7"
      },
      "source": [
        "train[\"Education_Not_Grad\"] = np.where(train['Education'].isin(['Not Graduate']),1,0)"
      ],
      "execution_count": null,
      "outputs": []
    },
    {
      "cell_type": "code",
      "metadata": {
        "id": "YQaXD5ZJeAJq"
      },
      "source": [
        "train[\"Gender_Female\"] = np.where(train['Gender'].isin(['Female']),1,0)"
      ],
      "execution_count": null,
      "outputs": []
    },
    {
      "cell_type": "code",
      "metadata": {
        "id": "WaYS66VfeAOW"
      },
      "source": [
        "train['Married_No'] = np.where(train['Married'].isin(['No']),1,0)"
      ],
      "execution_count": null,
      "outputs": []
    },
    {
      "cell_type": "code",
      "metadata": {
        "id": "Qb0VclvE08g4",
        "colab": {
          "base_uri": "https://localhost:8080/"
        },
        "outputId": "2992949e-8775-45c8-976f-61db03d65d2a"
      },
      "source": [
        "train['Property_Area'].value_counts()"
      ],
      "execution_count": null,
      "outputs": [
        {
          "output_type": "execute_result",
          "data": {
            "text/plain": [
              "Semiurban    233\n",
              "Urban        202\n",
              "Rural        179\n",
              "Name: Property_Area, dtype: int64"
            ]
          },
          "metadata": {
            "tags": []
          },
          "execution_count": 40
        }
      ]
    },
    {
      "cell_type": "code",
      "metadata": {
        "id": "teraXc3jeAU4"
      },
      "source": [
        "train['Property_Area_SemiUrban'] = np.where(train['Property_Area'].isin(['Semiurban']),1,0)\n",
        "train['Property_Area_Rural'] = np.where(train['Property_Area'].isin(['Rural']),1,0)"
      ],
      "execution_count": null,
      "outputs": []
    },
    {
      "cell_type": "code",
      "metadata": {
        "id": "qy0zBffFeAS3"
      },
      "source": [
        "train['Self_Employed'] = np.where(train['Self_Employed'].isin(['Yes']),1,0)"
      ],
      "execution_count": null,
      "outputs": []
    },
    {
      "cell_type": "markdown",
      "metadata": {
        "id": "2iMyRr1v-Jfh"
      },
      "source": [
        "Ratio of loan amount and total income would tell about the riskiness of the customer. A customer can be assumed to be less risky if the ratio is lower, since his/her chances of defaulting would be lower"
      ]
    },
    {
      "cell_type": "code",
      "metadata": {
        "id": "ppN-Qm6SB9GD"
      },
      "source": [
        "train['LoanAmount_Income'] = train['LoanAmount']/(train['ApplicantIncome']+ train['CoapplicantIncome'])"
      ],
      "execution_count": null,
      "outputs": []
    },
    {
      "cell_type": "markdown",
      "metadata": {
        "id": "GOE-XyrNDRzf"
      },
      "source": [
        "Ratio of loan amount to loan term would tell us about the approximate EMI of the customer. "
      ]
    },
    {
      "cell_type": "code",
      "metadata": {
        "id": "M3G7PuGpIN6H"
      },
      "source": [
        " train['LoanAmount_Term'] = train['LoanAmount']/train['Loan_Amount_Term']"
      ],
      "execution_count": null,
      "outputs": []
    },
    {
      "cell_type": "code",
      "metadata": {
        "id": "oKA5hJcueAM3",
        "colab": {
          "base_uri": "https://localhost:8080/"
        },
        "outputId": "396c87bb-1406-4306-f012-fdcd07b86e4b"
      },
      "source": [
        "new_num_cols = train.select_dtypes(include = ['int','float64','int32','float64','int64']).columns\n",
        "new_num_cols"
      ],
      "execution_count": null,
      "outputs": [
        {
          "output_type": "execute_result",
          "data": {
            "text/plain": [
              "Index(['Self_Employed', 'ApplicantIncome', 'CoapplicantIncome', 'LoanAmount',\n",
              "       'Loan_Amount_Term', 'Credit_History', 'Loan_Status', 'Dependents_0',\n",
              "       'Education_Not_Grad', 'Gender_Female', 'Married_No',\n",
              "       'Property_Area_SemiUrban', 'Property_Area_Rural', 'LoanAmount_Income',\n",
              "       'LoanAmount_Term'],\n",
              "      dtype='object')"
            ]
          },
          "metadata": {
            "tags": []
          },
          "execution_count": 45
        }
      ]
    },
    {
      "cell_type": "code",
      "metadata": {
        "id": "_JvltnCY6w--"
      },
      "source": [
        "cols = ['Self_Employed', 'ApplicantIncome', 'CoapplicantIncome', 'LoanAmount',\n",
        "       'Loan_Amount_Term', 'Credit_History', 'Dependents_0',\n",
        "       'Education_Not_Grad', 'Gender_Female', 'Married_No',\n",
        "       'Property_Area_SemiUrban', 'Property_Area_Rural', 'LoanAmount_Income',\n",
        "       'LoanAmount_Term']"
      ],
      "execution_count": null,
      "outputs": []
    },
    {
      "cell_type": "markdown",
      "metadata": {
        "id": "j_ut35B3GoBj"
      },
      "source": [
        "Univariate Distribution for continuous variables"
      ]
    },
    {
      "cell_type": "code",
      "metadata": {
        "id": "QHy72Omy6ytk",
        "colab": {
          "base_uri": "https://localhost:8080/",
          "height": 1000
        },
        "outputId": "54dfc315-7f9d-48e2-ffc2-ebb135a47bf7"
      },
      "source": [
        "for var in cols:\n",
        "    if train[var].nunique() >= 10:\n",
        "       univar_dist(train[cols],var, bins = 20,kde =True)"
      ],
      "execution_count": null,
      "outputs": [
        {
          "output_type": "display_data",
          "data": {
            "image/png": "[encoded data removed]",
            "text/plain": [
              "<Figure size 432x288 with 2 Axes>"
            ]
          },
          "metadata": {
            "tags": []
          }
        },
        {
          "output_type": "display_data",
          "data": {
            "image/png": "[encoded data removed]",
            "text/plain": [
              "<Figure size 432x288 with 2 Axes>"
            ]
          },
          "metadata": {
            "tags": []
          }
        },
        {
          "output_type": "display_data",
          "data": {
            "image/png": "[encoded data removed]",
            "text/plain": [
              "<Figure size 432x288 with 2 Axes>"
            ]
          },
          "metadata": {
            "tags": []
          }
        },
        {
          "output_type": "display_data",
          "data": {
            "image/png": "[encoded data removed]",
            "text/plain": [
              "<Figure size 432x288 with 2 Axes>"
            ]
          },
          "metadata": {
            "tags": []
          }
        },
        {
          "output_type": "display_data",
          "data": {
            "image/png": "[encoded data removed]",
            "text/plain": [
              "<Figure size 432x288 with 2 Axes>"
            ]
          },
          "metadata": {
            "tags": []
          }
        },
        {
          "output_type": "display_data",
          "data": {
            "image/png": "[encoded data removed]",
            "text/plain": [
              "<Figure size 432x288 with 2 Axes>"
            ]
          },
          "metadata": {
            "tags": []
          }
        }
      ]
    },
    {
      "cell_type": "code",
      "metadata": {
        "id": "aD6YcHz6JWFA",
        "colab": {
          "base_uri": "https://localhost:8080/"
        },
        "outputId": "efc60c1d-a379-4357-8d79-dc11123e56bf"
      },
      "source": [
        "## Bi-variate distribution\n",
        "for var in cols:\n",
        "    if train[var].nunique() >= 10:\n",
        "       bivar_plt(train, var , bins = 7)\n",
        "      #  univar_dist(train[cols],var, bins = 20,kde =True)"
      ],
      "execution_count": null,
      "outputs": [
        {
          "output_type": "stream",
          "text": [
            "Variable Name : ApplicantIncome(by Approval Pct of Loan)\n",
            "#######################################################################\n",
            "        ApplicantIncome  Loan_Status\n",
            "0   (149.999, 2430.714]    65.909091\n",
            "1    (2430.714, 3000.0]    73.033708\n",
            "2    (3000.0, 3507.143]    70.930233\n",
            "3  (3507.143, 4182.286]    69.318182\n",
            "4  (4182.286, 5413.286]    64.367816\n",
            "5  (5413.286, 7760.143]    68.181818\n",
            "6   (7760.143, 81000.0]    69.318182\n",
            "#######################################################################\n",
            "\n",
            "\n",
            "#######################################################################\n",
            "Variable Name : CoapplicantIncome(by Approval Pct of Loan)\n",
            "#######################################################################\n",
            "      CoapplicantIncome  Loan_Status\n",
            "0    (-0.001, 1607.571]    67.806268\n",
            "1  (1607.571, 2131.714]    71.264368\n",
            "2  (2131.714, 3166.429]    72.727273\n",
            "3   (3166.429, 41667.0]    65.909091\n",
            "#######################################################################\n",
            "\n",
            "\n",
            "#######################################################################\n",
            "Variable Name : LoanAmount(by Approval Pct of Loan)\n",
            "#######################################################################\n",
            "         LoanAmount  Loan_Status\n",
            "0   (8.999, 83.429]    64.705882\n",
            "1   (83.429, 105.0]    71.264368\n",
            "2    (105.0, 120.0]    74.468085\n",
            "3  (120.0, 134.714]    75.000000\n",
            "4  (134.714, 160.0]    70.212766\n",
            "5  (160.0, 198.286]    66.666667\n",
            "6  (198.286, 700.0]    63.529412\n",
            "#######################################################################\n",
            "\n",
            "\n",
            "#######################################################################\n",
            "Variable Name : Loan_Amount_Term(by Approval Pct of Loan)\n",
            "#######################################################################\n",
            "  Loan_Amount_Term  Loan_Status\n",
            "0  (11.999, 360.0]     69.74359\n",
            "1   (360.0, 480.0]     40.00000\n",
            "#######################################################################\n",
            "\n",
            "\n",
            "#######################################################################\n",
            "Variable Name : LoanAmount_Income(by Approval Pct of Loan)\n",
            "#######################################################################\n",
            "   LoanAmount_Income  Loan_Status\n",
            "0  (0.00152, 0.0159]    72.941176\n",
            "1     (0.0159, 0.02]    64.285714\n",
            "2     (0.02, 0.0229]    68.235294\n",
            "3   (0.0229, 0.0251]    72.619048\n",
            "4   (0.0251, 0.0276]    70.588235\n",
            "5   (0.0276, 0.0307]    75.000000\n",
            "6   (0.0307, 0.0827]    62.352941\n",
            "#######################################################################\n",
            "\n",
            "\n",
            "#######################################################################\n",
            "Variable Name : LoanAmount_Term(by Approval Pct of Loan)\n",
            "#######################################################################\n",
            "  LoanAmount_Term  Loan_Status\n",
            "0  (0.024, 0.236]    65.060241\n",
            "1    (0.236, 0.3]    73.493976\n",
            "2    (0.3, 0.342]    73.170732\n",
            "3  (0.342, 0.389]    74.117647\n",
            "4  (0.389, 0.481]    72.839506\n",
            "5  (0.481, 0.677]    65.432099\n",
            "6   (0.677, 9.25]    63.855422\n",
            "#######################################################################\n",
            "\n",
            "\n",
            "#######################################################################\n"
          ],
          "name": "stdout"
        }
      ]
    },
    {
      "cell_type": "markdown",
      "metadata": {
        "id": "3EwxJ0LmGwuN"
      },
      "source": [
        "Distribution of Sparse/Dummy Variables"
      ]
    },
    {
      "cell_type": "code",
      "metadata": {
        "id": "_wp-RRZXFYoJ"
      },
      "source": [
        "dummy_sparse_vars = []\n",
        "for var in cols:\n",
        "    if train[var].nunique() < 10:\n",
        "       dummy_sparse_vars.append(var)"
      ],
      "execution_count": null,
      "outputs": []
    },
    {
      "cell_type": "code",
      "metadata": {
        "id": "P_jdPMUWE_xG",
        "colab": {
          "base_uri": "https://localhost:8080/"
        },
        "outputId": "559ae2df-dce9-41ee-e4b3-2368dcc3ced4"
      },
      "source": [
        "var_distn(dummy_sparse_vars)"
      ],
      "execution_count": null,
      "outputs": [
        {
          "output_type": "stream",
          "text": [
            "###############################\n",
            "Self_Employed\n",
            "-------------------------------\n",
            "              Loan_Status                                             \n",
            "                    count      mean       std  min  25%  50%  75%  max\n",
            "Self_Employed                                                         \n",
            "0                   532.0  0.687970  0.463758  0.0  0.0  1.0  1.0  1.0\n",
            "1                    82.0  0.682927  0.468200  0.0  0.0  1.0  1.0  1.0\n",
            "###############################\n",
            "###############################\n",
            "Credit_History\n",
            "-------------------------------\n",
            "               Loan_Status                                             \n",
            "                     count      mean       std  min  25%  50%  75%  max\n",
            "Credit_History                                                         \n",
            "0.0                  139.0  0.316547  0.466811  0.0  0.0  0.0  1.0  1.0\n",
            "1.0                  475.0  0.795789  0.403549  0.0  1.0  1.0  1.0  1.0\n",
            "###############################\n",
            "###############################\n",
            "Dependents_0\n",
            "-------------------------------\n",
            "             Loan_Status                                             \n",
            "                   count      mean       std  min  25%  50%  75%  max\n",
            "Dependents_0                                                         \n",
            "0                  269.0  0.684015  0.465774  0.0  0.0  1.0  1.0  1.0\n",
            "1                  345.0  0.689855  0.463225  0.0  0.0  1.0  1.0  1.0\n",
            "###############################\n",
            "###############################\n",
            "Education_Not_Grad\n",
            "-------------------------------\n",
            "                   Loan_Status                                             \n",
            "                         count      mean       std  min  25%  50%  75%  max\n",
            "Education_Not_Grad                                                         \n",
            "0                        480.0  0.708333  0.455004  0.0  0.0  1.0  1.0  1.0\n",
            "1                        134.0  0.611940  0.489137  0.0  0.0  1.0  1.0  1.0\n",
            "###############################\n",
            "###############################\n",
            "Gender_Female\n",
            "-------------------------------\n",
            "              Loan_Status                                             \n",
            "                    count      mean       std  min  25%  50%  75%  max\n",
            "Gender_Female                                                         \n",
            "0                   502.0  0.691235  0.462445  0.0  0.0  1.0  1.0  1.0\n",
            "1                   112.0  0.669643  0.472456  0.0  0.0  1.0  1.0  1.0\n",
            "###############################\n",
            "###############################\n",
            "Married_No\n",
            "-------------------------------\n",
            "           Loan_Status                                             \n",
            "                 count      mean       std  min  25%  50%  75%  max\n",
            "Married_No                                                         \n",
            "0                401.0  0.718204  0.450436  0.0  0.0  1.0  1.0  1.0\n",
            "1                213.0  0.629108  0.484182  0.0  0.0  1.0  1.0  1.0\n",
            "###############################\n",
            "###############################\n",
            "Property_Area_SemiUrban\n",
            "-------------------------------\n",
            "                        Loan_Status                      ...               \n",
            "                              count      mean       std  ...  50%  75%  max\n",
            "Property_Area_SemiUrban                                  ...               \n",
            "0                             381.0  0.637795  0.481270  ...  1.0  1.0  1.0\n",
            "1                             233.0  0.768240  0.422865  ...  1.0  1.0  1.0\n",
            "\n",
            "[2 rows x 8 columns]\n",
            "###############################\n",
            "###############################\n",
            "Property_Area_Rural\n",
            "-------------------------------\n",
            "                    Loan_Status                                             \n",
            "                          count      mean       std  min  25%  50%  75%  max\n",
            "Property_Area_Rural                                                         \n",
            "0                         435.0  0.717241  0.450859  0.0  0.0  1.0  1.0  1.0\n",
            "1                         179.0  0.614525  0.488073  0.0  0.0  1.0  1.0  1.0\n",
            "###############################\n"
          ],
          "name": "stdout"
        }
      ]
    },
    {
      "cell_type": "code",
      "metadata": {
        "id": "7B_YI3AfZSus"
      },
      "source": [
        "# print(usr.num_contacts.quantile([.1,.2,.25,.3,.35,0.359,.36,.4,.5,.6,.75,.8,.9,.95,.96,.97,0.98,.99,0.995,1]))"
      ],
      "execution_count": null,
      "outputs": []
    },
    {
      "cell_type": "code",
      "metadata": {
        "id": "SwBEleTfAxde"
      },
      "source": [
        "# Missing Value Imputation\n",
        "# Replacing rest of the missing values with a distant value -999\n",
        "\n",
        "train = train.fillna(-999)"
      ],
      "execution_count": null,
      "outputs": []
    },
    {
      "cell_type": "code",
      "metadata": {
        "id": "Y2p-IlVHtbKw"
      },
      "source": [
        "# train['Loan_Status'].value_counts()"
      ],
      "execution_count": null,
      "outputs": []
    },
    {
      "cell_type": "markdown",
      "metadata": {
        "id": "pfjH9ILZDDna"
      },
      "source": [
        "## Preparing train and validation/test data sets"
      ]
    },
    {
      "cell_type": "code",
      "metadata": {
        "id": "pc_CbRYUDM0o"
      },
      "source": [
        "## Split into train and test data\n",
        "from sklearn.model_selection import train_test_split\n",
        "## Here we are going with a one sample out validation of 20% random sampled from total training development data\n",
        "X_train, X_test, y_train, y_test = train_test_split(train[cols], train['Loan_Status'], test_size= 0.20, random_state=22, stratify = train['Loan_Status'])"
      ],
      "execution_count": null,
      "outputs": []
    },
    {
      "cell_type": "code",
      "metadata": {
        "id": "E0aU9UQSDM3a",
        "colab": {
          "base_uri": "https://localhost:8080/"
        },
        "outputId": "cf77a883-ee3e-45a3-fd96-ad56b09944a9"
      },
      "source": [
        "## Checking Loan Approval Rate in train and test/in-time validation set\n",
        "y_train.mean(), y_test.mean()"
      ],
      "execution_count": null,
      "outputs": [
        {
          "output_type": "execute_result",
          "data": {
            "text/plain": [
              "(0.6863543788187373, 0.6910569105691057)"
            ]
          },
          "metadata": {
            "tags": []
          },
          "execution_count": 55
        }
      ]
    },
    {
      "cell_type": "code",
      "metadata": {
        "id": "ZAkrAUcinPsY"
      },
      "source": [
        "################################################################"
      ],
      "execution_count": null,
      "outputs": []
    },
    {
      "cell_type": "markdown",
      "metadata": {
        "id": "wZZhhCTFqJUf"
      },
      "source": [
        "## GBM Classifier"
      ]
    },
    {
      "cell_type": "code",
      "metadata": {
        "id": "vbxmXdjKAcCN"
      },
      "source": [
        "from scipy.stats import uniform\n",
        "from sklearn.model_selection import cross_val_score\n",
        "from sklearn.metrics import roc_auc_score ,roc_curve, auc\n",
        "from sklearn.model_selection import train_test_split\n",
        "from sklearn.model_selection import RandomizedSearchCV"
      ],
      "execution_count": null,
      "outputs": []
    },
    {
      "cell_type": "markdown",
      "metadata": {
        "id": "j9eUpZIeLs96"
      },
      "source": [
        "At first we train the model with with default hyper parameters in order to see if there is any overfitting or underfitting problem coming up"
      ]
    },
    {
      "cell_type": "code",
      "metadata": {
        "id": "fypEawYMqLQw"
      },
      "source": [
        "from sklearn.ensemble import GradientBoostingClassifier\n",
        "gbm_clf = GradientBoostingClassifier()\n",
        "\n",
        "gbm_fit = gbm_clf.fit(X_train[cols], y_train)"
      ],
      "execution_count": null,
      "outputs": []
    },
    {
      "cell_type": "markdown",
      "metadata": {
        "id": "XGWLzzsC7ig2"
      },
      "source": [
        "https://stats.stackexchange.com/questions/162162/relative-variable-importance-for-boosting"
      ]
    },
    {
      "cell_type": "code",
      "metadata": {
        "id": "sKHqkRxrUBnT",
        "colab": {
          "base_uri": "https://localhost:8080/",
          "height": 627
        },
        "outputId": "aee99b6c-ce20-4940-d6a6-ad77c279f304"
      },
      "source": [
        "feature_importance = gbm_fit.feature_importances_\n",
        "# make importances relative to max importance\n",
        "feature_importance = 100.0 * (feature_importance / feature_importance.max())\n",
        "sorted_idx = np.argsort(feature_importance)\n",
        "pos = np.arange(sorted_idx.shape[0]) + .5\n",
        "# plt.subplot(1, 2, 2)\n",
        "plt.figure(figsize=(8, 10))\n",
        "plt.barh(pos, feature_importance[sorted_idx], align='center')\n",
        "plt.yticks(pos, X_train[cols].keys()[sorted_idx])\n",
        "plt.xlabel('Relative Importance')\n",
        "plt.title('Variable Importance')\n",
        "plt.show()"
      ],
      "execution_count": null,
      "outputs": [
        {
          "output_type": "display_data",
          "data": {
            "image/png": "[encoded data removed]",
            "text/plain": [
              "<Figure size 576x720 with 1 Axes>"
            ]
          },
          "metadata": {
            "tags": []
          }
        }
      ]
    },
    {
      "cell_type": "code",
      "metadata": {
        "id": "mr8JEN9qS3fW"
      },
      "source": [
        "pred_trn_gbm = gbm_fit.predict_proba(X_train[cols])\n",
        "pred_tst_gbm = gbm_fit.predict_proba(X_test[cols])\n",
        "\n",
        "pred_trn_gbm = pd.DataFrame(pred_trn_gbm)\n",
        "pred_tst_gbm = pd.DataFrame(pred_tst_gbm)"
      ],
      "execution_count": null,
      "outputs": []
    },
    {
      "cell_type": "code",
      "metadata": {
        "id": "b2CaQcNETPvC",
        "colab": {
          "base_uri": "https://localhost:8080/"
        },
        "outputId": "45376c73-4759-46a8-9435-e427c6e68d54"
      },
      "source": [
        "print(\"AUROC for Train is: \", roc_auc_score(y_train,pred_trn_gbm[1]))\n",
        "print(\"AUROC for Test is: \", roc_auc_score(y_test,pred_tst_gbm[1]))"
      ],
      "execution_count": null,
      "outputs": [
        {
          "output_type": "stream",
          "text": [
            "AUROC for Train is:  0.9779952984700759\n",
            "AUROC for Test is:  0.7315789473684211\n"
          ],
          "name": "stdout"
        }
      ]
    },
    {
      "cell_type": "markdown",
      "metadata": {
        "id": "pQHEEpFHTVvA"
      },
      "source": [
        "As one can observe there is a case of overfitting when we train with default parameters.\n",
        " We would try some hyper-parameter optimization techniques below in order to reduce that."
      ]
    },
    {
      "cell_type": "code",
      "metadata": {
        "id": "9HGq1jBCqY-y"
      },
      "source": [
        "## Hyper-parameter tuning with Random Search CV\n",
        "import time\n",
        "from sklearn.model_selection import RandomizedSearchCV\n",
        "\n",
        "gbm = GradientBoostingClassifier()\n",
        "\n",
        "## Here we are taking choosing some of the hyperparameters of GBM classifier which are commonly used by practitioners\n",
        "## One can use other hyperparameters if one is inclined to experiment more usually these works okay in practice\n",
        "param_grid_gbm = {\n",
        "        'n_estimators':[100,200,300,500,1000],\n",
        "        'learning_rate': [0.001,0.01,0.03,0.05,0.1,0.2],\n",
        "        'subsample': [0.4,0.5,0.6,0.7,0.8],\n",
        "        'max_depth' : [1,2,3,4,5], \n",
        "        'max_features': [0.5, 'sqrt', 'log2','auto'], \n",
        "        'min_impurity_decrease' :[0,0.001,0.01,0.1], \n",
        "        'min_samples_leaf': [1,5,10]\n",
        "}"
      ],
      "execution_count": null,
      "outputs": []
    },
    {
      "cell_type": "markdown",
      "metadata": {
        "id": "MQb2Lp88RsKC"
      },
      "source": [
        "**Hyperparameter Description:**\n",
        "\n",
        "        '**n_estimators**': Number of boosting stages to perform or simply no. of sequential trees to train\n",
        "        '**learning_rate**':  the shrinkage of tree contribution after the first tree\n",
        "        '**subsample**': fraction of samples to be used for fitting the individual base learners/weak learners (here the shalllow trees)\n",
        "        '**max_depth**' :  max depth each tree can grow upto\n",
        "        '**max_features**':  this part is similar to Random Forest feature subsampling\n",
        "        '**min_impurity_decrease**' : weighted impurity decrease. A node will be split if this split induces a decrease of the impurity greater than or equal to the value. \n",
        "        It is calculated as,\n",
        "        (N_t / N) * [impurity - (N_t_R / N_t) * right_impurity - (N_t_L / N_t) * left_impurity]\n",
        "       where N is the total number of samples, N_t is the number of samples at the current node(parent node), N_t_L is the number of samples in the left child, and N_t_R is the number of samples in the right child.\n",
        "       Here impurity is usually of two types Gini/Entropy. Most probably in this algorithm Entropy is used \n",
        "        Entropy is calculated as : sum over 1 to C [(−p_i*log(p_i))], where \tp_i is the frequency of label i at a node and C is the number of unique labels\n",
        "        '**min_samples_leaf**': minimum number of samples required to be at a leaf node. If post splitting it is observed that any one of the split (left or right nodes will have less samples than minimun samples specified then the splits will not happen. This also acts as a tree complexity controlling parameter like max_depth and min_impurity_decrease"
      ]
    },
    {
      "cell_type": "code",
      "metadata": {
        "id": "cs8Hv9_7rsg2",
        "colab": {
          "base_uri": "https://localhost:8080/"
        },
        "outputId": "6f4f4253-1645-44f1-def8-3dc437efa704"
      },
      "source": [
        "from sklearn.model_selection import StratifiedKFold\n",
        "folds =5 \n",
        "skf = StratifiedKFold(n_splits=folds, shuffle = True, random_state = 42)\n",
        "gbm_cv = RandomizedSearchCV(gbm, param_grid_gbm, n_iter=150,\n",
        "                            n_jobs=-1, verbose=2, cv=skf.split(X_train[cols], y_train),\n",
        "                            scoring='roc_auc', refit=False, random_state=42)  # neg_log_loss,  fit_params=fit_params1,\n",
        "print(\"Randomized search..\")\n",
        "search_time_start = time.time()\n",
        "gbm_cv.fit(X_train[cols], y_train)\n",
        "print(\"Randomized search time:\", time.time() - search_time_start)\n",
        "\n",
        "best_score_gbm = gbm_cv.best_score_\n",
        "best_params_gbm = gbm_cv.best_params_\n",
        "print(\"Best score: {}\".format(best_score_gbm))\n",
        "print(\"Best params: \")\n",
        "for param_name in sorted(best_params_gbm.keys()):\n",
        "    print('%s: %r' % (param_name, best_params_gbm[param_name]))"
      ],
      "execution_count": null,
      "outputs": [
        {
          "output_type": "stream",
          "text": [
            "Randomized search..\n",
            "Fitting 5 folds for each of 150 candidates, totalling 750 fits\n"
          ],
          "name": "stdout"
        },
        {
          "output_type": "stream",
          "text": [
            "[Parallel(n_jobs=-1)]: Using backend LokyBackend with 2 concurrent workers.\n",
            "[Parallel(n_jobs=-1)]: Done  37 tasks      | elapsed:   12.9s\n",
            "[Parallel(n_jobs=-1)]: Done 158 tasks      | elapsed:   45.1s\n",
            "[Parallel(n_jobs=-1)]: Done 361 tasks      | elapsed:  1.6min\n",
            "[Parallel(n_jobs=-1)]: Done 644 tasks      | elapsed:  2.9min\n"
          ],
          "name": "stderr"
        },
        {
          "output_type": "stream",
          "text": [
            "Randomized search time: 202.7653305530548\n",
            "Best score: 0.7719327933388087\n",
            "Best params: \n",
            "learning_rate: 0.01\n",
            "max_depth: 1\n",
            "max_features: 'auto'\n",
            "min_impurity_decrease: 0\n",
            "min_samples_leaf: 1\n",
            "n_estimators: 300\n",
            "subsample: 0.4\n"
          ],
          "name": "stdout"
        },
        {
          "output_type": "stream",
          "text": [
            "[Parallel(n_jobs=-1)]: Done 750 out of 750 | elapsed:  3.4min finished\n"
          ],
          "name": "stderr"
        }
      ]
    },
    {
      "cell_type": "markdown",
      "metadata": {
        "id": "kr4D7BoSZ9HE"
      },
      "source": [
        "Just look across the best estomators after random search and compare them with original set, in the best is on the edge (on either side) , then one might consider few more samples in order to extend it in the appropriate direction. In this exercise I haven't exclusively done that, but should be tried."
      ]
    },
    {
      "cell_type": "code",
      "metadata": {
        "id": "r_GpfA0HsGS2"
      },
      "source": [
        "gbm_clf = GradientBoostingClassifier(learning_rate=best_params_gbm['learning_rate'] , \n",
        "                                   n_estimators=best_params_gbm['n_estimators'] ,\n",
        "        subsample= best_params_gbm['subsample'],\n",
        "        max_depth = best_params_gbm['max_depth'],\n",
        "        max_features = best_params_gbm['max_features'] ,\n",
        "        min_impurity_decrease = best_params_gbm['min_impurity_decrease'] ,\n",
        "        min_samples_leaf = best_params_gbm['min_samples_leaf'])\n",
        "\n",
        "gbm_fit = gbm_clf.fit(X_train[cols], y_train)"
      ],
      "execution_count": null,
      "outputs": []
    },
    {
      "cell_type": "code",
      "metadata": {
        "id": "T102jpvcBnhK",
        "colab": {
          "base_uri": "https://localhost:8080/",
          "height": 627
        },
        "outputId": "0a10fe7e-7829-403e-f014-c7706d7ef7a0"
      },
      "source": [
        "feature_importance = gbm_fit.feature_importances_\n",
        "# make importances relative to max importance\n",
        "feature_importance = 100.0 * (feature_importance / feature_importance.max())\n",
        "sorted_idx = np.argsort(feature_importance)\n",
        "pos = np.arange(sorted_idx.shape[0]) + .5\n",
        "# plt.subplot(1, 2, 2)\n",
        "plt.figure(figsize=(8, 10))\n",
        "plt.barh(pos, feature_importance[sorted_idx], align='center')\n",
        "plt.yticks(pos, X_train[cols].keys()[sorted_idx])\n",
        "plt.xlabel('Relative Importance')\n",
        "plt.title('Variable Importance')\n",
        "plt.show()"
      ],
      "execution_count": null,
      "outputs": [
        {
          "output_type": "display_data",
          "data": {
            "image/png": "[encoded data removed]",
            "text/plain": [
              "<Figure size 576x720 with 1 Axes>"
            ]
          },
          "metadata": {
            "tags": []
          }
        }
      ]
    },
    {
      "cell_type": "code",
      "metadata": {
        "id": "y-FZzbLSTlHD"
      },
      "source": [
        "pred_trn_gbm = gbm_fit.predict_proba(X_train[cols])\n",
        "pred_tst_gbm = gbm_fit.predict_proba(X_test[cols])\n",
        "\n",
        "pred_trn_gbm = pd.DataFrame(pred_trn_gbm)\n",
        "pred_tst_gbm = pd.DataFrame(pred_tst_gbm)"
      ],
      "execution_count": null,
      "outputs": []
    },
    {
      "cell_type": "code",
      "metadata": {
        "id": "x-Rmxh_TUKII",
        "colab": {
          "base_uri": "https://localhost:8080/"
        },
        "outputId": "6d05d723-7211-4adc-94a7-db9fc68a28f4"
      },
      "source": [
        "print(\"AUROC for Train is: \", roc_auc_score(y_train,pred_trn_gbm[1]))\n",
        "print(\"AUROC for Test is: \", roc_auc_score(y_test,pred_tst_gbm[1]))"
      ],
      "execution_count": null,
      "outputs": [
        {
          "output_type": "stream",
          "text": [
            "AUROC for Train is:  0.8094146209873212\n",
            "AUROC for Test is:  0.7360681114551083\n"
          ],
          "name": "stdout"
        }
      ]
    },
    {
      "cell_type": "markdown",
      "metadata": {
        "id": "zXzPLk3XkNlz"
      },
      "source": [
        "2-stage hyper parameter optimization"
      ]
    },
    {
      "cell_type": "code",
      "metadata": {
        "id": "1oI1DfLwdU35"
      },
      "source": [
        "##  Stage 1: Tune the complexity parameters\n",
        "import time\n",
        "from sklearn.model_selection import RandomizedSearchCV\n",
        "\n",
        "gbm = GradientBoostingClassifier()\n",
        "\n",
        "param_grid_gbm = {\n",
        "        # 'n_estimators':[100,200,300,500,1000],\n",
        "        # 'learning_rate': [0.001,0.01,0.03,0.05,0.1,0.2],\n",
        "        'subsample': [0.4,0.5,0.6,0.7,0.8],\n",
        "        'max_depth' : [1,2,3,4,5], \n",
        "        'max_features': [0.5, 'sqrt', 'log2','auto'], \n",
        "        'min_impurity_decrease' :[0,0.001,0.01,0.1], \n",
        "        'min_samples_leaf': [1,5,10]\n",
        "}"
      ],
      "execution_count": null,
      "outputs": []
    },
    {
      "cell_type": "code",
      "metadata": {
        "id": "1vr8pCApdbim",
        "colab": {
          "base_uri": "https://localhost:8080/"
        },
        "outputId": "b7a30047-d8a4-473d-cc1e-eef0587be88c"
      },
      "source": [
        "from sklearn.model_selection import StratifiedKFold\n",
        "folds =5 \n",
        "skf = StratifiedKFold(n_splits=folds, shuffle = True, random_state = 42)\n",
        "gbm_cv = RandomizedSearchCV(gbm, param_grid_gbm, n_iter=150,\n",
        "                            n_jobs=-1, verbose=2, cv=skf.split(X_train[cols], y_train),\n",
        "                            scoring='roc_auc', refit=False, random_state=42)  # neg_log_loss,  fit_params=fit_params1,\n",
        "print(\"Randomized search..\")\n",
        "search_time_start = time.time()\n",
        "gbm_cv.fit(X_train[cols], y_train)\n",
        "print(\"Randomized search time:\", time.time() - search_time_start)\n",
        "\n",
        "best_score_gbm = gbm_cv.best_score_\n",
        "best_params_gbm = gbm_cv.best_params_\n",
        "print(\"Best score: {}\".format(best_score_gbm))\n",
        "print(\"Best params: \")\n",
        "for param_name in sorted(best_params_gbm.keys()):\n",
        "    print('%s: %r' % (param_name, best_params_gbm[param_name]))"
      ],
      "execution_count": null,
      "outputs": [
        {
          "output_type": "stream",
          "text": [
            "Randomized search..\n",
            "Fitting 5 folds for each of 150 candidates, totalling 750 fits\n"
          ],
          "name": "stdout"
        },
        {
          "output_type": "stream",
          "text": [
            "[Parallel(n_jobs=-1)]: Using backend LokyBackend with 2 concurrent workers.\n",
            "[Parallel(n_jobs=-1)]: Done  37 tasks      | elapsed:    2.7s\n",
            "[Parallel(n_jobs=-1)]: Done 158 tasks      | elapsed:   10.7s\n",
            "[Parallel(n_jobs=-1)]: Done 361 tasks      | elapsed:   24.4s\n",
            "[Parallel(n_jobs=-1)]: Done 644 tasks      | elapsed:   45.4s\n"
          ],
          "name": "stderr"
        },
        {
          "output_type": "stream",
          "text": [
            "Randomized search time: 53.15576434135437\n",
            "Best score: 0.7767384849943829\n",
            "Best params: \n",
            "max_depth: 1\n",
            "max_features: 'sqrt'\n",
            "min_impurity_decrease: 0.1\n",
            "min_samples_leaf: 5\n",
            "subsample: 0.7\n"
          ],
          "name": "stdout"
        },
        {
          "output_type": "stream",
          "text": [
            "[Parallel(n_jobs=-1)]: Done 750 out of 750 | elapsed:   53.1s finished\n"
          ],
          "name": "stderr"
        }
      ]
    },
    {
      "cell_type": "code",
      "metadata": {
        "id": "IMshygosURpa"
      },
      "source": [
        " ##################################################################################"
      ],
      "execution_count": null,
      "outputs": []
    },
    {
      "cell_type": "markdown",
      "metadata": {
        "id": "1hsjj5ocXJBo"
      },
      "source": [
        "Learning rate and number of trees has a relationship. As we increase the learning rate we have to decrease the no. of trees by that multiple and vice-versa."
      ]
    },
    {
      "cell_type": "code",
      "metadata": {
        "id": "5vz3K16eV2EB"
      },
      "source": [
        "## Stage 2: learning rate and n_estimator optimization\n",
        "import time\n",
        "from sklearn.model_selection import RandomizedSearchCV\n",
        "\n",
        "gbm_1 = GradientBoostingClassifier()\n",
        "\n",
        "param_grid_gbm_1 = {\n",
        "        'n_estimators':[500,1000,1500],\n",
        "        'learning_rate': [0.001,0.01,0.03,0.05,0.1,0.2,0.3],\n",
        "        'subsample': [best_params_gbm['subsample'], best_params_gbm['subsample'] ],\n",
        "        'max_depth' : [best_params_gbm['max_depth'],best_params_gbm['max_depth']],\n",
        "        'max_features': [best_params_gbm['max_features'], best_params_gbm['max_features']],\n",
        "        'min_impurity_decrease' :[best_params_gbm['min_impurity_decrease'],  best_params_gbm['min_impurity_decrease']],\n",
        "        'min_samples_leaf': [best_params_gbm['min_samples_leaf'],best_params_gbm['min_samples_leaf']]\n",
        " \n",
        "}\n"
      ],
      "execution_count": null,
      "outputs": []
    },
    {
      "cell_type": "code",
      "metadata": {
        "id": "-28TYt1s-mUX",
        "colab": {
          "base_uri": "https://localhost:8080/"
        },
        "outputId": "96048d8e-30b6-4f5d-e510-29213c6818ab"
      },
      "source": [
        "param_grid_gbm_1"
      ],
      "execution_count": null,
      "outputs": [
        {
          "output_type": "execute_result",
          "data": {
            "text/plain": [
              "{'learning_rate': [0.001, 0.01, 0.03, 0.05, 0.1, 0.2, 0.3],\n",
              " 'max_depth': [1, 1],\n",
              " 'max_features': ['sqrt', 'sqrt'],\n",
              " 'min_impurity_decrease': [0.1, 0.1],\n",
              " 'min_samples_leaf': [5, 5],\n",
              " 'n_estimators': [500, 1000, 1500],\n",
              " 'subsample': [0.7, 0.7]}"
            ]
          },
          "metadata": {
            "tags": []
          },
          "execution_count": 72
        }
      ]
    },
    {
      "cell_type": "code",
      "metadata": {
        "id": "OaET5ISmks_v",
        "colab": {
          "base_uri": "https://localhost:8080/"
        },
        "outputId": "6d6897ae-c53e-420e-f202-25771bd4e60f"
      },
      "source": [
        "from sklearn.model_selection import StratifiedKFold\n",
        "folds =5 \n",
        "skf = StratifiedKFold(n_splits=folds, shuffle = True, random_state = 42)\n",
        "gbm_cv_1 = RandomizedSearchCV(gbm_1, param_grid_gbm_1, n_iter=50,\n",
        "                            n_jobs=-1, verbose=2, cv=skf.split(X_train[cols], y_train),\n",
        "                            scoring='roc_auc', refit=False, random_state=42)  # neg_log_loss,  fit_params=fit_params1,\n",
        "print(\"Randomized search..\")\n",
        "search_time_start = time.time()\n",
        "gbm_cv_1.fit(X_train[cols], y_train)\n",
        "print(\"Randomized search time:\", time.time() - search_time_start)\n",
        "\n",
        "best_score_gbm_1 = gbm_cv_1.best_score_\n",
        "best_params_gbm_1 = gbm_cv_1.best_params_\n",
        "print(\"Best score: {}\".format(best_score_gbm))\n",
        "print(\"Best params: \")\n",
        "for param_name in sorted(best_params_gbm_1.keys()):\n",
        "    print('%s: %r' % (param_name, best_params_gbm_1[param_name]))"
      ],
      "execution_count": null,
      "outputs": [
        {
          "output_type": "stream",
          "text": [
            "Randomized search..\n",
            "Fitting 5 folds for each of 50 candidates, totalling 250 fits\n"
          ],
          "name": "stdout"
        },
        {
          "output_type": "stream",
          "text": [
            "[Parallel(n_jobs=-1)]: Using backend LokyBackend with 2 concurrent workers.\n",
            "[Parallel(n_jobs=-1)]: Done  37 tasks      | elapsed:   16.7s\n",
            "[Parallel(n_jobs=-1)]: Done 158 tasks      | elapsed:  1.3min\n"
          ],
          "name": "stderr"
        },
        {
          "output_type": "stream",
          "text": [
            "Randomized search time: 116.4658145904541\n",
            "Best score: 0.7767384849943829\n",
            "Best params: \n",
            "learning_rate: 0.001\n",
            "max_depth: 1\n",
            "max_features: 'sqrt'\n",
            "min_impurity_decrease: 0.1\n",
            "min_samples_leaf: 5\n",
            "n_estimators: 1500\n",
            "subsample: 0.7\n"
          ],
          "name": "stdout"
        },
        {
          "output_type": "stream",
          "text": [
            "[Parallel(n_jobs=-1)]: Done 250 out of 250 | elapsed:  1.9min finished\n"
          ],
          "name": "stderr"
        }
      ]
    },
    {
      "cell_type": "code",
      "metadata": {
        "id": "gdOa8FwFD8Mm"
      },
      "source": [
        "gbm_clf = GradientBoostingClassifier(learning_rate=best_params_gbm_1['learning_rate'] , \n",
        "                                   n_estimators=best_params_gbm_1['n_estimators'] ,\n",
        "        subsample= best_params_gbm_1['subsample'],\n",
        "        max_depth = best_params_gbm_1['max_depth'] ,\n",
        "        max_features = best_params_gbm_1['max_features'] ,\n",
        "        min_impurity_decrease = best_params_gbm_1['min_impurity_decrease'] ,\n",
        "        min_samples_leaf = best_params_gbm_1['min_samples_leaf'])\n",
        "\n",
        "gbm_fit = gbm_clf.fit(X_train[cols], y_train)"
      ],
      "execution_count": null,
      "outputs": []
    },
    {
      "cell_type": "code",
      "metadata": {
        "id": "0Ct_L5vgWhcE",
        "colab": {
          "base_uri": "https://localhost:8080/",
          "height": 627
        },
        "outputId": "d5935422-aba4-437b-a830-13347b43cbd2"
      },
      "source": [
        "feature_importance = gbm_fit.feature_importances_\n",
        "# make importances relative to max importance\n",
        "feature_importance = 100.0 * (feature_importance / feature_importance.max())\n",
        "sorted_idx = np.argsort(feature_importance)\n",
        "pos = np.arange(sorted_idx.shape[0]) + .5\n",
        "# plt.subplot(1, 2, 2)\n",
        "plt.figure(figsize=(8, 10))\n",
        "plt.barh(pos, feature_importance[sorted_idx], align='center')\n",
        "plt.yticks(pos, X_train[cols].keys()[sorted_idx])\n",
        "plt.xlabel('Relative Importance')\n",
        "plt.title('Variable Importance')\n",
        "plt.show()"
      ],
      "execution_count": null,
      "outputs": [
        {
          "output_type": "display_data",
          "data": {
            "image/png": "[encoded data removed]",
            "text/plain": [
              "<Figure size 576x720 with 1 Axes>"
            ]
          },
          "metadata": {
            "tags": []
          }
        }
      ]
    },
    {
      "cell_type": "code",
      "metadata": {
        "id": "9EZC0MFXFNhW"
      },
      "source": [
        "pred_trn_gbm = gbm_fit.predict_proba(X_train[cols])\n",
        "pred_tst_gbm = gbm_fit.predict_proba(X_test[cols])\n",
        "\n",
        "pred_trn_gbm = pd.DataFrame(pred_trn_gbm)\n",
        "pred_tst_gbm = pd.DataFrame(pred_tst_gbm)"
      ],
      "execution_count": null,
      "outputs": []
    },
    {
      "cell_type": "code",
      "metadata": {
        "id": "lROiAy4PFN1b",
        "colab": {
          "base_uri": "https://localhost:8080/"
        },
        "outputId": "8fe9bbfb-c5df-4137-c442-8dbdcd726b3a"
      },
      "source": [
        "print(\"AUROC for Train is: \", roc_auc_score(y_train,pred_trn_gbm[1]))\n",
        "print(\"AUROC for Test is: \", roc_auc_score(y_test,pred_tst_gbm[1]))"
      ],
      "execution_count": null,
      "outputs": [
        {
          "output_type": "stream",
          "text": [
            "AUROC for Train is:  0.8130660141045898\n",
            "AUROC for Test is:  0.7529411764705882\n"
          ],
          "name": "stdout"
        }
      ]
    },
    {
      "cell_type": "code",
      "metadata": {
        "id": "jFFDGHE6ZVyn"
      },
      "source": [
        "###################################################################################################################"
      ],
      "execution_count": null,
      "outputs": []
    },
    {
      "cell_type": "markdown",
      "metadata": {
        "id": "ObPliIQVV222"
      },
      "source": [
        "## Xgboost"
      ]
    },
    {
      "cell_type": "markdown",
      "metadata": {
        "id": "n5HxerhRoLPN"
      },
      "source": [
        "Xgboost is usually known as regularized gradient boosting. Unlike usual gradient boosting the loss function comprises of a regularization part too. Each tree is regularized for number of terminal/leaf nodes and the vector of leaf scores\n",
        "\n",
        "Algorithmic advantages are:\n",
        "\n",
        "1) Uses split features algorithm like histogram, where a continuous feature is\n",
        "discretized into bins and then finds the best split among those bins only\n",
        "\n",
        "2) Parallel Learning: In order to reduce sorting time which is most important aspect of a tree algorithm, here the data is stored in-memory or column blocks. Each block has data columns sorted by the corresponding feature value. This computation needs to be done only once before training and can be reused later.\n",
        "Sorting of blocks can be done independently and can be divided between parallel threads of the CPU. The split finding can be parallelized as the collection of statistics for each column is done in parallel.\n",
        "\n",
        "3) XGBoost has an in-built routine to handle missing values.Although if one desires missing value imputation can be done prior to training\n",
        "\n",
        "4) Another parallelisation happens during the construction of each trees, at a very low level. Each independent branches of the tree are trained separately. All the cores available are used by xgboost to do this. Although sequential creation of trees cannot be parallelized logically. There are few drawbacks to this approach of paralellisation, the overhead. Before parallel computation, data has to be sent to each cores. Thus parallelising at such a low level might not be the best idea. Instead we would give the entire dataset to each core and let it train a full model by itself. \n",
        "\n",
        "5) Pruning of the tree: XGBoost  makes splits upto the max_depth specified and then start pruning the tree backwards and remove splits beyond which there is no positive gain\n",
        "\n",
        "6) One can use the DMatrix, which is an internal data structure that is used by XGBoost, which is optimized for both memory efficiency and training speed. In this case I haven't used it, since I havejust continued with data prepared from GBM. (example: dtrain = xgb.DMatrix(data=X_train, label=y_train)"
      ]
    },
    {
      "cell_type": "markdown",
      "metadata": {
        "id": "Osh8Xgtqx18a"
      },
      "source": [
        "https://xgboost.readthedocs.io/en/latest/tutorials/model.html#\n",
        "\n",
        "\n",
        "https://datascience.stackexchange.com/questions/12318/how-to-interpret-the-output-of-xgboost-importance\n"
      ]
    },
    {
      "cell_type": "code",
      "metadata": {
        "id": "6GPY9ESrcp_6"
      },
      "source": [
        "from sklearn.model_selection import cross_val_score\n",
        "from sklearn.metrics import roc_auc_score ,roc_curve, auc\n",
        "from sklearn.model_selection import RandomizedSearchCV\n",
        "import xgboost as xgb\n",
        "from sklearn.ensemble import GradientBoostingClassifier"
      ],
      "execution_count": null,
      "outputs": []
    },
    {
      "cell_type": "markdown",
      "metadata": {
        "id": "uJl73diwybEX"
      },
      "source": [
        "https://xgboost.readthedocs.io/en/latest/python/python_api.html?highlight=feature_importances_#xgboost.XGBClassifier.feature_importances_"
      ]
    },
    {
      "cell_type": "markdown",
      "metadata": {
        "id": "XOwvwus8hlQz"
      },
      "source": [
        "### base xgb model, with default hyperparameters"
      ]
    },
    {
      "cell_type": "code",
      "metadata": {
        "id": "ba4zlpI9ckVF"
      },
      "source": [
        "xgb_cl = xgb.XGBClassifier(objective='binary:logistic',eval_metric = 'auc')\n",
        "\n",
        "xgb_fit = xgb_cl.fit(X_train[cols], y_train)"
      ],
      "execution_count": null,
      "outputs": []
    },
    {
      "cell_type": "markdown",
      "metadata": {
        "id": "wnvS1o7CLE7b"
      },
      "source": [
        "In case of binary classification the evaluation metric can be changed to other defined metrics in the \"Parameter List\" like 'aucpr' or 'logloss'. Here one can also add a customized metric such as F-beta score"
      ]
    },
    {
      "cell_type": "code",
      "metadata": {
        "colab": {
          "base_uri": "https://localhost:8080/",
          "height": 627
        },
        "id": "YLuA512QhbCM",
        "outputId": "a8fd621c-879c-4b84-bee3-a2c578fa253a"
      },
      "source": [
        "feature_importance = xgb_cl.feature_importances_\n",
        "# make importances relative to max importance\n",
        "feature_importance = 100.0 * (feature_importance / feature_importance.max())\n",
        "sorted_idx = np.argsort(feature_importance)\n",
        "pos = np.arange(sorted_idx.shape[0]) + .5\n",
        "# plt.subplot(1, 2, 2)\n",
        "plt.figure(figsize=(8, 10))\n",
        "plt.barh(pos, feature_importance[sorted_idx], align='center')\n",
        "plt.yticks(pos, X_train[cols].keys()[sorted_idx])\n",
        "plt.xlabel('Relative Importance')\n",
        "plt.title('Variable Importance')\n",
        "plt.show()"
      ],
      "execution_count": null,
      "outputs": [
        {
          "output_type": "display_data",
          "data": {
            "image/png": "[encoded data removed]",
            "text/plain": [
              "<Figure size 576x720 with 1 Axes>"
            ]
          },
          "metadata": {
            "tags": []
          }
        }
      ]
    },
    {
      "cell_type": "code",
      "metadata": {
        "id": "kxGFbjVwkFek"
      },
      "source": [
        "pred_trn_xgb = xgb_fit.predict_proba(X_train[cols])\n",
        "pred_tst_xgb = xgb_fit.predict_proba(X_test[cols])\n",
        "\n",
        "pred_trn_xgb = pd.DataFrame(pred_trn_xgb)\n",
        "pred_tst_xgb = pd.DataFrame(pred_tst_xgb)"
      ],
      "execution_count": null,
      "outputs": []
    },
    {
      "cell_type": "code",
      "metadata": {
        "colab": {
          "base_uri": "https://localhost:8080/"
        },
        "id": "9L4YgSREkLr9",
        "outputId": "bd771f01-05ea-4ca1-b902-12eb7e09e33a"
      },
      "source": [
        "print(\"AUROC for Train is: \", roc_auc_score(y_train,pred_trn_xgb[1]))\n",
        "print(\"AUROC for Test is: \", roc_auc_score(y_test,pred_tst_xgb[1]))"
      ],
      "execution_count": null,
      "outputs": [
        {
          "output_type": "stream",
          "text": [
            "AUROC for Train is:  0.9460672858298971\n",
            "AUROC for Test is:  0.7142414860681114\n"
          ],
          "name": "stdout"
        }
      ]
    },
    {
      "cell_type": "markdown",
      "metadata": {
        "id": "10GaL8rNLkfS"
      },
      "source": [
        "### Hyperparameter optimization with random search cv\n",
        "\n",
        "\n"
      ]
    },
    {
      "cell_type": "code",
      "metadata": {
        "id": "mi1xVkZyV4Pr"
      },
      "source": [
        "import time\n",
        "\n",
        "import xgboost as xgb\n",
        "from sklearn.model_selection import RandomizedSearchCV\n",
        "from xgboost import XGBClassifier\n",
        "\n",
        "xgb_cl = XGBClassifier(missing = -999, scale_pos_weight=1)\n",
        "\n",
        "param_grid_xgb = {\n",
        "        'silent': [False],\n",
        "        'max_depth': [2,3,4,5],\n",
        "        'learning_rate': [0.001, 0.01,0.05, 0.1, 0.2],\n",
        "        'subsample': [0.5, 0.6, 0.7, 0.8],\n",
        "        'colsample_bytree': [0.2,0.4, 0.5, 0.6, 0.7],\n",
        "        'colsample_bylevel': [0.4, 0.5, 0.6, 0.7, 0.8],\n",
        "        'min_child_weight': [0.3,0.5, 1.0, 3.0, 5.0, 7.0, 10.0],\n",
        "        'gamma': [0, 0.25, 0.5, 1.0],\n",
        "        'reg_lambda': [0.01,0.05,0.1,0.5, 1.0, 5.0, 10.0, 50.0],\n",
        "        'reg_alpha':[0.01,0.05,0.1,0.5, 1.0, 5.0, 10.0, 50.0],\n",
        "        'n_estimators': [100,200,300.500]}\n"
      ],
      "execution_count": null,
      "outputs": []
    },
    {
      "cell_type": "markdown",
      "metadata": {
        "id": "Nl9nfZBJQNP8"
      },
      "source": [
        "**Hyperparameter Description:**\n",
        "\n",
        "        '**n_estimators**': Number of boosting stages to perform or simply no. of sequential trees to train\n",
        "        '**learning_rate**':  the shrinkage of tree contribution after the first tree\n",
        "        '**colsample_bytree**': Takes a default value of 1. Ranges from (0,1]. fraction of samples to be used for fitting the individual base learners/weak learners (here the shalllow trees). This happens while forming each new tree\n",
        "        '**colsample_bylevel**': This happens while forming each new level/depth of a tree\n",
        "        '**colsample_bynode**': This happens while forming new node in a tree\n",
        "        '**max_depth**' :  max depth each tree can grow upto\n",
        "        '**lambda**' : L2 regularization term on weights or  the vector of scores on leaves\n",
        "        '**alpha**' : L1 regularization term on weights or the vector of scores on leaves\n",
        "        '**gamma**' : Minimum loss reduction required to make a further partition on a leaf node of the tree. The larger gamma is, the more conservative the algorithm will be. Takes all values >= 0 (default value: 0). This is also known as min_split_loss, since it essentially regularizes no. of leaves\n",
        "        '**scale_pos_weight**' : Control the balance of positive and negative weights, useful for unbalanced classes. A typical value to consider: sum(negative instances) / sum(positive instances)\n",
        "\n"
      ]
    },
    {
      "cell_type": "markdown",
      "metadata": {
        "id": "2GF63hJUy-zt"
      },
      "source": [
        "https://stats.stackexchange.com/questions/317073/explanation-of-min-child-weight-in-xgboost-algorithm#:~:text=The%20definition%20of%20the%20min_child_weight,hessian)%20needed%20in%20a%20child.&text=In%20linear%20regression%20mode%2C%20this,conservative%20the%20algorithm%20will%20be."
      ]
    },
    {
      "cell_type": "code",
      "metadata": {
        "id": "d57GDYomWKvQ",
        "colab": {
          "base_uri": "https://localhost:8080/"
        },
        "outputId": "a32407c6-6956-4ad7-8725-b56a285fefb2"
      },
      "source": [
        "from sklearn.model_selection import StratifiedKFold\n",
        "folds =5\n",
        "skf = StratifiedKFold(n_splits=folds, shuffle = True, random_state = 42)\n",
        "xgb_cv = RandomizedSearchCV(xgb_cl, param_grid_xgb, n_iter=150,\n",
        "                            n_jobs=-1, verbose=2, cv=skf.split(X_train[cols], y_train),\n",
        "                            scoring='roc_auc', refit=False, random_state=42)  \n",
        "print(\"Randomized search..\")\n",
        "search_time_start = time.time() \n",
        "xgb_cv.fit(X_train[cols], y_train)\n",
        "print(\"Randomized search time:\", time.time() - search_time_start)\n",
        "\n",
        "best_score = xgb_cv.best_score_\n",
        "best_params = xgb_cv.best_params_\n",
        "print(\"Best score: {}\".format(best_score))\n",
        "print(\"Best params: \")\n",
        "for param_name in sorted(best_params.keys()):\n",
        "    print('%s: %r' % (param_name, best_params[param_name]))"
      ],
      "execution_count": null,
      "outputs": [
        {
          "output_type": "stream",
          "text": [
            "Randomized search..\n",
            "Fitting 5 folds for each of 150 candidates, totalling 750 fits\n"
          ],
          "name": "stdout"
        },
        {
          "output_type": "stream",
          "text": [
            "[Parallel(n_jobs=-1)]: Using backend LokyBackend with 2 concurrent workers.\n",
            "[Parallel(n_jobs=-1)]: Done 130 tasks      | elapsed:    4.1s\n"
          ],
          "name": "stderr"
        },
        {
          "output_type": "stream",
          "text": [
            "Randomized search time: 18.5747811794281\n",
            "Best score: 0.7708908021562019\n",
            "Best params: \n",
            "colsample_bylevel: 0.7\n",
            "colsample_bytree: 0.6\n",
            "gamma: 0.5\n",
            "learning_rate: 0.001\n",
            "max_depth: 4\n",
            "min_child_weight: 7.0\n",
            "n_estimators: 200\n",
            "reg_alpha: 0.05\n",
            "reg_lambda: 1.0\n",
            "silent: False\n",
            "subsample: 0.8\n"
          ],
          "name": "stdout"
        },
        {
          "output_type": "stream",
          "text": [
            "[Parallel(n_jobs=-1)]: Done 750 out of 750 | elapsed:   18.6s finished\n"
          ],
          "name": "stderr"
        }
      ]
    },
    {
      "cell_type": "code",
      "metadata": {
        "id": "zF_IuHYmYbIi"
      },
      "source": [
        "# fit model on training data using the best hyperparameters with tweaking a little bit\n",
        "model_xgb = XGBClassifier(max_depth=best_params['max_depth'] , learning_rate=best_params['learning_rate'], n_estimators=best_params['n_estimators'], verbosity=1, \n",
        "                      objective='binary:logistic', booster='gbtree', tree_method='auto', n_jobs=-1,\n",
        "                      eval_metric = 'auc',#num_class  = 2,\n",
        "                      gamma=best_params['gamma'], min_child_weight=best_params['min_child_weight'], \n",
        "                      subsample=best_params['subsample'], \n",
        "                      colsample_bytree= best_params['colsample_bytree'], colsample_bylevel=best_params['colsample_bylevel'] ,\n",
        "                      reg_alpha=0, reg_lambda=best_params['reg_lambda'], scale_pos_weight=1,  \n",
        "                      alpha  = best_params['reg_alpha'],\n",
        "                      base_score=0.5, random_state=42, missing=-999, num_parallel_tree=2, importance_type='gain')\n",
        "\n",
        "# model_xgb.fit(X_train[low_vif_vars], y_train)\n",
        "xgb_fit = model_xgb.fit(X_train[cols], y_train)"
      ],
      "execution_count": null,
      "outputs": []
    },
    {
      "cell_type": "code",
      "metadata": {
        "id": "sIwdIj4f5flz"
      },
      "source": [
        "pred_trn_xgb = xgb_fit.predict_proba(X_train[cols])\n",
        "pred_tst_xgb = xgb_fit.predict_proba(X_test[cols])\n",
        "\n",
        "pred_trn_xgb = pd.DataFrame(pred_trn_xgb)\n",
        "pred_tst_xgb = pd.DataFrame(pred_tst_xgb)"
      ],
      "execution_count": null,
      "outputs": []
    },
    {
      "cell_type": "code",
      "metadata": {
        "id": "-f46V1uJ6Iiu",
        "colab": {
          "base_uri": "https://localhost:8080/"
        },
        "outputId": "8a9857d1-9eee-44cd-f845-441f05d9d796"
      },
      "source": [
        "print(\"AUROC for Train is: \", roc_auc_score(y_train,pred_trn_xgb[1]))\n",
        "print(\"AUROC for Test is: \", roc_auc_score(y_test,pred_tst_xgb[1]))"
      ],
      "execution_count": null,
      "outputs": [
        {
          "output_type": "stream",
          "text": [
            "AUROC for Train is:  0.8460634321168446\n",
            "AUROC for Test is:  0.7250773993808051\n"
          ],
          "name": "stdout"
        }
      ]
    },
    {
      "cell_type": "markdown",
      "metadata": {
        "id": "ZqeU5WTCMvNx"
      },
      "source": [
        "### 2-Stage Hyperparameter Optimization"
      ]
    },
    {
      "cell_type": "code",
      "metadata": {
        "id": "3UNjuCRDPWIz"
      },
      "source": [
        "import time\n",
        "\n",
        "import xgboost as xgb\n",
        "from sklearn.model_selection import RandomizedSearchCV\n",
        "from xgboost import XGBClassifier\n",
        "\n",
        "xgb_cl = XGBClassifier(missing = -999, scale_pos_weight=1)\n",
        "\n",
        "param_grid_xgb = {\n",
        "        'silent': [False],\n",
        "        'max_depth': [2,3,4,5],\n",
        "        #'learning_rate': [0.001, 0.01,0.05, 0.1, 0.2],\n",
        "        'subsample': [0.5, 0.6, 0.7, 0.8],\n",
        "        'colsample_bytree': [0.2,0.4, 0.5, 0.6, 0.7,0.8],\n",
        "        'colsample_bylevel': [0.4, 0.5, 0.6, 0.7, 0.8],\n",
        "        'min_child_weight': [0.3,0.5, 1.0, 3.0, 5.0, 7.0, 10.0],\n",
        "        'gamma': [0, 0.25, 0.5, 1.0],\n",
        "        'reg_lambda': [0.01,0.05,0.1,0.5, 1.0, 5.0, 10.0, 50.0],\n",
        "        'reg_alpha':[0.01,0.05,0.1,0.5, 1.0, 5.0, 10.0, 50.0],\n",
        "     #   'n_estimators': [100,200,300.500]\n",
        "        }\n"
      ],
      "execution_count": null,
      "outputs": []
    },
    {
      "cell_type": "code",
      "metadata": {
        "colab": {
          "base_uri": "https://localhost:8080/"
        },
        "id": "h3T19VJ0PWLo",
        "outputId": "35f5b834-018d-42fe-9c97-f85ec3ebf71e"
      },
      "source": [
        "from sklearn.model_selection import StratifiedKFold\n",
        "folds =5\n",
        "skf = StratifiedKFold(n_splits=folds, shuffle = True, random_state = 42)\n",
        "xgb_cv = RandomizedSearchCV(xgb_cl, param_grid_xgb, n_iter=150,\n",
        "                            n_jobs=-1, verbose=2, cv=skf.split(X_train[cols], y_train),\n",
        "                            scoring='roc_auc', refit=False, random_state=42)  \n",
        "print(\"Randomized search..\")\n",
        "search_time_start = time.time() \n",
        "xgb_cv.fit(X_train[cols], y_train)\n",
        "print(\"Randomized search time:\", time.time() - search_time_start)\n",
        "\n",
        "best_score = xgb_cv.best_score_\n",
        "best_params = xgb_cv.best_params_\n",
        "print(\"Best score: {}\".format(best_score))\n",
        "print(\"Best params: \")\n",
        "for param_name in sorted(best_params.keys()):\n",
        "    print('%s: %r' % (param_name, best_params[param_name]))"
      ],
      "execution_count": null,
      "outputs": [
        {
          "output_type": "stream",
          "text": [
            "Randomized search..\n",
            "Fitting 5 folds for each of 150 candidates, totalling 750 fits\n"
          ],
          "name": "stdout"
        },
        {
          "output_type": "stream",
          "text": [
            "[Parallel(n_jobs=-1)]: Using backend LokyBackend with 2 concurrent workers.\n",
            "[Parallel(n_jobs=-1)]: Done 128 tasks      | elapsed:    3.3s\n",
            "[Parallel(n_jobs=-1)]: Done 612 tasks      | elapsed:   15.4s\n"
          ],
          "name": "stderr"
        },
        {
          "output_type": "stream",
          "text": [
            "Randomized search time: 18.60533118247986\n",
            "Best score: 0.7745705061032598\n",
            "Best params: \n",
            "colsample_bylevel: 0.4\n",
            "colsample_bytree: 0.6\n",
            "gamma: 0.5\n",
            "max_depth: 3\n",
            "min_child_weight: 5.0\n",
            "reg_alpha: 5.0\n",
            "reg_lambda: 10.0\n",
            "silent: False\n",
            "subsample: 0.8\n"
          ],
          "name": "stdout"
        },
        {
          "output_type": "stream",
          "text": [
            "[Parallel(n_jobs=-1)]: Done 750 out of 750 | elapsed:   18.6s finished\n"
          ],
          "name": "stderr"
        }
      ]
    },
    {
      "cell_type": "code",
      "metadata": {
        "id": "cUj7YTJoSBHc"
      },
      "source": [
        "## Stage 2: learning rate and n_estimator optimization\n",
        "import time\n",
        "from sklearn.model_selection import RandomizedSearchCV\n",
        "\n",
        "xgb1_1 = XGBClassifier(missing = -999, scale_pos_weight=1)\n",
        "\n",
        "param_grid_xgb_1 = {\n",
        "            'silent': [False],\n",
        "        'max_depth': [best_params['max_depth'], best_params['max_depth']],\n",
        "         'learning_rate': [0.001,0.01,0.02, 0.03, 0.05,0.08, 0.1],\n",
        "        'subsample': [best_params['subsample'], best_params['subsample']],\n",
        "        'colsample_bytree': [best_params['colsample_bytree'], best_params['colsample_bytree']],\n",
        "        'colsample_bylevel': [best_params['colsample_bylevel'], best_params['colsample_bylevel']],\n",
        "        'min_child_weight': [best_params['min_child_weight'], best_params['min_child_weight']],\n",
        "        'gamma': [best_params['gamma'], best_params['gamma']],\n",
        "        'reg_lambda': [best_params['reg_lambda'], best_params['reg_lambda']],\n",
        "        'reg_alpha':[best_params['reg_alpha'], best_params['reg_alpha']],\n",
        "        'n_estimators': [100,200,300,500,700,1000]\n",
        " \n",
        "}"
      ],
      "execution_count": null,
      "outputs": []
    },
    {
      "cell_type": "code",
      "metadata": {
        "colab": {
          "base_uri": "https://localhost:8080/"
        },
        "id": "62CJJjclSBKq",
        "outputId": "f980cc37-a223-41a1-ad4c-1fabe20d9cbd"
      },
      "source": [
        "from sklearn.model_selection import StratifiedKFold\n",
        "folds =5\n",
        "skf = StratifiedKFold(n_splits=folds, shuffle = True, random_state = 42)\n",
        "xgb_cv = RandomizedSearchCV(xgb_cl, param_grid_xgb_1, n_iter=150,\n",
        "                            n_jobs=-1, verbose=2, cv=skf.split(X_train[cols], y_train),\n",
        "                            scoring='roc_auc', refit=False, random_state=42)  \n",
        "print(\"Randomized search..\")\n",
        "search_time_start = time.time() \n",
        "xgb_cv.fit(X_train[cols], y_train)\n",
        "print(\"Randomized search time:\", time.time() - search_time_start)\n",
        "\n",
        "best_score = xgb_cv.best_score_\n",
        "best_params = xgb_cv.best_params_\n",
        "print(\"Best score: {}\".format(best_score))\n",
        "print(\"Best params: \")\n",
        "for param_name in sorted(best_params.keys()):\n",
        "    print('%s: %r' % (param_name, best_params[param_name]))"
      ],
      "execution_count": null,
      "outputs": [
        {
          "output_type": "stream",
          "text": [
            "Randomized search..\n",
            "Fitting 5 folds for each of 150 candidates, totalling 750 fits\n"
          ],
          "name": "stdout"
        },
        {
          "output_type": "stream",
          "text": [
            "[Parallel(n_jobs=-1)]: Using backend LokyBackend with 2 concurrent workers.\n",
            "[Parallel(n_jobs=-1)]: Done  46 tasks      | elapsed:    3.6s\n",
            "[Parallel(n_jobs=-1)]: Done 288 tasks      | elapsed:   22.4s\n",
            "[Parallel(n_jobs=-1)]: Done 694 tasks      | elapsed:   54.6s\n"
          ],
          "name": "stderr"
        },
        {
          "output_type": "stream",
          "text": [
            "Randomized search time: 58.19877004623413\n",
            "Best score: 0.7745705061032598\n",
            "Best params: \n",
            "colsample_bylevel: 0.4\n",
            "colsample_bytree: 0.6\n",
            "gamma: 0.5\n",
            "learning_rate: 0.1\n",
            "max_depth: 3\n",
            "min_child_weight: 5.0\n",
            "n_estimators: 100\n",
            "reg_alpha: 5.0\n",
            "reg_lambda: 10.0\n",
            "silent: False\n",
            "subsample: 0.8\n"
          ],
          "name": "stdout"
        },
        {
          "output_type": "stream",
          "text": [
            "[Parallel(n_jobs=-1)]: Done 747 out of 750 | elapsed:   58.1s remaining:    0.2s\n",
            "[Parallel(n_jobs=-1)]: Done 750 out of 750 | elapsed:   58.2s finished\n"
          ],
          "name": "stderr"
        }
      ]
    },
    {
      "cell_type": "code",
      "metadata": {
        "id": "OJgR9rNmPWO1"
      },
      "source": [
        "# fit model on training data using the best hyperparameters with tweaking a little bit\n",
        "model_xgb = XGBClassifier(max_depth=best_params['max_depth'] ,  verbosity=1,  learning_rate=best_params['learning_rate'], n_estimators=best_params['n_estimators'],\n",
        "                      objective='binary:logistic', booster='gbtree', tree_method='auto', n_jobs=-1,\n",
        "                      eval_metric = 'auc',# num_class  = 2,\n",
        "                      gamma=best_params['gamma'], min_child_weight=best_params['min_child_weight'], \n",
        "                      subsample=best_params['subsample'], \n",
        "                      colsample_bytree= best_params['colsample_bytree'], colsample_bylevel=best_params['colsample_bylevel'] ,\n",
        "                      reg_alpha=0, reg_lambda=best_params['reg_lambda'], scale_pos_weight=1,  \n",
        "                      alpha  = best_params['reg_alpha'],\n",
        "                      base_score=0.5, random_state=42, missing=-999, num_parallel_tree=2, importance_type='gain')\n",
        "# \n",
        "# model_xgb.fit(X_train[low_vif_vars], y_train)\n",
        "xgb_fit = model_xgb.fit(X_train[cols], y_train)"
      ],
      "execution_count": null,
      "outputs": []
    },
    {
      "cell_type": "code",
      "metadata": {
        "colab": {
          "base_uri": "https://localhost:8080/",
          "height": 627
        },
        "id": "FAQU8-Z_PWQ5",
        "outputId": "37802580-ca7d-42c2-c8f3-ed561a302780"
      },
      "source": [
        "feature_importance = xgb_fit.feature_importances_\n",
        "# make importances relative to max importance\n",
        "feature_importance = 100.0 * (feature_importance / feature_importance.max())\n",
        "sorted_idx = np.argsort(feature_importance)\n",
        "pos = np.arange(sorted_idx.shape[0]) + .5\n",
        "# plt.subplot(1, 2, 2)\n",
        "plt.figure(figsize=(8, 10))\n",
        "plt.barh(pos, feature_importance[sorted_idx], align='center')\n",
        "plt.yticks(pos, X_train[cols].keys()[sorted_idx])\n",
        "plt.xlabel('Relative Importance')\n",
        "plt.title('Variable Importance')\n",
        "plt.show()"
      ],
      "execution_count": null,
      "outputs": [
        {
          "output_type": "display_data",
          "data": {
            "image/png": "[encoded data removed]",
            "text/plain": [
              "<Figure size 576x720 with 1 Axes>"
            ]
          },
          "metadata": {
            "tags": []
          }
        }
      ]
    },
    {
      "cell_type": "code",
      "metadata": {
        "id": "YsKwgX4XP_kX"
      },
      "source": [
        "pred_trn_xgb = xgb_fit.predict_proba(X_train[cols])\n",
        "pred_tst_xgb = xgb_fit.predict_proba(X_test[cols])\n",
        "\n",
        "pred_trn_xgb = pd.DataFrame(pred_trn_xgb)\n",
        "pred_tst_xgb = pd.DataFrame(pred_tst_xgb)"
      ],
      "execution_count": null,
      "outputs": []
    },
    {
      "cell_type": "code",
      "metadata": {
        "colab": {
          "base_uri": "https://localhost:8080/"
        },
        "id": "g3wI40YKQSih",
        "outputId": "a17d4d99-fb1d-4274-9014-69e67434218f"
      },
      "source": [
        "print(\"AUROC for Train is: \", roc_auc_score(y_train,pred_trn_xgb[1]))\n",
        "print(\"AUROC for Test is: \", roc_auc_score(y_test,pred_tst_xgb[1]))"
      ],
      "execution_count": null,
      "outputs": [
        {
          "output_type": "stream",
          "text": [
            "AUROC for Train is:  0.8689352190835872\n",
            "AUROC for Test is:  0.7411764705882353\n"
          ],
          "name": "stdout"
        }
      ]
    },
    {
      "cell_type": "code",
      "metadata": {
        "id": "Qy9kwzMjQUeX"
      },
      "source": [
        "############################################################################################"
      ],
      "execution_count": null,
      "outputs": []
    },
    {
      "cell_type": "code",
      "metadata": {
        "id": "UVs9wRShB4iO"
      },
      "source": [
        "y= y_train"
      ],
      "execution_count": null,
      "outputs": []
    },
    {
      "cell_type": "code",
      "metadata": {
        "id": "SR2kREJEB7U6"
      },
      "source": [
        "X = X_train[['Credit_History','LoanAmount_Income']]"
      ],
      "execution_count": null,
      "outputs": []
    },
    {
      "cell_type": "code",
      "metadata": {
        "colab": {
          "base_uri": "https://localhost:8080/"
        },
        "id": "BBN7J6QhB2y5",
        "outputId": "c591ca3f-7582-434a-9c8b-f6bccae85b48"
      },
      "source": [
        "m = xgb.XGBClassifier(max_depth=1, n_estimators=2).fit(X, y)\n",
        "m.get_booster().get_dump()"
      ],
      "execution_count": null,
      "outputs": [
        {
          "output_type": "execute_result",
          "data": {
            "text/plain": [
              "['0:[Credit_History<0.5] yes=1,no=2,missing=1\\n\\t1:leaf=-0.0727272779\\n\\t2:leaf=0.114652954\\n',\n",
              " '0:[Credit_History<0.5] yes=1,no=2,missing=1\\n\\t1:leaf=-0.0658058748\\n\\t2:leaf=0.103654362\\n']"
            ]
          },
          "metadata": {
            "tags": []
          },
          "execution_count": 147
        }
      ]
    },
    {
      "cell_type": "code",
      "metadata": {
        "id": "9HIh2R8KC1Oy"
      },
      "source": [
        "# m.get_booster().dump_model(\"out.txt\")"
      ],
      "execution_count": null,
      "outputs": []
    },
    {
      "cell_type": "markdown",
      "metadata": {
        "id": "RKsUfTAcyL5t"
      },
      "source": [
        "https://datascience.stackexchange.com/questions/57905/how-to-extract-trees-in-xgboost"
      ]
    },
    {
      "cell_type": "markdown",
      "metadata": {
        "id": "oe-dHs5aymMz"
      },
      "source": [
        "https://stackoverflow.com/questions/37677496/how-to-get-access-of-individual-trees-of-a-xgboost-model-in-python-r"
      ]
    },
    {
      "cell_type": "code",
      "metadata": {
        "id": "iVr4hgFeDraw"
      },
      "source": [
        "1/(1+exp(-0.72 + 0.1*-0.065)*(-1)) = prob"
      ],
      "execution_count": null,
      "outputs": []
    },
    {
      "cell_type": "markdown",
      "metadata": {
        "id": "JB3zr8Ec95za"
      },
      "source": [
        "https://stackoverflow.com/questions/37213270/weight-calculation-of-individual-tree-in-xgboost-when-using-binarylogistic"
      ]
    }
  ]
}